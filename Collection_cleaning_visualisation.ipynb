{
 "cells": [
  {
   "cell_type": "code",
   "execution_count": 113,
   "id": "87de6fd7-012f-48d4-b791-e7c14742abea",
   "metadata": {},
   "outputs": [],
   "source": [
    "import imp\n",
    "import classes\n",
    "import plotly.express as px\n",
    "imp.reload(classes)\n",
    "import matplotlib.pyplot as plt "
   ]
  },
  {
   "cell_type": "code",
   "execution_count": 58,
   "id": "04466958",
   "metadata": {},
   "outputs": [],
   "source": [
    "jobs_to_scrape = ['Data Analyst', 'Data Scientist', 'Data Engineer']\n",
    "scraping = classes.ReedJobScraper(jobs_to_scrape)"
   ]
  },
  {
   "cell_type": "code",
   "execution_count": 48,
   "id": "6f318892",
   "metadata": {},
   "outputs": [
    {
     "name": "stdout",
     "output_type": "stream",
     "text": [
      "Data Analyst page 1 collected\n",
      "Data Analyst page 2 collected\n",
      "Data Analyst page 3 collected\n",
      "Data Analyst page 4 collected\n",
      "Data Analyst page 5 collected\n",
      "Data Analyst page 6 collected\n",
      "Data Analyst page 7 collected\n",
      "Data Analyst page 8 collected\n",
      "Data Analyst page 9 collected\n",
      "Data Analyst page 10 collected\n",
      "Data Analyst page 11 collected\n",
      "Data Analyst page 12 collected\n",
      "Data Analyst page 13 collected\n",
      "Data Analyst page 14 collected\n",
      "Data Analyst page 15 collected\n",
      "Data Analyst page 16 collected\n",
      "Data Analyst page 17 collected\n",
      "Data Analyst page 18 collected\n",
      "Data Analyst page 19 collected\n",
      "Data Analyst page 20 collected\n",
      "Data Analyst page 21 collected\n",
      "Data Analyst page 22 collected\n",
      "Data Analyst page 23 collected\n",
      "Data Analyst page 24 collected\n",
      "Data Analyst page 25 collected\n",
      "Data Analyst page 26 collected\n",
      "Data Analyst page 27 collected\n",
      "Data Analyst page 28 collected\n",
      "Data Analyst page 29 collected\n",
      "Data Analyst page 30 collected\n",
      "Data Analyst page 31 collected\n",
      "Data Analyst page 32 collected\n",
      "Data Analyst page 33 collected\n",
      "Data Analyst page 34 collected\n",
      "Data Analyst page 35 collected\n",
      "Data Analyst page 36 collected\n",
      "Data Analyst page 37 collected\n",
      "Data Analyst page 38 collected\n",
      "Data Analyst page 39 collected\n",
      "Data Analyst page 40 collected\n",
      "Data Analyst page 41 collected\n",
      "Data Analyst page 42 collected\n",
      "Data Analyst page 43 collected\n",
      "Data Analyst page 44 collected\n",
      "Data Analyst page 45 collected\n",
      "Data Analyst page 46 collected\n",
      "Data Analyst page 47 collected\n",
      "Data Analyst page 48 collected\n",
      "Data Analyst page 49 collected\n",
      "Data Analyst page 50 collected\n",
      "Data Analyst page 51 collected\n",
      "Data Analyst page 52 collected\n",
      "Data Analyst page 53 collected\n",
      "Data Analyst page 54 collected\n",
      "Data Analyst page 55 collected\n",
      "Data Analyst page 56 collected\n",
      "Data Analyst page 57 collected\n",
      "Data Analyst page 58 collected\n",
      "Data Analyst page 59 collected\n",
      "Data Analyst page 60 collected\n",
      "Data Analyst page 61 collected\n",
      "Data Analyst page 62 collected\n",
      "Data Analyst page 63 collected\n",
      "Data Analyst page 64 collected\n",
      "Data Analyst page 65 collected\n",
      "Data Analyst page 66 collected\n",
      "Data Analyst page 67 collected\n",
      "Data Analyst page 68 collected\n",
      "Data Analyst page 69 collected\n",
      "Data Analyst page 70 collected\n",
      "Data Analyst page 71 collected\n",
      "Data Analyst page 72 collected\n",
      "Data Analyst page 73 collected\n",
      "Data Analyst page 74 collected\n",
      "Data Analyst page 75 collected\n",
      "Data Analyst page 76 collected\n",
      "Data Analyst page 77 collected\n",
      "Data Analyst page 78 collected\n",
      "Data Analyst page 79 collected\n",
      "Data Analyst page 80 collected\n",
      "Data Analyst page 81 collected\n",
      "Data Analyst page 82 collected\n",
      "Data Analyst page 83 collected\n",
      "Data Analyst page 84 collected\n",
      "Data Analyst page 85 collected\n",
      "Data Analyst page 86 collected\n",
      "Data Analyst page 87 collected\n",
      "Data Analyst page 88 collected\n",
      "Data Analyst page 89 collected\n",
      "Data Analyst page 90 collected\n",
      "Data Analyst page 91 collected\n",
      "Data Analyst page 92 collected\n",
      "Data Analyst page 93 collected\n",
      "Data Analyst page 94 collected\n",
      "Data Analyst page 95 collected\n",
      "Data Analyst page 96 collected\n",
      "Data Analyst page 97 collected\n",
      "Data Analyst page 98 collected\n",
      "Data Analyst page 99 collected\n",
      "Data Analyst page 100 collected\n",
      "Data Analyst page 101 collected\n",
      "Data Analyst page 102 collected\n",
      "Data Analyst page 103 collected\n",
      "Data Analyst page 104 collected\n",
      "Data Analyst page 105 collected\n",
      "Data Analyst page 106 collected\n",
      "Data Analyst page 107 collected\n",
      "Data Analyst page 108 collected\n",
      "Data Analyst page 109 collected\n",
      "Data Analyst page 110 collected\n",
      "Data Analyst page 111 collected\n",
      "Data Analyst page 112 collected\n",
      "Data Analyst page 113 collected\n",
      "Data Analyst page 114 collected\n",
      "Data Analyst page 115 collected\n",
      "Data Analyst page 116 collected\n",
      "Data Analyst page 117 collected\n",
      "Data Analyst page 118 collected\n",
      "Data Analyst page 119 collected\n",
      "Data Analyst page 120 collected\n",
      "Data Analyst page 121 collected\n",
      "Data Analyst page 122 collected\n",
      "Data Analyst page 123 collected\n",
      "Data Analyst page 124 collected\n",
      "Data Analyst page 125 collected\n",
      "Data Analyst page 126 collected\n",
      "Data Analyst page 127 collected\n",
      "Data Analyst page 128 collected\n",
      "Data Analyst page 129 collected\n",
      "Data Analyst page 130 collected\n",
      "Data Analyst page 131 collected\n",
      "Data Analyst page 132 collected\n",
      "Data Analyst page 133 collected\n",
      "Data Analyst page 134 collected\n",
      "Data Analyst page 135 collected\n",
      "Data Analyst page 136 collected\n",
      "Data Analyst page 137 collected\n",
      "Data Analyst page 138 collected\n",
      "Data Analyst page 139 collected\n",
      "Data Analyst page 140 collected\n",
      "Data Analyst page 141 collected\n",
      "Data Analyst page 142 collected\n",
      "Data Analyst page 143 collected\n",
      "Data Analyst page 144 collected\n",
      "Data Analyst page 145 collected\n",
      "Data Analyst page 146 collected\n",
      "Data Analyst page 147 collected\n",
      "Data Analyst page 148 collected\n",
      "Data Analyst page 149 collected\n",
      "Data Analyst page 150 collected\n",
      "Data Analyst page 151 collected\n",
      "Data Analyst page 152 collected\n",
      "Data Analyst page 153 collected\n",
      "Data Analyst page 154 collected\n",
      "Data Analyst page 155 collected\n",
      "Data Analyst page 156 collected\n",
      "Data Analyst page 157 collected\n",
      "Data Analyst page 158 collected\n",
      "Data Analyst page 159 collected\n",
      "Data Analyst page 160 collected\n",
      "Data Analyst page 161 collected\n",
      "Data Analyst page 162 collected\n",
      "Data Analyst page 163 collected\n",
      "Data Analyst page 164 collected\n",
      "Data Analyst page 165 collected\n",
      "Data Analyst page 166 collected\n",
      "Data Analyst page 167 collected\n",
      "Data Analyst page 168 collected\n",
      "Data Analyst page 169 collected\n",
      "Data Analyst page 170 collected\n",
      "Data Analyst page 171 collected\n",
      "Data Analyst page 172 collected\n",
      "Data Analyst page 173 collected\n",
      "Data Analyst page 174 collected\n",
      "Data Analyst page 175 collected\n",
      "Data Analyst page 176 collected\n",
      "Data Analyst page 177 collected\n",
      "Data Analyst page 178 collected\n",
      "Data Analyst page 179 collected\n",
      "Data Analyst page 180 collected\n",
      "Data Analyst page 181 collected\n",
      "Data Analyst page 182 collected\n",
      "Data Analyst page 183 collected\n",
      "Data Analyst page 184 collected\n",
      "Data Analyst page 185 collected\n",
      "Data Analyst page 186 collected\n",
      "Data Analyst page 187 collected\n",
      "Data Analyst page 188 collected\n",
      "Data Analyst page 189 collected\n",
      "Data Analyst page 190 collected\n",
      "Data Analyst page 191 collected\n",
      "Data Analyst page 192 collected\n",
      "Data Analyst page 193 collected\n",
      "Data Analyst page 194 collected\n",
      "Data Analyst page 195 collected\n",
      "Data Analyst page 196 collected\n",
      "Data Analyst page 197 collected\n",
      "Data Analyst page 198 collected\n",
      "Data Analyst page 199 collected\n",
      "Data Analyst page 200 collected\n",
      "Data Scientist page 1 collected\n",
      "Data Scientist page 2 collected\n",
      "Data Scientist page 3 collected\n",
      "Data Scientist page 4 collected\n",
      "Data Scientist page 5 collected\n",
      "Data Scientist page 6 collected\n",
      "Data Scientist page 7 collected\n",
      "Data Scientist page 8 collected\n",
      "Data Scientist page 9 collected\n",
      "Data Scientist page 10 collected\n",
      "Data Scientist page 11 collected\n",
      "Data Scientist page 12 collected\n",
      "Data Scientist page 13 collected\n",
      "Data Scientist page 14 collected\n",
      "Data Scientist page 15 collected\n",
      "Data Scientist page 16 collected\n",
      "Data Scientist page 17 collected\n",
      "Data Scientist page 18 collected\n",
      "Data Scientist page 19 collected\n",
      "Data Scientist page 20 collected\n",
      "Data Scientist page 21 collected\n",
      "Data Scientist page 22 collected\n",
      "Data Scientist page 23 collected\n",
      "Data Scientist page 24 collected\n",
      "Data Engineer page 1 collected\n",
      "Data Engineer page 2 collected\n",
      "Data Engineer page 3 collected\n",
      "Data Engineer page 4 collected\n",
      "Data Engineer page 5 collected\n",
      "Data Engineer page 6 collected\n",
      "Data Engineer page 7 collected\n",
      "Data Engineer page 8 collected\n",
      "Data Engineer page 9 collected\n",
      "Data Engineer page 10 collected\n",
      "Data Engineer page 11 collected\n",
      "Data Engineer page 12 collected\n",
      "Data Engineer page 13 collected\n",
      "Data Engineer page 14 collected\n",
      "Data Engineer page 15 collected\n",
      "Data Engineer page 16 collected\n",
      "Data Engineer page 17 collected\n",
      "Data Engineer page 18 collected\n",
      "Data Engineer page 19 collected\n",
      "Data Engineer page 20 collected\n",
      "Data Engineer page 21 collected\n",
      "Data Engineer page 22 collected\n",
      "Data Engineer page 23 collected\n",
      "Data Engineer page 24 collected\n",
      "Data Engineer page 25 collected\n",
      "Data Engineer page 26 collected\n",
      "Data Engineer page 27 collected\n",
      "Data Engineer page 28 collected\n",
      "Data Engineer page 29 collected\n",
      "Data Engineer page 30 collected\n",
      "Data Engineer page 31 collected\n",
      "Data Engineer page 32 collected\n",
      "Data Engineer page 33 collected\n",
      "Data Engineer page 34 collected\n",
      "Data Engineer page 35 collected\n",
      "Data Engineer page 36 collected\n"
     ]
    },
    {
     "name": "stdout",
     "output_type": "stream",
     "text": [
      "Data Engineer page 37 collected\n",
      "Data Engineer page 38 collected\n",
      "Data Engineer page 39 collected\n",
      "Data Engineer page 40 collected\n",
      "Data Engineer page 41 collected\n",
      "Data Engineer page 42 collected\n",
      "Data Engineer page 43 collected\n",
      "Data Engineer page 44 collected\n",
      "Data Engineer page 45 collected\n",
      "Data Engineer page 46 collected\n",
      "Data Engineer page 47 collected\n",
      "Data Engineer page 48 collected\n",
      "Data Engineer page 49 collected\n",
      "Data Engineer page 50 collected\n",
      "Data Engineer page 51 collected\n",
      "Data Engineer page 52 collected\n",
      "Data Engineer page 53 collected\n",
      "Data Engineer page 54 collected\n",
      "Data Engineer page 55 collected\n",
      "Data Engineer page 56 collected\n",
      "Data Engineer page 57 collected\n",
      "Data Engineer page 58 collected\n",
      "Data Engineer page 59 collected\n",
      "Data Engineer page 60 collected\n",
      "Data Engineer page 61 collected\n",
      "Data Engineer page 62 collected\n",
      "Data Engineer page 63 collected\n",
      "Data Engineer page 64 collected\n",
      "Data Engineer page 65 collected\n",
      "Data Engineer page 66 collected\n",
      "Data Engineer page 67 collected\n",
      "Data Engineer page 68 collected\n",
      "Data Engineer page 69 collected\n",
      "Data Engineer page 70 collected\n",
      "Data Engineer page 71 collected\n",
      "Data Engineer page 72 collected\n",
      "Data Engineer page 73 collected\n",
      "Data Engineer page 74 collected\n",
      "Data Engineer page 75 collected\n",
      "Data Engineer page 76 collected\n",
      "Data Engineer page 77 collected\n",
      "Data Engineer page 78 collected\n",
      "Data Engineer page 79 collected\n",
      "Data Engineer page 80 collected\n",
      "Data Engineer page 81 collected\n",
      "Data Engineer page 82 collected\n",
      "Data Engineer page 83 collected\n",
      "Data Engineer page 84 collected\n",
      "Data Engineer page 85 collected\n",
      "Data Engineer page 86 collected\n",
      "Data Engineer page 87 collected\n",
      "Data Engineer page 88 collected\n",
      "Data Engineer page 89 collected\n",
      "Data Engineer page 90 collected\n",
      "Data Engineer page 91 collected\n",
      "Data Engineer page 92 collected\n",
      "Data Engineer page 93 collected\n",
      "Data Engineer page 94 collected\n",
      "Data Engineer page 95 collected\n",
      "Data Engineer page 96 collected\n",
      "Data Engineer page 97 collected\n",
      "Data Engineer page 98 collected\n",
      "Data Engineer page 99 collected\n",
      "Data Engineer page 100 collected\n",
      "Data Engineer page 101 collected\n",
      "Data Engineer page 102 collected\n",
      "Data Engineer page 103 collected\n",
      "Data Engineer page 104 collected\n",
      "Data Engineer page 105 collected\n",
      "Data Engineer page 106 collected\n",
      "Data Engineer page 107 collected\n",
      "Data Engineer page 108 collected\n",
      "Data Engineer page 109 collected\n",
      "Data Engineer page 110 collected\n",
      "Data Engineer page 111 collected\n",
      "Data Engineer page 112 collected\n",
      "Data Engineer page 113 collected\n",
      "Data Engineer page 114 collected\n",
      "Data Engineer page 115 collected\n",
      "Data Engineer page 116 collected\n",
      "Data Engineer page 117 collected\n",
      "Data Engineer page 118 collected\n",
      "Data Engineer page 119 collected\n",
      "Data Engineer page 120 collected\n",
      "Data Engineer page 121 collected\n",
      "Data Engineer page 122 collected\n",
      "Data Engineer page 123 collected\n",
      "Data Engineer page 124 collected\n",
      "Data Engineer page 125 collected\n",
      "Data Engineer page 126 collected\n",
      "Data Engineer page 127 collected\n",
      "Data Engineer page 128 collected\n",
      "Data Engineer page 129 collected\n",
      "Data Engineer page 130 collected\n",
      "Data Engineer page 131 collected\n",
      "Data Engineer page 132 collected\n",
      "Data Engineer page 133 collected\n",
      "Data Engineer page 134 collected\n",
      "Data Engineer page 135 collected\n",
      "Data Engineer page 136 collected\n",
      "Data Engineer page 137 collected\n",
      "Data Engineer page 138 collected\n",
      "Data Engineer page 139 collected\n",
      "Data Engineer page 140 collected\n",
      "Data Engineer page 141 collected\n",
      "Data Engineer page 142 collected\n",
      "Data Engineer page 143 collected\n",
      "Data Engineer page 144 collected\n",
      "Data Engineer page 145 collected\n",
      "Data Engineer page 146 collected\n",
      "Data Engineer page 147 collected\n",
      "Data Engineer page 148 collected\n",
      "Data Engineer page 149 collected\n",
      "Data Engineer page 150 collected\n",
      "Data Engineer page 151 collected\n",
      "Data Engineer page 152 collected\n",
      "Data Engineer page 153 collected\n",
      "Data Engineer page 154 collected\n",
      "Data Engineer page 155 collected\n",
      "Data Engineer page 156 collected\n",
      "Data Engineer page 157 collected\n",
      "Data Engineer page 158 collected\n",
      "Data Engineer page 159 collected\n",
      "Data Engineer page 160 collected\n",
      "Data Engineer page 161 collected\n",
      "Data Engineer page 162 collected\n",
      "Data Engineer page 163 collected\n",
      "Data Engineer page 164 collected\n",
      "Data Engineer page 165 collected\n",
      "Data Engineer page 166 collected\n",
      "Data Engineer page 167 collected\n",
      "Data Engineer page 168 collected\n",
      "Data Engineer page 169 collected\n",
      "Data Engineer page 170 collected\n",
      "Data Engineer page 171 collected\n",
      "Data Engineer page 172 collected\n",
      "Data Engineer page 173 collected\n",
      "Data Engineer page 174 collected\n",
      "Data Engineer page 175 collected\n",
      "Data Engineer page 176 collected\n",
      "Data Engineer page 177 collected\n",
      "Data Engineer page 178 collected\n",
      "Data Engineer page 179 collected\n",
      "Data Engineer page 180 collected\n",
      "Data Engineer page 181 collected\n",
      "Data Engineer page 182 collected\n",
      "Data Engineer page 183 collected\n",
      "Data Engineer page 184 collected\n",
      "Data Engineer page 185 collected\n",
      "Data Engineer page 186 collected\n",
      "Data Engineer page 187 collected\n",
      "Data Engineer page 188 collected\n",
      "Data Engineer page 189 collected\n",
      "Data Engineer page 190 collected\n",
      "Data Engineer page 191 collected\n",
      "Data Engineer page 192 collected\n",
      "Data Engineer page 193 collected\n",
      "Data Engineer page 194 collected\n",
      "Data Engineer page 195 collected\n",
      "Data Engineer page 196 collected\n",
      "Data Engineer page 197 collected\n",
      "Data Engineer page 198 collected\n",
      "Data Engineer page 199 collected\n",
      "Data Engineer page 200 collected\n",
      "Data Engineer page 201 collected\n"
     ]
    },
    {
     "data": {
      "text/plain": [
       "{'Data Analyst':                                                 title             data_gtm  \\\n",
       " 0                                        Data Analyst  sponsored_job_click   \n",
       " 1                                        Data Analyst  sponsored_job_click   \n",
       " 2                                        Data Analyst            job_click   \n",
       " 3                                        Data Analyst            job_click   \n",
       " 4                                        Data Analyst            job_click   \n",
       " ..                                                ...                  ...   \n",
       " 1                                        Data Analyst  sponsored_job_click   \n",
       " 2   Finance - VP - Valuation Control Lead Analyst,...            job_click   \n",
       " 3   Lead Analyst, Anti Money Laundering/Prevention...            job_click   \n",
       " 4   Credit Analyst - Structured Finance - AVP - Gl...            job_click   \n",
       " 5   Institutional Credit Management In-Business Wh...            job_click   \n",
       " \n",
       "      data_id                                               link  page  \n",
       " 0   49600634  /jobs/data-analyst/49600634?source=searchResul...     1  \n",
       " 1   49811004  /jobs/data-analyst/49811004?source=searchResul...     1  \n",
       " 2   49690594  /jobs/data-analyst/49690594?source=searchResul...     1  \n",
       " 3   49633648  /jobs/data-analyst/49633648?source=searchResul...     1  \n",
       " 4   49494946  /jobs/data-analyst/49494946?source=searchResul...     1  \n",
       " ..       ...                                                ...   ...  \n",
       " 1   49811004  /jobs/data-analyst/49811004?source=searchResul...   200  \n",
       " 2   49816406  /jobs/finance-vp-valuation-control-lead-analys...   200  \n",
       " 3   49808165  /jobs/lead-analyst-anti-money-laundering-preve...   200  \n",
       " 4   49805682  /jobs/credit-analyst-structured-finance-avp-gl...   200  \n",
       " 5   49816410  /jobs/institutional-credit-management-in-busin...   200  \n",
       " \n",
       " [5379 rows x 5 columns],\n",
       " 'Data Scientist':                                                 title             data_gtm  \\\n",
       " 0                                      Data Scientist  sponsored_job_click   \n",
       " 1                                      Data Scientist            job_click   \n",
       " 2                                      Data Scientist            job_click   \n",
       " 3                                      Data Scientist            job_click   \n",
       " 4                                      Data Scientist            job_click   \n",
       " ..                                                ...                  ...   \n",
       " 5   Healthcare Scientist Practitioner - Virology /...            job_click   \n",
       " 6   Biomedical Scientist / Laboratory Safety Offic...            job_click   \n",
       " 7      Senior Climate Change Scientist (Research Gap)            job_click   \n",
       " 8    Senior Climate Change Scientist- Local Authority            job_click   \n",
       " 9        Biomedical Scientist Lab IT Lead Band 7- BMS            job_click   \n",
       " \n",
       "      data_id                                               link  page  \n",
       " 0   49649777  /jobs/data-scientist/49649777?source=searchRes...     1  \n",
       " 1   49664623  /jobs/data-scientist/49664623?source=searchRes...     1  \n",
       " 2   49465890  /jobs/data-scientist/49465890?source=searchRes...     1  \n",
       " 3   49673686  /jobs/data-scientist/49673686?source=searchRes...     1  \n",
       " 4   49815281  /jobs/data-scientist/49815281?source=searchRes...     1  \n",
       " ..       ...                                                ...   ...  \n",
       " 5   49791261  /jobs/healthcare-scientist-practitioner-virolo...    24  \n",
       " 6   49776862  /jobs/biomedical-scientist-laboratory-safety-o...    24  \n",
       " 7   49799404  /jobs/senior-climate-change-scientist-research...    24  \n",
       " 8   49800231  /jobs/senior-climate-change-scientist-local-au...    24  \n",
       " 9   49671259  /jobs/biomedical-scientist-lab-it-lead-band-7-...    24  \n",
       " \n",
       " [608 rows x 5 columns],\n",
       " 'Data Engineer':                                                 title             data_gtm  \\\n",
       " 0                                       Data Engineer  sponsored_job_click   \n",
       " 1                                       Data Engineer  sponsored_job_click   \n",
       " 2                                       Data Engineer            job_click   \n",
       " 3                                      Data Engineer             job_click   \n",
       " 4                                       Data Engineer            job_click   \n",
       " ..                                                ...                  ...   \n",
       " 6   Systems Engineer: Seeker Modelling and Simulation            job_click   \n",
       " 7   Senior C++ Software Engineer- Tech-Driven Prop...            job_click   \n",
       " 8   IT Project Engineer for Industrial Information...            job_click   \n",
       " 9   DevOps Engineer - Must have good Development S...            job_click   \n",
       " 10  DevOps Engineer - Global FINTECH - CI/CD / CIT...            job_click   \n",
       " \n",
       "      data_id                                               link  page  \n",
       " 0   49789228  /jobs/data-engineer/49789228?source=searchResu...     1  \n",
       " 1   49791077  /jobs/data-engineer/49791077?source=searchResu...     1  \n",
       " 2   49287307  /jobs/data-engineer/49287307?source=searchResu...     1  \n",
       " 3   49796452  /jobs/data-engineer/49796452?source=searchResu...     1  \n",
       " 4   49669770  /jobs/data-engineer/49669770?source=searchResu...     1  \n",
       " ..       ...                                                ...   ...  \n",
       " 6   45885554  /jobs/systems-engineer-seeker-modelling-and-si...   201  \n",
       " 7   49806284  /jobs/senior-c-software-engineer-tech-driven-p...   201  \n",
       " 8   49279240  /jobs/it-project-engineer-for-industrial-infor...   201  \n",
       " 9   49625258  /jobs/devops-engineer-must-have-good-developme...   201  \n",
       " 10  49555533  /jobs/devops-engineer-global-fintech-ci-cd-cit...   201  \n",
       " \n",
       " [5411 rows x 5 columns]}"
      ]
     },
     "execution_count": 48,
     "metadata": {},
     "output_type": "execute_result"
    }
   ],
   "source": [
    "scraping.collect_all()"
   ]
  },
  {
   "cell_type": "code",
   "execution_count": 51,
   "id": "8aeb7e74",
   "metadata": {},
   "outputs": [
    {
     "data": {
      "text/html": [
       "<div>\n",
       "<style scoped>\n",
       "    .dataframe tbody tr th:only-of-type {\n",
       "        vertical-align: middle;\n",
       "    }\n",
       "\n",
       "    .dataframe tbody tr th {\n",
       "        vertical-align: top;\n",
       "    }\n",
       "\n",
       "    .dataframe thead th {\n",
       "        text-align: right;\n",
       "    }\n",
       "</style>\n",
       "<table border=\"1\" class=\"dataframe\">\n",
       "  <thead>\n",
       "    <tr style=\"text-align: right;\">\n",
       "      <th></th>\n",
       "      <th>title</th>\n",
       "      <th>data_gtm</th>\n",
       "      <th>data_id</th>\n",
       "      <th>link</th>\n",
       "      <th>page</th>\n",
       "    </tr>\n",
       "  </thead>\n",
       "  <tbody>\n",
       "    <tr>\n",
       "      <th>0</th>\n",
       "      <td>Data Analyst</td>\n",
       "      <td>sponsored_job_click</td>\n",
       "      <td>49600634</td>\n",
       "      <td>/jobs/data-analyst/49600634?source=searchResul...</td>\n",
       "      <td>1</td>\n",
       "    </tr>\n",
       "    <tr>\n",
       "      <th>1</th>\n",
       "      <td>Data Analyst</td>\n",
       "      <td>sponsored_job_click</td>\n",
       "      <td>49811004</td>\n",
       "      <td>/jobs/data-analyst/49811004?source=searchResul...</td>\n",
       "      <td>1</td>\n",
       "    </tr>\n",
       "    <tr>\n",
       "      <th>2</th>\n",
       "      <td>Data Analyst</td>\n",
       "      <td>job_click</td>\n",
       "      <td>49690594</td>\n",
       "      <td>/jobs/data-analyst/49690594?source=searchResul...</td>\n",
       "      <td>1</td>\n",
       "    </tr>\n",
       "    <tr>\n",
       "      <th>3</th>\n",
       "      <td>Data Analyst</td>\n",
       "      <td>job_click</td>\n",
       "      <td>49633648</td>\n",
       "      <td>/jobs/data-analyst/49633648?source=searchResul...</td>\n",
       "      <td>1</td>\n",
       "    </tr>\n",
       "    <tr>\n",
       "      <th>4</th>\n",
       "      <td>Data Analyst</td>\n",
       "      <td>job_click</td>\n",
       "      <td>49494946</td>\n",
       "      <td>/jobs/data-analyst/49494946?source=searchResul...</td>\n",
       "      <td>1</td>\n",
       "    </tr>\n",
       "    <tr>\n",
       "      <th>...</th>\n",
       "      <td>...</td>\n",
       "      <td>...</td>\n",
       "      <td>...</td>\n",
       "      <td>...</td>\n",
       "      <td>...</td>\n",
       "    </tr>\n",
       "    <tr>\n",
       "      <th>7173</th>\n",
       "      <td>Systems Engineer: Seeker Modelling and Simulation</td>\n",
       "      <td>job_click</td>\n",
       "      <td>45885554</td>\n",
       "      <td>/jobs/systems-engineer-seeker-modelling-and-si...</td>\n",
       "      <td>201</td>\n",
       "    </tr>\n",
       "    <tr>\n",
       "      <th>7174</th>\n",
       "      <td>Senior C++ Software Engineer- Tech-Driven Prop...</td>\n",
       "      <td>job_click</td>\n",
       "      <td>49806284</td>\n",
       "      <td>/jobs/senior-c-software-engineer-tech-driven-p...</td>\n",
       "      <td>201</td>\n",
       "    </tr>\n",
       "    <tr>\n",
       "      <th>7175</th>\n",
       "      <td>IT Project Engineer for Industrial Information...</td>\n",
       "      <td>job_click</td>\n",
       "      <td>49279240</td>\n",
       "      <td>/jobs/it-project-engineer-for-industrial-infor...</td>\n",
       "      <td>201</td>\n",
       "    </tr>\n",
       "    <tr>\n",
       "      <th>7176</th>\n",
       "      <td>DevOps Engineer - Must have good Development S...</td>\n",
       "      <td>job_click</td>\n",
       "      <td>49625258</td>\n",
       "      <td>/jobs/devops-engineer-must-have-good-developme...</td>\n",
       "      <td>201</td>\n",
       "    </tr>\n",
       "    <tr>\n",
       "      <th>7177</th>\n",
       "      <td>DevOps Engineer - Global FINTECH - CI/CD / CIT...</td>\n",
       "      <td>job_click</td>\n",
       "      <td>49555533</td>\n",
       "      <td>/jobs/devops-engineer-global-fintech-ci-cd-cit...</td>\n",
       "      <td>201</td>\n",
       "    </tr>\n",
       "  </tbody>\n",
       "</table>\n",
       "<p>7178 rows × 5 columns</p>\n",
       "</div>"
      ],
      "text/plain": [
       "                                                  title             data_gtm  \\\n",
       "0                                          Data Analyst  sponsored_job_click   \n",
       "1                                          Data Analyst  sponsored_job_click   \n",
       "2                                          Data Analyst            job_click   \n",
       "3                                          Data Analyst            job_click   \n",
       "4                                          Data Analyst            job_click   \n",
       "...                                                 ...                  ...   \n",
       "7173  Systems Engineer: Seeker Modelling and Simulation            job_click   \n",
       "7174  Senior C++ Software Engineer- Tech-Driven Prop...            job_click   \n",
       "7175  IT Project Engineer for Industrial Information...            job_click   \n",
       "7176  DevOps Engineer - Must have good Development S...            job_click   \n",
       "7177  DevOps Engineer - Global FINTECH - CI/CD / CIT...            job_click   \n",
       "\n",
       "       data_id                                               link  page  \n",
       "0     49600634  /jobs/data-analyst/49600634?source=searchResul...     1  \n",
       "1     49811004  /jobs/data-analyst/49811004?source=searchResul...     1  \n",
       "2     49690594  /jobs/data-analyst/49690594?source=searchResul...     1  \n",
       "3     49633648  /jobs/data-analyst/49633648?source=searchResul...     1  \n",
       "4     49494946  /jobs/data-analyst/49494946?source=searchResul...     1  \n",
       "...        ...                                                ...   ...  \n",
       "7173  45885554  /jobs/systems-engineer-seeker-modelling-and-si...   201  \n",
       "7174  49806284  /jobs/senior-c-software-engineer-tech-driven-p...   201  \n",
       "7175  49279240  /jobs/it-project-engineer-for-industrial-infor...   201  \n",
       "7176  49625258  /jobs/devops-engineer-must-have-good-developme...   201  \n",
       "7177  49555533  /jobs/devops-engineer-global-fintech-ci-cd-cit...   201  \n",
       "\n",
       "[7178 rows x 5 columns]"
      ]
     },
     "execution_count": 51,
     "metadata": {},
     "output_type": "execute_result"
    }
   ],
   "source": [
    "scraping.concat_and_drop_duplicates()"
   ]
  },
  {
   "cell_type": "code",
   "execution_count": 52,
   "id": "0fca62f3",
   "metadata": {},
   "outputs": [],
   "source": [
    "scraping.save_all()"
   ]
  },
  {
   "cell_type": "code",
   "execution_count": 62,
   "id": "64c3861c",
   "metadata": {},
   "outputs": [
    {
     "name": "stdout",
     "output_type": "stream",
     "text": [
      "parsed 10 jobs\n",
      "parsed 20 jobs\n",
      "parsed 30 jobs\n",
      "parsed 40 jobs\n",
      "parsed 50 jobs\n",
      "parsed 60 jobs\n",
      "parsed 70 jobs\n",
      "parsed 80 jobs\n",
      "parsed 90 jobs\n",
      "parsed 100 jobs\n",
      "parsed 110 jobs\n",
      "parsed 120 jobs\n",
      "parsed 130 jobs\n",
      "parsed 140 jobs\n",
      "parsed 150 jobs\n",
      "parsed 160 jobs\n",
      "parsed 170 jobs\n",
      "parsed 180 jobs\n",
      "parsed 190 jobs\n",
      "parsed 200 jobs\n",
      "parsed 210 jobs\n",
      "parsed 220 jobs\n",
      "parsed 230 jobs\n",
      "parsed 240 jobs\n",
      "parsed 250 jobs\n",
      "parsed 260 jobs\n",
      "parsed 270 jobs\n",
      "parsed 280 jobs\n",
      "parsed 290 jobs\n",
      "parsed 300 jobs\n",
      "parsed 310 jobs\n",
      "parsed 320 jobs\n",
      "parsed 330 jobs\n",
      "parsed 340 jobs\n",
      "parsed 350 jobs\n",
      "parsed 360 jobs\n",
      "parsed 370 jobs\n",
      "parsed 380 jobs\n",
      "parsed 390 jobs\n",
      "parsed 400 jobs\n",
      "parsed 410 jobs\n",
      "parsed 420 jobs\n",
      "parsed 430 jobs\n",
      "parsed 440 jobs\n",
      "parsed 450 jobs\n",
      "parsed 460 jobs\n",
      "parsed 470 jobs\n",
      "parsed 480 jobs\n",
      "parsed 490 jobs\n",
      "parsed 500 jobs\n",
      "parsed 510 jobs\n",
      "parsed 520 jobs\n",
      "parsed 530 jobs\n",
      "parsed 540 jobs\n",
      "parsed 550 jobs\n",
      "parsed 560 jobs\n",
      "parsed 570 jobs\n",
      "parsed 580 jobs\n",
      "parsed 590 jobs\n",
      "parsed 600 jobs\n",
      "parsed 610 jobs\n",
      "parsed 620 jobs\n",
      "parsed 630 jobs\n",
      "parsed 640 jobs\n",
      "parsed 650 jobs\n",
      "parsed 660 jobs\n",
      "parsed 670 jobs\n",
      "parsed 680 jobs\n",
      "parsed 690 jobs\n",
      "parsed 700 jobs\n",
      "parsed 710 jobs\n",
      "parsed 720 jobs\n",
      "parsed 730 jobs\n",
      "parsed 740 jobs\n",
      "parsed 750 jobs\n",
      "parsed 760 jobs\n",
      "parsed 770 jobs\n",
      "parsed 780 jobs\n",
      "parsed 790 jobs\n",
      "parsed 800 jobs\n",
      "parsed 810 jobs\n",
      "parsed 820 jobs\n",
      "parsed 830 jobs\n",
      "parsed 840 jobs\n",
      "parsed 850 jobs\n",
      "parsed 860 jobs\n",
      "parsed 870 jobs\n",
      "parsed 880 jobs\n",
      "parsed 890 jobs\n",
      "parsed 900 jobs\n",
      "parsed 910 jobs\n",
      "parsed 920 jobs\n",
      "parsed 930 jobs\n",
      "parsed 940 jobs\n",
      "parsed 950 jobs\n",
      "parsed 960 jobs\n",
      "parsed 970 jobs\n",
      "parsed 980 jobs\n",
      "parsed 990 jobs\n",
      "parsed 1000 jobs\n",
      "parsed 1010 jobs\n",
      "parsed 1020 jobs\n",
      "parsed 1030 jobs\n",
      "parsed 1040 jobs\n",
      "parsed 1050 jobs\n",
      "parsed 1060 jobs\n",
      "parsed 1070 jobs\n",
      "parsed 1080 jobs\n",
      "parsed 1090 jobs\n",
      "parsed 1100 jobs\n",
      "parsed 1110 jobs\n",
      "parsed 1120 jobs\n",
      "parsed 1130 jobs\n",
      "parsed 1140 jobs\n",
      "parsed 1150 jobs\n",
      "parsed 1160 jobs\n",
      "parsed 1170 jobs\n",
      "parsed 1180 jobs\n",
      "parsed 1190 jobs\n",
      "parsed 1200 jobs\n",
      "parsed 1210 jobs\n",
      "parsed 1220 jobs\n",
      "parsed 1230 jobs\n",
      "parsed 1240 jobs\n",
      "parsed 1250 jobs\n",
      "parsed 1260 jobs\n",
      "parsed 1270 jobs\n",
      "parsed 1280 jobs\n",
      "parsed 1290 jobs\n",
      "parsed 1300 jobs\n",
      "parsed 1310 jobs\n",
      "parsed 1320 jobs\n",
      "parsed 1330 jobs\n",
      "parsed 1340 jobs\n",
      "parsed 1350 jobs\n",
      "parsed 1360 jobs\n",
      "parsed 1370 jobs\n",
      "parsed 1380 jobs\n",
      "parsed 1390 jobs\n",
      "parsed 1400 jobs\n",
      "parsed 1410 jobs\n",
      "parsed 1420 jobs\n",
      "parsed 1430 jobs\n",
      "parsed 1440 jobs\n",
      "parsed 1450 jobs\n",
      "parsed 1460 jobs\n",
      "parsed 1470 jobs\n",
      "parsed 1480 jobs\n",
      "parsed 1490 jobs\n",
      "parsed 1500 jobs\n",
      "parsed 1510 jobs\n",
      "parsed 1520 jobs\n",
      "parsed 1530 jobs\n",
      "parsed 1540 jobs\n",
      "parsed 1550 jobs\n",
      "parsed 1560 jobs\n",
      "parsed 1570 jobs\n",
      "parsed 1580 jobs\n",
      "parsed 1590 jobs\n",
      "parsed 1600 jobs\n",
      "parsed 1610 jobs\n",
      "parsed 1620 jobs\n",
      "parsed 1630 jobs\n",
      "parsed 1640 jobs\n",
      "parsed 1650 jobs\n",
      "parsed 1660 jobs\n",
      "parsed 1670 jobs\n",
      "parsed 1680 jobs\n",
      "parsed 1690 jobs\n",
      "parsed 1700 jobs\n",
      "parsed 1710 jobs\n",
      "parsed 1720 jobs\n",
      "parsed 1730 jobs\n",
      "parsed 1740 jobs\n",
      "parsed 1750 jobs\n",
      "parsed 1760 jobs\n",
      "parsed 1770 jobs\n",
      "parsed 1780 jobs\n",
      "parsed 1790 jobs\n",
      "parsed 1800 jobs\n",
      "parsed 1810 jobs\n",
      "parsed 1820 jobs\n",
      "parsed 1830 jobs\n",
      "parsed 1840 jobs\n",
      "parsed 1850 jobs\n",
      "parsed 1860 jobs\n",
      "parsed 1870 jobs\n",
      "parsed 1880 jobs\n",
      "parsed 1890 jobs\n",
      "parsed 1900 jobs\n",
      "parsed 1910 jobs\n",
      "parsed 1920 jobs\n",
      "parsed 1930 jobs\n",
      "parsed 1940 jobs\n",
      "parsed 1950 jobs\n",
      "parsed 1960 jobs\n",
      "parsed 1970 jobs\n",
      "parsed 1980 jobs\n",
      "parsed 1990 jobs\n",
      "parsed 2000 jobs\n",
      "parsed 2010 jobs\n",
      "parsed 2020 jobs\n",
      "parsed 2030 jobs\n",
      "parsed 2040 jobs\n",
      "parsed 2050 jobs\n",
      "parsed 2060 jobs\n",
      "parsed 2070 jobs\n",
      "parsed 2080 jobs\n",
      "parsed 2090 jobs\n",
      "parsed 2100 jobs\n",
      "parsed 2110 jobs\n",
      "parsed 2120 jobs\n",
      "parsed 2130 jobs\n",
      "parsed 2140 jobs\n",
      "parsed 2150 jobs\n",
      "parsed 2160 jobs\n",
      "parsed 2170 jobs\n",
      "parsed 2180 jobs\n",
      "parsed 2190 jobs\n",
      "parsed 2200 jobs\n",
      "parsed 2210 jobs\n",
      "parsed 2220 jobs\n",
      "parsed 2230 jobs\n",
      "parsed 2240 jobs\n",
      "parsed 2250 jobs\n",
      "parsed 2260 jobs\n",
      "parsed 2270 jobs\n",
      "parsed 2280 jobs\n",
      "parsed 2290 jobs\n",
      "parsed 2300 jobs\n",
      "parsed 2310 jobs\n",
      "parsed 2320 jobs\n",
      "parsed 2330 jobs\n",
      "parsed 2340 jobs\n",
      "parsed 2350 jobs\n",
      "parsed 2360 jobs\n",
      "parsed 2370 jobs\n",
      "parsed 2380 jobs\n",
      "parsed 2390 jobs\n",
      "parsed 2400 jobs\n",
      "parsed 2410 jobs\n",
      "parsed 2420 jobs\n",
      "parsed 2430 jobs\n",
      "parsed 2440 jobs\n",
      "parsed 2450 jobs\n",
      "parsed 2460 jobs\n",
      "parsed 2470 jobs\n",
      "parsed 2480 jobs\n",
      "parsed 2490 jobs\n",
      "parsed 2500 jobs\n",
      "parsed 2510 jobs\n",
      "parsed 2520 jobs\n",
      "parsed 2530 jobs\n",
      "parsed 2540 jobs\n",
      "parsed 2550 jobs\n",
      "parsed 2560 jobs\n",
      "parsed 2570 jobs\n",
      "parsed 2580 jobs\n",
      "parsed 2590 jobs\n",
      "parsed 2600 jobs\n",
      "parsed 2610 jobs\n",
      "parsed 2620 jobs\n",
      "parsed 2630 jobs\n",
      "parsed 2640 jobs\n",
      "parsed 2650 jobs\n",
      "parsed 2660 jobs\n",
      "parsed 2670 jobs\n",
      "parsed 2680 jobs\n",
      "parsed 2690 jobs\n",
      "parsed 2700 jobs\n",
      "parsed 2710 jobs\n",
      "parsed 2720 jobs\n",
      "parsed 2730 jobs\n",
      "parsed 2740 jobs\n",
      "parsed 2750 jobs\n",
      "parsed 2760 jobs\n",
      "parsed 2770 jobs\n",
      "parsed 2780 jobs\n",
      "parsed 2790 jobs\n",
      "parsed 2800 jobs\n",
      "parsed 2810 jobs\n",
      "parsed 2820 jobs\n",
      "parsed 2830 jobs\n",
      "parsed 2840 jobs\n",
      "parsed 2850 jobs\n",
      "parsed 2860 jobs\n",
      "parsed 2870 jobs\n",
      "parsed 2880 jobs\n",
      "parsed 2890 jobs\n",
      "parsed 2900 jobs\n",
      "parsed 2910 jobs\n",
      "parsed 2920 jobs\n",
      "parsed 2930 jobs\n",
      "parsed 2940 jobs\n",
      "parsed 2950 jobs\n",
      "parsed 2960 jobs\n",
      "parsed 2970 jobs\n",
      "parsed 2980 jobs\n",
      "parsed 2990 jobs\n",
      "parsed 3000 jobs\n",
      "parsed 3010 jobs\n",
      "parsed 3020 jobs\n",
      "parsed 3030 jobs\n",
      "parsed 3040 jobs\n",
      "parsed 3050 jobs\n",
      "parsed 3060 jobs\n",
      "parsed 3070 jobs\n",
      "parsed 3080 jobs\n",
      "parsed 3090 jobs\n",
      "parsed 3100 jobs\n",
      "parsed 3110 jobs\n",
      "parsed 3120 jobs\n",
      "parsed 3130 jobs\n",
      "parsed 3140 jobs\n",
      "parsed 3150 jobs\n",
      "parsed 3160 jobs\n",
      "parsed 3170 jobs\n",
      "parsed 3180 jobs\n",
      "parsed 3190 jobs\n",
      "parsed 3200 jobs\n",
      "parsed 3210 jobs\n",
      "parsed 3220 jobs\n",
      "parsed 3230 jobs\n",
      "parsed 3240 jobs\n",
      "parsed 3250 jobs\n",
      "parsed 3260 jobs\n",
      "parsed 3270 jobs\n",
      "parsed 3280 jobs\n",
      "parsed 3290 jobs\n",
      "parsed 3300 jobs\n",
      "parsed 3310 jobs\n",
      "parsed 3320 jobs\n",
      "parsed 3330 jobs\n",
      "parsed 3340 jobs\n",
      "parsed 3350 jobs\n",
      "parsed 3360 jobs\n",
      "parsed 3370 jobs\n",
      "parsed 3380 jobs\n",
      "parsed 3390 jobs\n",
      "parsed 3400 jobs\n",
      "parsed 3410 jobs\n",
      "parsed 3420 jobs\n",
      "parsed 3430 jobs\n",
      "parsed 3440 jobs\n",
      "parsed 3450 jobs\n",
      "parsed 3460 jobs\n",
      "parsed 3470 jobs\n",
      "parsed 3480 jobs\n",
      "parsed 3490 jobs\n",
      "parsed 3500 jobs\n",
      "parsed 3510 jobs\n",
      "parsed 3520 jobs\n",
      "parsed 3530 jobs\n",
      "parsed 3540 jobs\n",
      "parsed 3550 jobs\n",
      "parsed 3560 jobs\n",
      "parsed 3570 jobs\n",
      "parsed 3580 jobs\n",
      "parsed 3590 jobs\n",
      "parsed 3600 jobs\n",
      "parsed 3610 jobs\n",
      "parsed 3620 jobs\n",
      "parsed 3630 jobs\n",
      "parsed 3640 jobs\n",
      "parsed 3650 jobs\n",
      "parsed 3660 jobs\n",
      "parsed 3670 jobs\n",
      "parsed 3680 jobs\n",
      "parsed 3690 jobs\n",
      "parsed 3700 jobs\n",
      "parsed 3710 jobs\n",
      "parsed 3720 jobs\n",
      "parsed 3730 jobs\n",
      "parsed 3740 jobs\n",
      "parsed 3750 jobs\n",
      "parsed 3760 jobs\n",
      "parsed 3770 jobs\n",
      "parsed 3780 jobs\n",
      "parsed 3790 jobs\n",
      "parsed 3800 jobs\n",
      "parsed 3810 jobs\n",
      "parsed 3820 jobs\n",
      "parsed 3830 jobs\n",
      "parsed 3840 jobs\n",
      "parsed 3850 jobs\n",
      "parsed 3860 jobs\n",
      "parsed 3870 jobs\n",
      "parsed 3880 jobs\n",
      "parsed 3890 jobs\n",
      "parsed 3900 jobs\n",
      "parsed 3910 jobs\n",
      "parsed 3920 jobs\n",
      "parsed 3930 jobs\n",
      "parsed 3940 jobs\n",
      "parsed 3950 jobs\n",
      "parsed 3960 jobs\n",
      "parsed 3970 jobs\n",
      "parsed 3980 jobs\n",
      "parsed 3990 jobs\n",
      "parsed 4000 jobs\n",
      "parsed 4010 jobs\n",
      "parsed 4020 jobs\n",
      "parsed 4030 jobs\n",
      "parsed 4040 jobs\n",
      "parsed 4050 jobs\n",
      "parsed 4060 jobs\n",
      "parsed 4070 jobs\n",
      "parsed 4080 jobs\n",
      "parsed 4090 jobs\n",
      "parsed 4100 jobs\n",
      "parsed 4110 jobs\n",
      "parsed 4120 jobs\n",
      "parsed 4130 jobs\n",
      "parsed 4140 jobs\n",
      "parsed 4150 jobs\n",
      "parsed 4160 jobs\n",
      "parsed 4170 jobs\n",
      "parsed 4180 jobs\n",
      "parsed 4190 jobs\n",
      "parsed 4200 jobs\n",
      "parsed 4210 jobs\n",
      "parsed 4220 jobs\n",
      "parsed 4230 jobs\n",
      "parsed 4240 jobs\n",
      "parsed 4250 jobs\n",
      "parsed 4260 jobs\n",
      "parsed 4270 jobs\n",
      "parsed 4280 jobs\n",
      "parsed 4290 jobs\n",
      "parsed 4300 jobs\n",
      "parsed 4310 jobs\n",
      "parsed 4320 jobs\n",
      "parsed 4330 jobs\n",
      "parsed 4340 jobs\n",
      "parsed 4350 jobs\n",
      "parsed 4360 jobs\n",
      "parsed 4370 jobs\n",
      "parsed 4380 jobs\n",
      "parsed 4390 jobs\n",
      "parsed 4400 jobs\n",
      "parsed 4410 jobs\n",
      "parsed 4420 jobs\n",
      "parsed 4430 jobs\n",
      "parsed 4440 jobs\n",
      "parsed 4450 jobs\n",
      "parsed 4460 jobs\n",
      "parsed 4470 jobs\n",
      "parsed 4480 jobs\n",
      "parsed 4490 jobs\n",
      "parsed 4500 jobs\n",
      "parsed 4510 jobs\n",
      "parsed 4520 jobs\n",
      "parsed 4530 jobs\n",
      "parsed 4540 jobs\n",
      "parsed 4550 jobs\n",
      "parsed 4560 jobs\n",
      "parsed 4570 jobs\n",
      "parsed 4580 jobs\n",
      "parsed 4590 jobs\n",
      "parsed 4600 jobs\n",
      "parsed 4610 jobs\n",
      "parsed 4620 jobs\n",
      "parsed 4630 jobs\n",
      "parsed 4640 jobs\n",
      "parsed 4650 jobs\n",
      "parsed 4660 jobs\n",
      "parsed 4670 jobs\n",
      "parsed 4680 jobs\n",
      "parsed 4690 jobs\n",
      "parsed 4700 jobs\n",
      "parsed 4710 jobs\n",
      "parsed 4720 jobs\n",
      "parsed 4730 jobs\n",
      "parsed 4740 jobs\n",
      "parsed 4750 jobs\n",
      "parsed 4760 jobs\n",
      "parsed 4770 jobs\n",
      "parsed 4780 jobs\n",
      "parsed 4790 jobs\n",
      "parsed 4800 jobs\n",
      "parsed 4810 jobs\n",
      "parsed 4820 jobs\n",
      "parsed 4830 jobs\n",
      "parsed 4840 jobs\n",
      "parsed 4850 jobs\n",
      "parsed 4860 jobs\n",
      "parsed 4870 jobs\n",
      "parsed 4880 jobs\n",
      "parsed 4890 jobs\n"
     ]
    },
    {
     "name": "stdout",
     "output_type": "stream",
     "text": [
      "parsed 4900 jobs\n",
      "parsed 4910 jobs\n",
      "parsed 4920 jobs\n",
      "parsed 4930 jobs\n",
      "parsed 4940 jobs\n",
      "parsed 4950 jobs\n",
      "parsed 4960 jobs\n",
      "parsed 4970 jobs\n",
      "parsed 4980 jobs\n",
      "parsed 4990 jobs\n",
      "parsed 5000 jobs\n",
      "parsed 5010 jobs\n",
      "parsed 5020 jobs\n",
      "parsed 5030 jobs\n",
      "parsed 5040 jobs\n",
      "parsed 5050 jobs\n",
      "parsed 5060 jobs\n",
      "parsed 5070 jobs\n",
      "parsed 5080 jobs\n",
      "parsed 5090 jobs\n",
      "parsed 5100 jobs\n",
      "parsed 5110 jobs\n",
      "parsed 5120 jobs\n",
      "parsed 5130 jobs\n",
      "parsed 5140 jobs\n",
      "parsed 5150 jobs\n",
      "parsed 5160 jobs\n",
      "parsed 5170 jobs\n",
      "parsed 5180 jobs\n",
      "parsed 5190 jobs\n",
      "parsed 5200 jobs\n",
      "parsed 5210 jobs\n",
      "parsed 5220 jobs\n",
      "parsed 5230 jobs\n",
      "parsed 5240 jobs\n",
      "parsed 5250 jobs\n",
      "parsed 5260 jobs\n",
      "parsed 5270 jobs\n",
      "parsed 5280 jobs\n",
      "parsed 5290 jobs\n",
      "parsed 5300 jobs\n",
      "parsed 5310 jobs\n",
      "parsed 5320 jobs\n",
      "parsed 5330 jobs\n",
      "parsed 5340 jobs\n",
      "parsed 5350 jobs\n",
      "parsed 5360 jobs\n",
      "parsed 5370 jobs\n",
      "parsed 5380 jobs\n",
      "parsed 5390 jobs\n",
      "parsed 5400 jobs\n",
      "parsed 5410 jobs\n",
      "parsed 5420 jobs\n",
      "parsed 5430 jobs\n",
      "parsed 5440 jobs\n",
      "parsed 5450 jobs\n",
      "parsed 5460 jobs\n",
      "parsed 5470 jobs\n",
      "parsed 5480 jobs\n",
      "parsed 5490 jobs\n",
      "parsed 5500 jobs\n",
      "parsed 5510 jobs\n",
      "parsed 5520 jobs\n",
      "parsed 5530 jobs\n",
      "parsed 5540 jobs\n",
      "parsed 5550 jobs\n",
      "parsed 5560 jobs\n",
      "parsed 5570 jobs\n",
      "parsed 5580 jobs\n",
      "parsed 5590 jobs\n",
      "parsed 5600 jobs\n",
      "parsed 5610 jobs\n",
      "parsed 5620 jobs\n",
      "parsed 5630 jobs\n",
      "parsed 5640 jobs\n",
      "parsed 5650 jobs\n",
      "parsed 5660 jobs\n",
      "parsed 5670 jobs\n",
      "parsed 5680 jobs\n",
      "parsed 5690 jobs\n",
      "parsed 5700 jobs\n",
      "parsed 5710 jobs\n",
      "parsed 5720 jobs\n",
      "parsed 5730 jobs\n",
      "parsed 5740 jobs\n",
      "parsed 5750 jobs\n",
      "parsed 5760 jobs\n",
      "parsed 5770 jobs\n",
      "parsed 5780 jobs\n",
      "parsed 5790 jobs\n",
      "parsed 5800 jobs\n",
      "parsed 5810 jobs\n",
      "parsed 5820 jobs\n",
      "parsed 5830 jobs\n",
      "parsed 5840 jobs\n",
      "parsed 5850 jobs\n",
      "parsed 5860 jobs\n",
      "parsed 5870 jobs\n",
      "parsed 5880 jobs\n",
      "parsed 5890 jobs\n",
      "parsed 5900 jobs\n",
      "parsed 5910 jobs\n",
      "parsed 5920 jobs\n",
      "parsed 5930 jobs\n",
      "parsed 5940 jobs\n",
      "parsed 5950 jobs\n",
      "parsed 5960 jobs\n",
      "parsed 5970 jobs\n",
      "parsed 5980 jobs\n",
      "parsed 5990 jobs\n",
      "parsed 6000 jobs\n",
      "parsed 6010 jobs\n",
      "parsed 6020 jobs\n",
      "parsed 6030 jobs\n",
      "parsed 6040 jobs\n",
      "parsed 6050 jobs\n",
      "parsed 6060 jobs\n",
      "parsed 6070 jobs\n",
      "parsed 6080 jobs\n",
      "parsed 6090 jobs\n",
      "parsed 6100 jobs\n",
      "parsed 6110 jobs\n",
      "parsed 6120 jobs\n",
      "parsed 6130 jobs\n",
      "parsed 6140 jobs\n",
      "parsed 6150 jobs\n",
      "parsed 6160 jobs\n",
      "parsed 6170 jobs\n",
      "parsed 6180 jobs\n",
      "parsed 6190 jobs\n",
      "parsed 6200 jobs\n",
      "parsed 6210 jobs\n",
      "parsed 6220 jobs\n",
      "parsed 6230 jobs\n",
      "parsed 6240 jobs\n",
      "parsed 6250 jobs\n",
      "parsed 6260 jobs\n",
      "parsed 6270 jobs\n",
      "parsed 6280 jobs\n",
      "parsed 6290 jobs\n",
      "parsed 6300 jobs\n",
      "parsed 6310 jobs\n",
      "parsed 6320 jobs\n",
      "parsed 6330 jobs\n",
      "parsed 6340 jobs\n",
      "parsed 6350 jobs\n",
      "parsed 6360 jobs\n",
      "parsed 6370 jobs\n",
      "parsed 6380 jobs\n",
      "parsed 6390 jobs\n",
      "parsed 6400 jobs\n",
      "parsed 6410 jobs\n",
      "parsed 6420 jobs\n",
      "parsed 6430 jobs\n",
      "parsed 6440 jobs\n",
      "parsed 6450 jobs\n",
      "parsed 6460 jobs\n",
      "parsed 6470 jobs\n",
      "parsed 6480 jobs\n",
      "parsed 6490 jobs\n",
      "parsed 6500 jobs\n",
      "parsed 6510 jobs\n",
      "parsed 6520 jobs\n",
      "parsed 6530 jobs\n",
      "parsed 6540 jobs\n",
      "parsed 6550 jobs\n",
      "parsed 6560 jobs\n",
      "parsed 6570 jobs\n",
      "parsed 6580 jobs\n",
      "parsed 6590 jobs\n",
      "parsed 6600 jobs\n",
      "parsed 6610 jobs\n",
      "parsed 6620 jobs\n",
      "parsed 6630 jobs\n",
      "parsed 6640 jobs\n",
      "parsed 6650 jobs\n",
      "parsed 6660 jobs\n",
      "parsed 6670 jobs\n",
      "parsed 6680 jobs\n",
      "parsed 6690 jobs\n",
      "parsed 6700 jobs\n",
      "parsed 6710 jobs\n",
      "parsed 6720 jobs\n",
      "parsed 6730 jobs\n",
      "parsed 6740 jobs\n",
      "parsed 6750 jobs\n",
      "parsed 6760 jobs\n",
      "parsed 6770 jobs\n",
      "parsed 6780 jobs\n",
      "parsed 6790 jobs\n",
      "parsed 6800 jobs\n",
      "parsed 6810 jobs\n",
      "parsed 6820 jobs\n",
      "parsed 6830 jobs\n",
      "parsed 6840 jobs\n",
      "parsed 6850 jobs\n",
      "parsed 6860 jobs\n",
      "parsed 6870 jobs\n",
      "parsed 6880 jobs\n",
      "parsed 6890 jobs\n",
      "parsed 6900 jobs\n",
      "parsed 6910 jobs\n",
      "parsed 6920 jobs\n",
      "parsed 6930 jobs\n",
      "parsed 6940 jobs\n",
      "parsed 6950 jobs\n",
      "parsed 6960 jobs\n",
      "parsed 6970 jobs\n",
      "parsed 6980 jobs\n",
      "parsed 6990 jobs\n",
      "parsed 7000 jobs\n",
      "parsed 7010 jobs\n",
      "parsed 7020 jobs\n",
      "parsed 7030 jobs\n",
      "parsed 7040 jobs\n",
      "parsed 7050 jobs\n",
      "parsed 7060 jobs\n",
      "parsed 7070 jobs\n",
      "parsed 7080 jobs\n",
      "parsed 7090 jobs\n",
      "parsed 7100 jobs\n",
      "parsed 7110 jobs\n",
      "parsed 7120 jobs\n",
      "parsed 7130 jobs\n",
      "parsed 7140 jobs\n",
      "parsed 7150 jobs\n",
      "parsed 7160 jobs\n",
      "parsed 7170 jobs\n"
     ]
    },
    {
     "data": {
      "text/html": [
       "<div>\n",
       "<style scoped>\n",
       "    .dataframe tbody tr th:only-of-type {\n",
       "        vertical-align: middle;\n",
       "    }\n",
       "\n",
       "    .dataframe tbody tr th {\n",
       "        vertical-align: top;\n",
       "    }\n",
       "\n",
       "    .dataframe thead th {\n",
       "        text-align: right;\n",
       "    }\n",
       "</style>\n",
       "<table border=\"1\" class=\"dataframe\">\n",
       "  <thead>\n",
       "    <tr style=\"text-align: right;\">\n",
       "      <th></th>\n",
       "      <th>link</th>\n",
       "      <th>title</th>\n",
       "      <th>company_name</th>\n",
       "      <th>salary</th>\n",
       "      <th>permanent</th>\n",
       "      <th>full_time</th>\n",
       "      <th>date_posted</th>\n",
       "      <th>region</th>\n",
       "      <th>city</th>\n",
       "      <th>description_clean</th>\n",
       "      <th>description_html</th>\n",
       "      <th>skills</th>\n",
       "    </tr>\n",
       "  </thead>\n",
       "  <tbody>\n",
       "    <tr>\n",
       "      <th>0</th>\n",
       "      <td>/jobs/data-analyst/49600634?source=searchResul...</td>\n",
       "      <td>Data Analyst</td>\n",
       "      <td>Heron Foods</td>\n",
       "      <td>£28,336 per annum</td>\n",
       "      <td>True</td>\n",
       "      <td>True</td>\n",
       "      <td>2023-01-20</td>\n",
       "      <td>Hull</td>\n",
       "      <td>North Humberside</td>\n",
       "      <td>Data Analyst, office based in Hull (Melton HU...</td>\n",
       "      <td>&lt;span itemprop=\"description\"&gt; &lt;p&gt;Data Analyst,...</td>\n",
       "      <td></td>\n",
       "    </tr>\n",
       "    <tr>\n",
       "      <th>1</th>\n",
       "      <td>/jobs/data-analyst/49811004?source=searchResul...</td>\n",
       "      <td>Data Analyst</td>\n",
       "      <td>Veolia UK</td>\n",
       "      <td>£35,000 per annum</td>\n",
       "      <td>True</td>\n",
       "      <td>True</td>\n",
       "      <td>2023-02-16</td>\n",
       "      <td>London</td>\n",
       "      <td>South East England</td>\n",
       "      <td>Ready to find the right role for you? Salary:...</td>\n",
       "      <td>&lt;span itemprop=\"description\"&gt; &lt;p&gt;Ready to find...</td>\n",
       "      <td></td>\n",
       "    </tr>\n",
       "    <tr>\n",
       "      <th>2</th>\n",
       "      <td>/jobs/data-analyst/49690594?source=searchResul...</td>\n",
       "      <td>Data Analyst</td>\n",
       "      <td>Premier IT</td>\n",
       "      <td>£40,000 - £45,000 per annum</td>\n",
       "      <td>True</td>\n",
       "      <td>True</td>\n",
       "      <td>2023-02-02</td>\n",
       "      <td>Merseyside</td>\n",
       "      <td>Liverpool</td>\n",
       "      <td>Data Analyst Liverpool – HybridBenefits:  Care...</td>\n",
       "      <td>&lt;span itemprop=\"description\"&gt;&lt;strong&gt;Data Anal...</td>\n",
       "      <td></td>\n",
       "    </tr>\n",
       "    <tr>\n",
       "      <th>3</th>\n",
       "      <td>/jobs/data-analyst/49633648?source=searchResul...</td>\n",
       "      <td>Data Analyst</td>\n",
       "      <td>Elevation Recruitment Group</td>\n",
       "      <td>£55,000 - £60,000 per annum</td>\n",
       "      <td>False</td>\n",
       "      <td>True</td>\n",
       "      <td>2023-01-25</td>\n",
       "      <td>Derbyshire</td>\n",
       "      <td>Chesterfield</td>\n",
       "      <td>Elevation Recruitment Group are pleased to be ...</td>\n",
       "      <td>&lt;span itemprop=\"description\"&gt;Elevation Recruit...</td>\n",
       "      <td>Excel,Data Analyst,HR System,Data Cleanse,Ches...</td>\n",
       "    </tr>\n",
       "    <tr>\n",
       "      <th>4</th>\n",
       "      <td>/jobs/data-analyst/49494946?source=searchResul...</td>\n",
       "      <td>Data Analyst</td>\n",
       "      <td>Concept Resourcing</td>\n",
       "      <td>£25,000 - £30,000 per annum</td>\n",
       "      <td>True</td>\n",
       "      <td>True</td>\n",
       "      <td>2023-01-11</td>\n",
       "      <td>Oxfordshire</td>\n",
       "      <td>Thame</td>\n",
       "      <td>Data Analyst - Managed Service Provider - Tha...</td>\n",
       "      <td>&lt;span itemprop=\"description\"&gt; &lt;p&gt;&lt;strong&gt;Data ...</td>\n",
       "      <td></td>\n",
       "    </tr>\n",
       "    <tr>\n",
       "      <th>...</th>\n",
       "      <td>...</td>\n",
       "      <td>...</td>\n",
       "      <td>...</td>\n",
       "      <td>...</td>\n",
       "      <td>...</td>\n",
       "      <td>...</td>\n",
       "      <td>...</td>\n",
       "      <td>...</td>\n",
       "      <td>...</td>\n",
       "      <td>...</td>\n",
       "      <td>...</td>\n",
       "      <td>...</td>\n",
       "    </tr>\n",
       "    <tr>\n",
       "      <th>7173</th>\n",
       "      <td>/jobs/systems-engineer-seeker-modelling-and-si...</td>\n",
       "      <td>Systems Engineer: Seeker Modelling and Simulation</td>\n",
       "      <td>MBDA</td>\n",
       "      <td>Competitive salary</td>\n",
       "      <td>True</td>\n",
       "      <td>True</td>\n",
       "      <td>2023-02-01</td>\n",
       "      <td>Hertfordshire</td>\n",
       "      <td>Stevenage</td>\n",
       "      <td>Stevenage Together. For the future of defence...</td>\n",
       "      <td>&lt;span itemprop=\"description\"&gt; &lt;p&gt;&lt;b&gt;Stevenage&lt;...</td>\n",
       "      <td></td>\n",
       "    </tr>\n",
       "    <tr>\n",
       "      <th>7174</th>\n",
       "      <td>/jobs/senior-c-software-engineer-tech-driven-p...</td>\n",
       "      <td>Senior C++ Software Engineer- Tech-Driven Prop...</td>\n",
       "      <td>eFinancialCareers</td>\n",
       "      <td>Competitive salary</td>\n",
       "      <td>True</td>\n",
       "      <td>True</td>\n",
       "      <td>2023-02-16</td>\n",
       "      <td>South East England</td>\n",
       "      <td>London</td>\n",
       "      <td>My client is a leading tech-driven prop tradin...</td>\n",
       "      <td>&lt;span itemprop=\"description\"&gt;My client is a le...</td>\n",
       "      <td></td>\n",
       "    </tr>\n",
       "    <tr>\n",
       "      <th>7175</th>\n",
       "      <td>/jobs/it-project-engineer-for-industrial-infor...</td>\n",
       "      <td>IT Project Engineer for Industrial Information...</td>\n",
       "      <td>MBDA</td>\n",
       "      <td>Competitive salary</td>\n",
       "      <td>True</td>\n",
       "      <td>True</td>\n",
       "      <td>2023-01-30</td>\n",
       "      <td>Lancashire</td>\n",
       "      <td>Bolton</td>\n",
       "      <td>Bolton Salary: Up to £53K dependent on experi...</td>\n",
       "      <td>&lt;span itemprop=\"description\"&gt; &lt;p&gt;&lt;b&gt;Bolton&lt;/b&gt;...</td>\n",
       "      <td></td>\n",
       "    </tr>\n",
       "    <tr>\n",
       "      <th>7176</th>\n",
       "      <td>/jobs/devops-engineer-must-have-good-developme...</td>\n",
       "      <td>DevOps Engineer - Must have good Development S...</td>\n",
       "      <td>The Workplace Consultancy</td>\n",
       "      <td>£80,000 - £100,000 per annum</td>\n",
       "      <td>True</td>\n",
       "      <td>True</td>\n",
       "      <td>2023-01-25</td>\n",
       "      <td>London</td>\n",
       "      <td>South East England</td>\n",
       "      <td>Founded in 2010 by ex-investment bankers, My ...</td>\n",
       "      <td>&lt;span itemprop=\"description\"&gt; &lt;p&gt;Founded in 20...</td>\n",
       "      <td></td>\n",
       "    </tr>\n",
       "    <tr>\n",
       "      <th>7177</th>\n",
       "      <td>/jobs/devops-engineer-global-fintech-ci-cd-cit...</td>\n",
       "      <td>DevOps Engineer - Global FINTECH - CI/CD / CIT...</td>\n",
       "      <td>The Workplace Consultancy</td>\n",
       "      <td>£80,000 - £100,000 per annum</td>\n",
       "      <td>True</td>\n",
       "      <td>True</td>\n",
       "      <td>2023-01-16</td>\n",
       "      <td>London</td>\n",
       "      <td>South East England</td>\n",
       "      <td>Founded in 2010 by ex-investment bankers, My ...</td>\n",
       "      <td>&lt;span itemprop=\"description\"&gt; &lt;p&gt;Founded in 20...</td>\n",
       "      <td></td>\n",
       "    </tr>\n",
       "  </tbody>\n",
       "</table>\n",
       "<p>7178 rows × 12 columns</p>\n",
       "</div>"
      ],
      "text/plain": [
       "                                                   link  \\\n",
       "0     /jobs/data-analyst/49600634?source=searchResul...   \n",
       "1     /jobs/data-analyst/49811004?source=searchResul...   \n",
       "2     /jobs/data-analyst/49690594?source=searchResul...   \n",
       "3     /jobs/data-analyst/49633648?source=searchResul...   \n",
       "4     /jobs/data-analyst/49494946?source=searchResul...   \n",
       "...                                                 ...   \n",
       "7173  /jobs/systems-engineer-seeker-modelling-and-si...   \n",
       "7174  /jobs/senior-c-software-engineer-tech-driven-p...   \n",
       "7175  /jobs/it-project-engineer-for-industrial-infor...   \n",
       "7176  /jobs/devops-engineer-must-have-good-developme...   \n",
       "7177  /jobs/devops-engineer-global-fintech-ci-cd-cit...   \n",
       "\n",
       "                                                  title  \\\n",
       "0                                          Data Analyst   \n",
       "1                                          Data Analyst   \n",
       "2                                          Data Analyst   \n",
       "3                                          Data Analyst   \n",
       "4                                          Data Analyst   \n",
       "...                                                 ...   \n",
       "7173  Systems Engineer: Seeker Modelling and Simulation   \n",
       "7174  Senior C++ Software Engineer- Tech-Driven Prop...   \n",
       "7175  IT Project Engineer for Industrial Information...   \n",
       "7176  DevOps Engineer - Must have good Development S...   \n",
       "7177  DevOps Engineer - Global FINTECH - CI/CD / CIT...   \n",
       "\n",
       "                     company_name                        salary  permanent  \\\n",
       "0                     Heron Foods             £28,336 per annum       True   \n",
       "1                       Veolia UK             £35,000 per annum       True   \n",
       "2                      Premier IT   £40,000 - £45,000 per annum       True   \n",
       "3     Elevation Recruitment Group   £55,000 - £60,000 per annum      False   \n",
       "4              Concept Resourcing   £25,000 - £30,000 per annum       True   \n",
       "...                           ...                           ...        ...   \n",
       "7173                         MBDA            Competitive salary       True   \n",
       "7174            eFinancialCareers            Competitive salary       True   \n",
       "7175                         MBDA            Competitive salary       True   \n",
       "7176    The Workplace Consultancy  £80,000 - £100,000 per annum       True   \n",
       "7177    The Workplace Consultancy  £80,000 - £100,000 per annum       True   \n",
       "\n",
       "      full_time date_posted              region                city  \\\n",
       "0          True  2023-01-20                Hull    North Humberside   \n",
       "1          True  2023-02-16              London  South East England   \n",
       "2          True  2023-02-02          Merseyside           Liverpool   \n",
       "3          True  2023-01-25          Derbyshire        Chesterfield   \n",
       "4          True  2023-01-11         Oxfordshire               Thame   \n",
       "...         ...         ...                 ...                 ...   \n",
       "7173       True  2023-02-01       Hertfordshire           Stevenage   \n",
       "7174       True  2023-02-16  South East England              London   \n",
       "7175       True  2023-01-30          Lancashire              Bolton   \n",
       "7176       True  2023-01-25              London  South East England   \n",
       "7177       True  2023-01-16              London  South East England   \n",
       "\n",
       "                                      description_clean  \\\n",
       "0      Data Analyst, office based in Hull (Melton HU...   \n",
       "1      Ready to find the right role for you? Salary:...   \n",
       "2     Data Analyst Liverpool – HybridBenefits:  Care...   \n",
       "3     Elevation Recruitment Group are pleased to be ...   \n",
       "4      Data Analyst - Managed Service Provider - Tha...   \n",
       "...                                                 ...   \n",
       "7173   Stevenage Together. For the future of defence...   \n",
       "7174  My client is a leading tech-driven prop tradin...   \n",
       "7175   Bolton Salary: Up to £53K dependent on experi...   \n",
       "7176   Founded in 2010 by ex-investment bankers, My ...   \n",
       "7177   Founded in 2010 by ex-investment bankers, My ...   \n",
       "\n",
       "                                       description_html  \\\n",
       "0     <span itemprop=\"description\"> <p>Data Analyst,...   \n",
       "1     <span itemprop=\"description\"> <p>Ready to find...   \n",
       "2     <span itemprop=\"description\"><strong>Data Anal...   \n",
       "3     <span itemprop=\"description\">Elevation Recruit...   \n",
       "4     <span itemprop=\"description\"> <p><strong>Data ...   \n",
       "...                                                 ...   \n",
       "7173  <span itemprop=\"description\"> <p><b>Stevenage<...   \n",
       "7174  <span itemprop=\"description\">My client is a le...   \n",
       "7175  <span itemprop=\"description\"> <p><b>Bolton</b>...   \n",
       "7176  <span itemprop=\"description\"> <p>Founded in 20...   \n",
       "7177  <span itemprop=\"description\"> <p>Founded in 20...   \n",
       "\n",
       "                                                 skills  \n",
       "0                                                        \n",
       "1                                                        \n",
       "2                                                        \n",
       "3     Excel,Data Analyst,HR System,Data Cleanse,Ches...  \n",
       "4                                                        \n",
       "...                                                 ...  \n",
       "7173                                                     \n",
       "7174                                                     \n",
       "7175                                                     \n",
       "7176                                                     \n",
       "7177                                                     \n",
       "\n",
       "[7178 rows x 12 columns]"
      ]
     },
     "execution_count": 62,
     "metadata": {},
     "output_type": "execute_result"
    }
   ],
   "source": [
    "scraping.collect_all_descriptions(sleep_time = 0.15)"
   ]
  },
  {
   "cell_type": "code",
   "execution_count": 13,
   "id": "fcfea6f6",
   "metadata": {
    "scrolled": true
   },
   "outputs": [],
   "source": [
    "df = pd.read_csv(r'all_jobs_list_with_descriptions_2023_02_18.csv')"
   ]
  },
  {
   "cell_type": "code",
   "execution_count": 14,
   "id": "7aa414ba",
   "metadata": {},
   "outputs": [],
   "source": [
    "cleaner = classes.JobsCleaning(df)"
   ]
  },
  {
   "cell_type": "code",
   "execution_count": 15,
   "id": "76cd3f95",
   "metadata": {},
   "outputs": [
    {
     "name": "stdout",
     "output_type": "stream",
     "text": [
      "Data Analyst      621\n",
      "Data Engineer     603\n",
      "Data Scientist    187\n",
      "Name: jobs_to_consider, dtype: int64\n"
     ]
    },
    {
     "data": {
      "text/html": [
       "<div>\n",
       "<style scoped>\n",
       "    .dataframe tbody tr th:only-of-type {\n",
       "        vertical-align: middle;\n",
       "    }\n",
       "\n",
       "    .dataframe tbody tr th {\n",
       "        vertical-align: top;\n",
       "    }\n",
       "\n",
       "    .dataframe thead th {\n",
       "        text-align: right;\n",
       "    }\n",
       "</style>\n",
       "<table border=\"1\" class=\"dataframe\">\n",
       "  <thead>\n",
       "    <tr style=\"text-align: right;\">\n",
       "      <th></th>\n",
       "      <th>Unnamed: 0</th>\n",
       "      <th>link</th>\n",
       "      <th>title</th>\n",
       "      <th>company_name</th>\n",
       "      <th>salary</th>\n",
       "      <th>permanent</th>\n",
       "      <th>full_time</th>\n",
       "      <th>date_posted</th>\n",
       "      <th>region</th>\n",
       "      <th>city</th>\n",
       "      <th>description_clean</th>\n",
       "      <th>description_html</th>\n",
       "      <th>skills</th>\n",
       "      <th>jobs_to_consider</th>\n",
       "    </tr>\n",
       "  </thead>\n",
       "  <tbody>\n",
       "    <tr>\n",
       "      <th>0</th>\n",
       "      <td>0</td>\n",
       "      <td>/jobs/data-analyst/49600634?source=searchResul...</td>\n",
       "      <td>Data Analyst</td>\n",
       "      <td>Heron Foods</td>\n",
       "      <td>£28,336 per annum</td>\n",
       "      <td>True</td>\n",
       "      <td>True</td>\n",
       "      <td>2023-01-20</td>\n",
       "      <td>Hull</td>\n",
       "      <td>North Humberside</td>\n",
       "      <td>Data Analyst, office based in Hull (Melton HU...</td>\n",
       "      <td>&lt;span itemprop=\"description\"&gt; &lt;p&gt;Data Analyst,...</td>\n",
       "      <td>NaN</td>\n",
       "      <td>Data Analyst</td>\n",
       "    </tr>\n",
       "    <tr>\n",
       "      <th>1</th>\n",
       "      <td>1</td>\n",
       "      <td>/jobs/data-analyst/49811004?source=searchResul...</td>\n",
       "      <td>Data Analyst</td>\n",
       "      <td>Veolia UK</td>\n",
       "      <td>£35,000 per annum</td>\n",
       "      <td>True</td>\n",
       "      <td>True</td>\n",
       "      <td>2023-02-16</td>\n",
       "      <td>London</td>\n",
       "      <td>South East England</td>\n",
       "      <td>Ready to find the right role for you? Salary:...</td>\n",
       "      <td>&lt;span itemprop=\"description\"&gt; &lt;p&gt;Ready to find...</td>\n",
       "      <td>NaN</td>\n",
       "      <td>Data Analyst</td>\n",
       "    </tr>\n",
       "    <tr>\n",
       "      <th>2</th>\n",
       "      <td>2</td>\n",
       "      <td>/jobs/data-analyst/49690594?source=searchResul...</td>\n",
       "      <td>Data Analyst</td>\n",
       "      <td>Premier IT</td>\n",
       "      <td>£40,000 - £45,000 per annum</td>\n",
       "      <td>True</td>\n",
       "      <td>True</td>\n",
       "      <td>2023-02-02</td>\n",
       "      <td>Merseyside</td>\n",
       "      <td>Liverpool</td>\n",
       "      <td>Data Analyst Liverpool – HybridBenefits:  Care...</td>\n",
       "      <td>&lt;span itemprop=\"description\"&gt;&lt;strong&gt;Data Anal...</td>\n",
       "      <td>NaN</td>\n",
       "      <td>Data Analyst</td>\n",
       "    </tr>\n",
       "    <tr>\n",
       "      <th>3</th>\n",
       "      <td>3</td>\n",
       "      <td>/jobs/data-analyst/49633648?source=searchResul...</td>\n",
       "      <td>Data Analyst</td>\n",
       "      <td>Elevation Recruitment Group</td>\n",
       "      <td>£55,000 - £60,000 per annum</td>\n",
       "      <td>False</td>\n",
       "      <td>True</td>\n",
       "      <td>2023-01-25</td>\n",
       "      <td>Derbyshire</td>\n",
       "      <td>Chesterfield</td>\n",
       "      <td>Elevation Recruitment Group are pleased to be ...</td>\n",
       "      <td>&lt;span itemprop=\"description\"&gt;Elevation Recruit...</td>\n",
       "      <td>Excel,Data Analyst,HR System,Data Cleanse,Ches...</td>\n",
       "      <td>Data Analyst</td>\n",
       "    </tr>\n",
       "    <tr>\n",
       "      <th>4</th>\n",
       "      <td>4</td>\n",
       "      <td>/jobs/data-analyst/49494946?source=searchResul...</td>\n",
       "      <td>Data Analyst</td>\n",
       "      <td>Concept Resourcing</td>\n",
       "      <td>£25,000 - £30,000 per annum</td>\n",
       "      <td>True</td>\n",
       "      <td>True</td>\n",
       "      <td>2023-01-11</td>\n",
       "      <td>Oxfordshire</td>\n",
       "      <td>Thame</td>\n",
       "      <td>Data Analyst - Managed Service Provider - Tha...</td>\n",
       "      <td>&lt;span itemprop=\"description\"&gt; &lt;p&gt;&lt;strong&gt;Data ...</td>\n",
       "      <td>NaN</td>\n",
       "      <td>Data Analyst</td>\n",
       "    </tr>\n",
       "    <tr>\n",
       "      <th>...</th>\n",
       "      <td>...</td>\n",
       "      <td>...</td>\n",
       "      <td>...</td>\n",
       "      <td>...</td>\n",
       "      <td>...</td>\n",
       "      <td>...</td>\n",
       "      <td>...</td>\n",
       "      <td>...</td>\n",
       "      <td>...</td>\n",
       "      <td>...</td>\n",
       "      <td>...</td>\n",
       "      <td>...</td>\n",
       "      <td>...</td>\n",
       "      <td>...</td>\n",
       "    </tr>\n",
       "    <tr>\n",
       "      <th>7173</th>\n",
       "      <td>7173</td>\n",
       "      <td>/jobs/systems-engineer-seeker-modelling-and-si...</td>\n",
       "      <td>Systems Engineer: Seeker Modelling and Simulation</td>\n",
       "      <td>MBDA</td>\n",
       "      <td>Competitive salary</td>\n",
       "      <td>True</td>\n",
       "      <td>True</td>\n",
       "      <td>2023-02-01</td>\n",
       "      <td>Hertfordshire</td>\n",
       "      <td>Stevenage</td>\n",
       "      <td>Stevenage Together. For the future of defence...</td>\n",
       "      <td>&lt;span itemprop=\"description\"&gt; &lt;p&gt;&lt;b&gt;Stevenage&lt;...</td>\n",
       "      <td>NaN</td>\n",
       "      <td>None</td>\n",
       "    </tr>\n",
       "    <tr>\n",
       "      <th>7174</th>\n",
       "      <td>7174</td>\n",
       "      <td>/jobs/senior-c-software-engineer-tech-driven-p...</td>\n",
       "      <td>Senior C++ Software Engineer- Tech-Driven Prop...</td>\n",
       "      <td>eFinancialCareers</td>\n",
       "      <td>Competitive salary</td>\n",
       "      <td>True</td>\n",
       "      <td>True</td>\n",
       "      <td>2023-02-16</td>\n",
       "      <td>South East England</td>\n",
       "      <td>London</td>\n",
       "      <td>My client is a leading tech-driven prop tradin...</td>\n",
       "      <td>&lt;span itemprop=\"description\"&gt;My client is a le...</td>\n",
       "      <td>NaN</td>\n",
       "      <td>None</td>\n",
       "    </tr>\n",
       "    <tr>\n",
       "      <th>7175</th>\n",
       "      <td>7175</td>\n",
       "      <td>/jobs/it-project-engineer-for-industrial-infor...</td>\n",
       "      <td>IT Project Engineer for Industrial Information...</td>\n",
       "      <td>MBDA</td>\n",
       "      <td>Competitive salary</td>\n",
       "      <td>True</td>\n",
       "      <td>True</td>\n",
       "      <td>2023-01-30</td>\n",
       "      <td>Lancashire</td>\n",
       "      <td>Bolton</td>\n",
       "      <td>Bolton Salary: Up to £53K dependent on experi...</td>\n",
       "      <td>&lt;span itemprop=\"description\"&gt; &lt;p&gt;&lt;b&gt;Bolton&lt;/b&gt;...</td>\n",
       "      <td>NaN</td>\n",
       "      <td>None</td>\n",
       "    </tr>\n",
       "    <tr>\n",
       "      <th>7176</th>\n",
       "      <td>7176</td>\n",
       "      <td>/jobs/devops-engineer-must-have-good-developme...</td>\n",
       "      <td>DevOps Engineer - Must have good Development S...</td>\n",
       "      <td>The Workplace Consultancy</td>\n",
       "      <td>£80,000 - £100,000 per annum</td>\n",
       "      <td>True</td>\n",
       "      <td>True</td>\n",
       "      <td>2023-01-25</td>\n",
       "      <td>London</td>\n",
       "      <td>South East England</td>\n",
       "      <td>Founded in 2010 by ex-investment bankers, My ...</td>\n",
       "      <td>&lt;span itemprop=\"description\"&gt; &lt;p&gt;Founded in 20...</td>\n",
       "      <td>NaN</td>\n",
       "      <td>None</td>\n",
       "    </tr>\n",
       "    <tr>\n",
       "      <th>7177</th>\n",
       "      <td>7177</td>\n",
       "      <td>/jobs/devops-engineer-global-fintech-ci-cd-cit...</td>\n",
       "      <td>DevOps Engineer - Global FINTECH - CI/CD / CIT...</td>\n",
       "      <td>The Workplace Consultancy</td>\n",
       "      <td>£80,000 - £100,000 per annum</td>\n",
       "      <td>True</td>\n",
       "      <td>True</td>\n",
       "      <td>2023-01-16</td>\n",
       "      <td>London</td>\n",
       "      <td>South East England</td>\n",
       "      <td>Founded in 2010 by ex-investment bankers, My ...</td>\n",
       "      <td>&lt;span itemprop=\"description\"&gt; &lt;p&gt;Founded in 20...</td>\n",
       "      <td>NaN</td>\n",
       "      <td>None</td>\n",
       "    </tr>\n",
       "  </tbody>\n",
       "</table>\n",
       "<p>7178 rows × 14 columns</p>\n",
       "</div>"
      ],
      "text/plain": [
       "      Unnamed: 0                                               link  \\\n",
       "0              0  /jobs/data-analyst/49600634?source=searchResul...   \n",
       "1              1  /jobs/data-analyst/49811004?source=searchResul...   \n",
       "2              2  /jobs/data-analyst/49690594?source=searchResul...   \n",
       "3              3  /jobs/data-analyst/49633648?source=searchResul...   \n",
       "4              4  /jobs/data-analyst/49494946?source=searchResul...   \n",
       "...          ...                                                ...   \n",
       "7173        7173  /jobs/systems-engineer-seeker-modelling-and-si...   \n",
       "7174        7174  /jobs/senior-c-software-engineer-tech-driven-p...   \n",
       "7175        7175  /jobs/it-project-engineer-for-industrial-infor...   \n",
       "7176        7176  /jobs/devops-engineer-must-have-good-developme...   \n",
       "7177        7177  /jobs/devops-engineer-global-fintech-ci-cd-cit...   \n",
       "\n",
       "                                                  title  \\\n",
       "0                                          Data Analyst   \n",
       "1                                          Data Analyst   \n",
       "2                                          Data Analyst   \n",
       "3                                          Data Analyst   \n",
       "4                                          Data Analyst   \n",
       "...                                                 ...   \n",
       "7173  Systems Engineer: Seeker Modelling and Simulation   \n",
       "7174  Senior C++ Software Engineer- Tech-Driven Prop...   \n",
       "7175  IT Project Engineer for Industrial Information...   \n",
       "7176  DevOps Engineer - Must have good Development S...   \n",
       "7177  DevOps Engineer - Global FINTECH - CI/CD / CIT...   \n",
       "\n",
       "                     company_name                        salary  permanent  \\\n",
       "0                     Heron Foods             £28,336 per annum       True   \n",
       "1                       Veolia UK             £35,000 per annum       True   \n",
       "2                      Premier IT   £40,000 - £45,000 per annum       True   \n",
       "3     Elevation Recruitment Group   £55,000 - £60,000 per annum      False   \n",
       "4              Concept Resourcing   £25,000 - £30,000 per annum       True   \n",
       "...                           ...                           ...        ...   \n",
       "7173                         MBDA            Competitive salary       True   \n",
       "7174            eFinancialCareers            Competitive salary       True   \n",
       "7175                         MBDA            Competitive salary       True   \n",
       "7176    The Workplace Consultancy  £80,000 - £100,000 per annum       True   \n",
       "7177    The Workplace Consultancy  £80,000 - £100,000 per annum       True   \n",
       "\n",
       "      full_time date_posted              region                city  \\\n",
       "0          True  2023-01-20                Hull    North Humberside   \n",
       "1          True  2023-02-16              London  South East England   \n",
       "2          True  2023-02-02          Merseyside           Liverpool   \n",
       "3          True  2023-01-25          Derbyshire        Chesterfield   \n",
       "4          True  2023-01-11         Oxfordshire               Thame   \n",
       "...         ...         ...                 ...                 ...   \n",
       "7173       True  2023-02-01       Hertfordshire           Stevenage   \n",
       "7174       True  2023-02-16  South East England              London   \n",
       "7175       True  2023-01-30          Lancashire              Bolton   \n",
       "7176       True  2023-01-25              London  South East England   \n",
       "7177       True  2023-01-16              London  South East England   \n",
       "\n",
       "                                      description_clean  \\\n",
       "0      Data Analyst, office based in Hull (Melton HU...   \n",
       "1      Ready to find the right role for you? Salary:...   \n",
       "2     Data Analyst Liverpool – HybridBenefits:  Care...   \n",
       "3     Elevation Recruitment Group are pleased to be ...   \n",
       "4      Data Analyst - Managed Service Provider - Tha...   \n",
       "...                                                 ...   \n",
       "7173   Stevenage Together. For the future of defence...   \n",
       "7174  My client is a leading tech-driven prop tradin...   \n",
       "7175   Bolton Salary: Up to £53K dependent on experi...   \n",
       "7176   Founded in 2010 by ex-investment bankers, My ...   \n",
       "7177   Founded in 2010 by ex-investment bankers, My ...   \n",
       "\n",
       "                                       description_html  \\\n",
       "0     <span itemprop=\"description\"> <p>Data Analyst,...   \n",
       "1     <span itemprop=\"description\"> <p>Ready to find...   \n",
       "2     <span itemprop=\"description\"><strong>Data Anal...   \n",
       "3     <span itemprop=\"description\">Elevation Recruit...   \n",
       "4     <span itemprop=\"description\"> <p><strong>Data ...   \n",
       "...                                                 ...   \n",
       "7173  <span itemprop=\"description\"> <p><b>Stevenage<...   \n",
       "7174  <span itemprop=\"description\">My client is a le...   \n",
       "7175  <span itemprop=\"description\"> <p><b>Bolton</b>...   \n",
       "7176  <span itemprop=\"description\"> <p>Founded in 20...   \n",
       "7177  <span itemprop=\"description\"> <p>Founded in 20...   \n",
       "\n",
       "                                                 skills jobs_to_consider  \n",
       "0                                                   NaN     Data Analyst  \n",
       "1                                                   NaN     Data Analyst  \n",
       "2                                                   NaN     Data Analyst  \n",
       "3     Excel,Data Analyst,HR System,Data Cleanse,Ches...     Data Analyst  \n",
       "4                                                   NaN     Data Analyst  \n",
       "...                                                 ...              ...  \n",
       "7173                                                NaN             None  \n",
       "7174                                                NaN             None  \n",
       "7175                                                NaN             None  \n",
       "7176                                                NaN             None  \n",
       "7177                                                NaN             None  \n",
       "\n",
       "[7178 rows x 14 columns]"
      ]
     },
     "execution_count": 15,
     "metadata": {},
     "output_type": "execute_result"
    }
   ],
   "source": [
    "jobs_list = [\"Data Engineer\",\n",
    "             \"Data Scientist\",\n",
    "             \"Data Analyst\",\n",
    "             \"Data Engineering\"]\n",
    "cleaner.jobs_to_look_for(jobs_list)"
   ]
  },
  {
   "cell_type": "code",
   "execution_count": 16,
   "id": "b4a34aaa",
   "metadata": {},
   "outputs": [
    {
     "data": {
      "text/html": [
       "<div>\n",
       "<style scoped>\n",
       "    .dataframe tbody tr th:only-of-type {\n",
       "        vertical-align: middle;\n",
       "    }\n",
       "\n",
       "    .dataframe tbody tr th {\n",
       "        vertical-align: top;\n",
       "    }\n",
       "\n",
       "    .dataframe thead th {\n",
       "        text-align: right;\n",
       "    }\n",
       "</style>\n",
       "<table border=\"1\" class=\"dataframe\">\n",
       "  <thead>\n",
       "    <tr style=\"text-align: right;\">\n",
       "      <th></th>\n",
       "      <th>Unnamed: 0</th>\n",
       "      <th>link</th>\n",
       "      <th>title</th>\n",
       "      <th>company_name</th>\n",
       "      <th>salary</th>\n",
       "      <th>permanent</th>\n",
       "      <th>full_time</th>\n",
       "      <th>date_posted</th>\n",
       "      <th>region</th>\n",
       "      <th>city</th>\n",
       "      <th>description_clean</th>\n",
       "      <th>description_html</th>\n",
       "      <th>skills</th>\n",
       "      <th>jobs_to_consider</th>\n",
       "    </tr>\n",
       "  </thead>\n",
       "  <tbody>\n",
       "    <tr>\n",
       "      <th>0</th>\n",
       "      <td>0</td>\n",
       "      <td>/jobs/data-analyst/49600634?source=searchResul...</td>\n",
       "      <td>data analyst</td>\n",
       "      <td>Heron Foods</td>\n",
       "      <td>£28,336 per annum</td>\n",
       "      <td>True</td>\n",
       "      <td>True</td>\n",
       "      <td>2023-01-20</td>\n",
       "      <td>Hull</td>\n",
       "      <td>North Humberside</td>\n",
       "      <td>data analyst, office based in hull (melton hu...</td>\n",
       "      <td>&lt;span itemprop=\"description\"&gt; &lt;p&gt;Data Analyst,...</td>\n",
       "      <td>NaN</td>\n",
       "      <td>Data Analyst</td>\n",
       "    </tr>\n",
       "    <tr>\n",
       "      <th>1</th>\n",
       "      <td>1</td>\n",
       "      <td>/jobs/data-analyst/49811004?source=searchResul...</td>\n",
       "      <td>data analyst</td>\n",
       "      <td>Veolia UK</td>\n",
       "      <td>£35,000 per annum</td>\n",
       "      <td>True</td>\n",
       "      <td>True</td>\n",
       "      <td>2023-02-16</td>\n",
       "      <td>London</td>\n",
       "      <td>South East England</td>\n",
       "      <td>ready to find the right role for you? salary:...</td>\n",
       "      <td>&lt;span itemprop=\"description\"&gt; &lt;p&gt;Ready to find...</td>\n",
       "      <td>NaN</td>\n",
       "      <td>Data Analyst</td>\n",
       "    </tr>\n",
       "    <tr>\n",
       "      <th>2</th>\n",
       "      <td>2</td>\n",
       "      <td>/jobs/data-analyst/49690594?source=searchResul...</td>\n",
       "      <td>data analyst</td>\n",
       "      <td>Premier IT</td>\n",
       "      <td>£40,000 - £45,000 per annum</td>\n",
       "      <td>True</td>\n",
       "      <td>True</td>\n",
       "      <td>2023-02-02</td>\n",
       "      <td>Merseyside</td>\n",
       "      <td>Liverpool</td>\n",
       "      <td>data analyst liverpool – hybridbenefits:  care...</td>\n",
       "      <td>&lt;span itemprop=\"description\"&gt;&lt;strong&gt;Data Anal...</td>\n",
       "      <td>NaN</td>\n",
       "      <td>Data Analyst</td>\n",
       "    </tr>\n",
       "    <tr>\n",
       "      <th>3</th>\n",
       "      <td>3</td>\n",
       "      <td>/jobs/data-analyst/49633648?source=searchResul...</td>\n",
       "      <td>data analyst</td>\n",
       "      <td>Elevation Recruitment Group</td>\n",
       "      <td>£55,000 - £60,000 per annum</td>\n",
       "      <td>False</td>\n",
       "      <td>True</td>\n",
       "      <td>2023-01-25</td>\n",
       "      <td>Derbyshire</td>\n",
       "      <td>Chesterfield</td>\n",
       "      <td>elevation recruitment group are pleased to be ...</td>\n",
       "      <td>&lt;span itemprop=\"description\"&gt;Elevation Recruit...</td>\n",
       "      <td>excel,data analyst,hr system,data cleanse,ches...</td>\n",
       "      <td>Data Analyst</td>\n",
       "    </tr>\n",
       "    <tr>\n",
       "      <th>4</th>\n",
       "      <td>4</td>\n",
       "      <td>/jobs/data-analyst/49494946?source=searchResul...</td>\n",
       "      <td>data analyst</td>\n",
       "      <td>Concept Resourcing</td>\n",
       "      <td>£25,000 - £30,000 per annum</td>\n",
       "      <td>True</td>\n",
       "      <td>True</td>\n",
       "      <td>2023-01-11</td>\n",
       "      <td>Oxfordshire</td>\n",
       "      <td>Thame</td>\n",
       "      <td>data analyst - managed service provider - tha...</td>\n",
       "      <td>&lt;span itemprop=\"description\"&gt; &lt;p&gt;&lt;strong&gt;Data ...</td>\n",
       "      <td>NaN</td>\n",
       "      <td>Data Analyst</td>\n",
       "    </tr>\n",
       "    <tr>\n",
       "      <th>...</th>\n",
       "      <td>...</td>\n",
       "      <td>...</td>\n",
       "      <td>...</td>\n",
       "      <td>...</td>\n",
       "      <td>...</td>\n",
       "      <td>...</td>\n",
       "      <td>...</td>\n",
       "      <td>...</td>\n",
       "      <td>...</td>\n",
       "      <td>...</td>\n",
       "      <td>...</td>\n",
       "      <td>...</td>\n",
       "      <td>...</td>\n",
       "      <td>...</td>\n",
       "    </tr>\n",
       "    <tr>\n",
       "      <th>7173</th>\n",
       "      <td>7173</td>\n",
       "      <td>/jobs/systems-engineer-seeker-modelling-and-si...</td>\n",
       "      <td>systems engineer: seeker modelling and simulation</td>\n",
       "      <td>MBDA</td>\n",
       "      <td>Competitive salary</td>\n",
       "      <td>True</td>\n",
       "      <td>True</td>\n",
       "      <td>2023-02-01</td>\n",
       "      <td>Hertfordshire</td>\n",
       "      <td>Stevenage</td>\n",
       "      <td>stevenage together. for the future of defence...</td>\n",
       "      <td>&lt;span itemprop=\"description\"&gt; &lt;p&gt;&lt;b&gt;Stevenage&lt;...</td>\n",
       "      <td>NaN</td>\n",
       "      <td>None</td>\n",
       "    </tr>\n",
       "    <tr>\n",
       "      <th>7174</th>\n",
       "      <td>7174</td>\n",
       "      <td>/jobs/senior-c-software-engineer-tech-driven-p...</td>\n",
       "      <td>senior c++ software engineer- tech-driven prop...</td>\n",
       "      <td>eFinancialCareers</td>\n",
       "      <td>Competitive salary</td>\n",
       "      <td>True</td>\n",
       "      <td>True</td>\n",
       "      <td>2023-02-16</td>\n",
       "      <td>South East England</td>\n",
       "      <td>London</td>\n",
       "      <td>my client is a leading tech-driven prop tradin...</td>\n",
       "      <td>&lt;span itemprop=\"description\"&gt;My client is a le...</td>\n",
       "      <td>NaN</td>\n",
       "      <td>None</td>\n",
       "    </tr>\n",
       "    <tr>\n",
       "      <th>7175</th>\n",
       "      <td>7175</td>\n",
       "      <td>/jobs/it-project-engineer-for-industrial-infor...</td>\n",
       "      <td>it project engineer for industrial information...</td>\n",
       "      <td>MBDA</td>\n",
       "      <td>Competitive salary</td>\n",
       "      <td>True</td>\n",
       "      <td>True</td>\n",
       "      <td>2023-01-30</td>\n",
       "      <td>Lancashire</td>\n",
       "      <td>Bolton</td>\n",
       "      <td>bolton salary: up to £53k dependent on experi...</td>\n",
       "      <td>&lt;span itemprop=\"description\"&gt; &lt;p&gt;&lt;b&gt;Bolton&lt;/b&gt;...</td>\n",
       "      <td>NaN</td>\n",
       "      <td>None</td>\n",
       "    </tr>\n",
       "    <tr>\n",
       "      <th>7176</th>\n",
       "      <td>7176</td>\n",
       "      <td>/jobs/devops-engineer-must-have-good-developme...</td>\n",
       "      <td>devops engineer - must have good development s...</td>\n",
       "      <td>The Workplace Consultancy</td>\n",
       "      <td>£80,000 - £100,000 per annum</td>\n",
       "      <td>True</td>\n",
       "      <td>True</td>\n",
       "      <td>2023-01-25</td>\n",
       "      <td>London</td>\n",
       "      <td>South East England</td>\n",
       "      <td>founded in 2010 by ex-investment bankers, my ...</td>\n",
       "      <td>&lt;span itemprop=\"description\"&gt; &lt;p&gt;Founded in 20...</td>\n",
       "      <td>NaN</td>\n",
       "      <td>None</td>\n",
       "    </tr>\n",
       "    <tr>\n",
       "      <th>7177</th>\n",
       "      <td>7177</td>\n",
       "      <td>/jobs/devops-engineer-global-fintech-ci-cd-cit...</td>\n",
       "      <td>devops engineer - global fintech - ci/cd / cit...</td>\n",
       "      <td>The Workplace Consultancy</td>\n",
       "      <td>£80,000 - £100,000 per annum</td>\n",
       "      <td>True</td>\n",
       "      <td>True</td>\n",
       "      <td>2023-01-16</td>\n",
       "      <td>London</td>\n",
       "      <td>South East England</td>\n",
       "      <td>founded in 2010 by ex-investment bankers, my ...</td>\n",
       "      <td>&lt;span itemprop=\"description\"&gt; &lt;p&gt;Founded in 20...</td>\n",
       "      <td>NaN</td>\n",
       "      <td>None</td>\n",
       "    </tr>\n",
       "  </tbody>\n",
       "</table>\n",
       "<p>7178 rows × 14 columns</p>\n",
       "</div>"
      ],
      "text/plain": [
       "      Unnamed: 0                                               link  \\\n",
       "0              0  /jobs/data-analyst/49600634?source=searchResul...   \n",
       "1              1  /jobs/data-analyst/49811004?source=searchResul...   \n",
       "2              2  /jobs/data-analyst/49690594?source=searchResul...   \n",
       "3              3  /jobs/data-analyst/49633648?source=searchResul...   \n",
       "4              4  /jobs/data-analyst/49494946?source=searchResul...   \n",
       "...          ...                                                ...   \n",
       "7173        7173  /jobs/systems-engineer-seeker-modelling-and-si...   \n",
       "7174        7174  /jobs/senior-c-software-engineer-tech-driven-p...   \n",
       "7175        7175  /jobs/it-project-engineer-for-industrial-infor...   \n",
       "7176        7176  /jobs/devops-engineer-must-have-good-developme...   \n",
       "7177        7177  /jobs/devops-engineer-global-fintech-ci-cd-cit...   \n",
       "\n",
       "                                                  title  \\\n",
       "0                                          data analyst   \n",
       "1                                          data analyst   \n",
       "2                                          data analyst   \n",
       "3                                          data analyst   \n",
       "4                                          data analyst   \n",
       "...                                                 ...   \n",
       "7173  systems engineer: seeker modelling and simulation   \n",
       "7174  senior c++ software engineer- tech-driven prop...   \n",
       "7175  it project engineer for industrial information...   \n",
       "7176  devops engineer - must have good development s...   \n",
       "7177  devops engineer - global fintech - ci/cd / cit...   \n",
       "\n",
       "                     company_name                        salary  permanent  \\\n",
       "0                     Heron Foods             £28,336 per annum       True   \n",
       "1                       Veolia UK             £35,000 per annum       True   \n",
       "2                      Premier IT   £40,000 - £45,000 per annum       True   \n",
       "3     Elevation Recruitment Group   £55,000 - £60,000 per annum      False   \n",
       "4              Concept Resourcing   £25,000 - £30,000 per annum       True   \n",
       "...                           ...                           ...        ...   \n",
       "7173                         MBDA            Competitive salary       True   \n",
       "7174            eFinancialCareers            Competitive salary       True   \n",
       "7175                         MBDA            Competitive salary       True   \n",
       "7176    The Workplace Consultancy  £80,000 - £100,000 per annum       True   \n",
       "7177    The Workplace Consultancy  £80,000 - £100,000 per annum       True   \n",
       "\n",
       "      full_time date_posted              region                city  \\\n",
       "0          True  2023-01-20                Hull    North Humberside   \n",
       "1          True  2023-02-16              London  South East England   \n",
       "2          True  2023-02-02          Merseyside           Liverpool   \n",
       "3          True  2023-01-25          Derbyshire        Chesterfield   \n",
       "4          True  2023-01-11         Oxfordshire               Thame   \n",
       "...         ...         ...                 ...                 ...   \n",
       "7173       True  2023-02-01       Hertfordshire           Stevenage   \n",
       "7174       True  2023-02-16  South East England              London   \n",
       "7175       True  2023-01-30          Lancashire              Bolton   \n",
       "7176       True  2023-01-25              London  South East England   \n",
       "7177       True  2023-01-16              London  South East England   \n",
       "\n",
       "                                      description_clean  \\\n",
       "0      data analyst, office based in hull (melton hu...   \n",
       "1      ready to find the right role for you? salary:...   \n",
       "2     data analyst liverpool – hybridbenefits:  care...   \n",
       "3     elevation recruitment group are pleased to be ...   \n",
       "4      data analyst - managed service provider - tha...   \n",
       "...                                                 ...   \n",
       "7173   stevenage together. for the future of defence...   \n",
       "7174  my client is a leading tech-driven prop tradin...   \n",
       "7175   bolton salary: up to £53k dependent on experi...   \n",
       "7176   founded in 2010 by ex-investment bankers, my ...   \n",
       "7177   founded in 2010 by ex-investment bankers, my ...   \n",
       "\n",
       "                                       description_html  \\\n",
       "0     <span itemprop=\"description\"> <p>Data Analyst,...   \n",
       "1     <span itemprop=\"description\"> <p>Ready to find...   \n",
       "2     <span itemprop=\"description\"><strong>Data Anal...   \n",
       "3     <span itemprop=\"description\">Elevation Recruit...   \n",
       "4     <span itemprop=\"description\"> <p><strong>Data ...   \n",
       "...                                                 ...   \n",
       "7173  <span itemprop=\"description\"> <p><b>Stevenage<...   \n",
       "7174  <span itemprop=\"description\">My client is a le...   \n",
       "7175  <span itemprop=\"description\"> <p><b>Bolton</b>...   \n",
       "7176  <span itemprop=\"description\"> <p>Founded in 20...   \n",
       "7177  <span itemprop=\"description\"> <p>Founded in 20...   \n",
       "\n",
       "                                                 skills jobs_to_consider  \n",
       "0                                                   NaN     Data Analyst  \n",
       "1                                                   NaN     Data Analyst  \n",
       "2                                                   NaN     Data Analyst  \n",
       "3     excel,data analyst,hr system,data cleanse,ches...     Data Analyst  \n",
       "4                                                   NaN     Data Analyst  \n",
       "...                                                 ...              ...  \n",
       "7173                                                NaN             None  \n",
       "7174                                                NaN             None  \n",
       "7175                                                NaN             None  \n",
       "7176                                                NaN             None  \n",
       "7177                                                NaN             None  \n",
       "\n",
       "[7178 rows x 14 columns]"
      ]
     },
     "execution_count": 16,
     "metadata": {},
     "output_type": "execute_result"
    }
   ],
   "source": [
    "cleaner.make_lower_case()"
   ]
  },
  {
   "cell_type": "code",
   "execution_count": 17,
   "id": "b2667db9",
   "metadata": {},
   "outputs": [
    {
     "data": {
      "text/html": [
       "<div>\n",
       "<style scoped>\n",
       "    .dataframe tbody tr th:only-of-type {\n",
       "        vertical-align: middle;\n",
       "    }\n",
       "\n",
       "    .dataframe tbody tr th {\n",
       "        vertical-align: top;\n",
       "    }\n",
       "\n",
       "    .dataframe thead th {\n",
       "        text-align: right;\n",
       "    }\n",
       "</style>\n",
       "<table border=\"1\" class=\"dataframe\">\n",
       "  <thead>\n",
       "    <tr style=\"text-align: right;\">\n",
       "      <th></th>\n",
       "      <th>Unnamed: 0</th>\n",
       "      <th>link</th>\n",
       "      <th>title</th>\n",
       "      <th>company_name</th>\n",
       "      <th>salary</th>\n",
       "      <th>permanent</th>\n",
       "      <th>full_time</th>\n",
       "      <th>date_posted</th>\n",
       "      <th>region</th>\n",
       "      <th>city</th>\n",
       "      <th>description_clean</th>\n",
       "      <th>description_html</th>\n",
       "      <th>skills</th>\n",
       "      <th>jobs_to_consider</th>\n",
       "    </tr>\n",
       "  </thead>\n",
       "  <tbody>\n",
       "    <tr>\n",
       "      <th>0</th>\n",
       "      <td>0</td>\n",
       "      <td>/jobs/data-analyst/49600634?source=searchResul...</td>\n",
       "      <td>data analyst</td>\n",
       "      <td>Heron Foods</td>\n",
       "      <td>£28,336 per annum</td>\n",
       "      <td>True</td>\n",
       "      <td>True</td>\n",
       "      <td>2023-01-20</td>\n",
       "      <td>Hull</td>\n",
       "      <td>North Humberside</td>\n",
       "      <td>data analyst, office based in hull (melton hu...</td>\n",
       "      <td>&lt;span itemprop=\"description\"&gt; &lt;p&gt;Data Analyst,...</td>\n",
       "      <td>NaN</td>\n",
       "      <td>Data Analyst</td>\n",
       "    </tr>\n",
       "    <tr>\n",
       "      <th>1</th>\n",
       "      <td>1</td>\n",
       "      <td>/jobs/data-analyst/49811004?source=searchResul...</td>\n",
       "      <td>data analyst</td>\n",
       "      <td>Veolia UK</td>\n",
       "      <td>£35,000 per annum</td>\n",
       "      <td>True</td>\n",
       "      <td>True</td>\n",
       "      <td>2023-02-16</td>\n",
       "      <td>London</td>\n",
       "      <td>London</td>\n",
       "      <td>ready to find the right role for you? salary:...</td>\n",
       "      <td>&lt;span itemprop=\"description\"&gt; &lt;p&gt;Ready to find...</td>\n",
       "      <td>NaN</td>\n",
       "      <td>Data Analyst</td>\n",
       "    </tr>\n",
       "    <tr>\n",
       "      <th>2</th>\n",
       "      <td>2</td>\n",
       "      <td>/jobs/data-analyst/49690594?source=searchResul...</td>\n",
       "      <td>data analyst</td>\n",
       "      <td>Premier IT</td>\n",
       "      <td>£40,000 - £45,000 per annum</td>\n",
       "      <td>True</td>\n",
       "      <td>True</td>\n",
       "      <td>2023-02-02</td>\n",
       "      <td>Merseyside</td>\n",
       "      <td>Liverpool</td>\n",
       "      <td>data analyst liverpool – hybridbenefits:  care...</td>\n",
       "      <td>&lt;span itemprop=\"description\"&gt;&lt;strong&gt;Data Anal...</td>\n",
       "      <td>NaN</td>\n",
       "      <td>Data Analyst</td>\n",
       "    </tr>\n",
       "    <tr>\n",
       "      <th>3</th>\n",
       "      <td>3</td>\n",
       "      <td>/jobs/data-analyst/49633648?source=searchResul...</td>\n",
       "      <td>data analyst</td>\n",
       "      <td>Elevation Recruitment Group</td>\n",
       "      <td>£55,000 - £60,000 per annum</td>\n",
       "      <td>False</td>\n",
       "      <td>True</td>\n",
       "      <td>2023-01-25</td>\n",
       "      <td>Derbyshire</td>\n",
       "      <td>Chesterfield</td>\n",
       "      <td>elevation recruitment group are pleased to be ...</td>\n",
       "      <td>&lt;span itemprop=\"description\"&gt;Elevation Recruit...</td>\n",
       "      <td>excel,data analyst,hr system,data cleanse,ches...</td>\n",
       "      <td>Data Analyst</td>\n",
       "    </tr>\n",
       "    <tr>\n",
       "      <th>4</th>\n",
       "      <td>4</td>\n",
       "      <td>/jobs/data-analyst/49494946?source=searchResul...</td>\n",
       "      <td>data analyst</td>\n",
       "      <td>Concept Resourcing</td>\n",
       "      <td>£25,000 - £30,000 per annum</td>\n",
       "      <td>True</td>\n",
       "      <td>True</td>\n",
       "      <td>2023-01-11</td>\n",
       "      <td>Oxfordshire</td>\n",
       "      <td>Thame</td>\n",
       "      <td>data analyst - managed service provider - tha...</td>\n",
       "      <td>&lt;span itemprop=\"description\"&gt; &lt;p&gt;&lt;strong&gt;Data ...</td>\n",
       "      <td>NaN</td>\n",
       "      <td>Data Analyst</td>\n",
       "    </tr>\n",
       "    <tr>\n",
       "      <th>...</th>\n",
       "      <td>...</td>\n",
       "      <td>...</td>\n",
       "      <td>...</td>\n",
       "      <td>...</td>\n",
       "      <td>...</td>\n",
       "      <td>...</td>\n",
       "      <td>...</td>\n",
       "      <td>...</td>\n",
       "      <td>...</td>\n",
       "      <td>...</td>\n",
       "      <td>...</td>\n",
       "      <td>...</td>\n",
       "      <td>...</td>\n",
       "      <td>...</td>\n",
       "    </tr>\n",
       "    <tr>\n",
       "      <th>7173</th>\n",
       "      <td>7173</td>\n",
       "      <td>/jobs/systems-engineer-seeker-modelling-and-si...</td>\n",
       "      <td>systems engineer: seeker modelling and simulation</td>\n",
       "      <td>MBDA</td>\n",
       "      <td>Competitive salary</td>\n",
       "      <td>True</td>\n",
       "      <td>True</td>\n",
       "      <td>2023-02-01</td>\n",
       "      <td>Hertfordshire</td>\n",
       "      <td>Stevenage</td>\n",
       "      <td>stevenage together. for the future of defence...</td>\n",
       "      <td>&lt;span itemprop=\"description\"&gt; &lt;p&gt;&lt;b&gt;Stevenage&lt;...</td>\n",
       "      <td>NaN</td>\n",
       "      <td>None</td>\n",
       "    </tr>\n",
       "    <tr>\n",
       "      <th>7174</th>\n",
       "      <td>7174</td>\n",
       "      <td>/jobs/senior-c-software-engineer-tech-driven-p...</td>\n",
       "      <td>senior c++ software engineer- tech-driven prop...</td>\n",
       "      <td>eFinancialCareers</td>\n",
       "      <td>Competitive salary</td>\n",
       "      <td>True</td>\n",
       "      <td>True</td>\n",
       "      <td>2023-02-16</td>\n",
       "      <td>South East England</td>\n",
       "      <td>London</td>\n",
       "      <td>my client is a leading tech-driven prop tradin...</td>\n",
       "      <td>&lt;span itemprop=\"description\"&gt;My client is a le...</td>\n",
       "      <td>NaN</td>\n",
       "      <td>None</td>\n",
       "    </tr>\n",
       "    <tr>\n",
       "      <th>7175</th>\n",
       "      <td>7175</td>\n",
       "      <td>/jobs/it-project-engineer-for-industrial-infor...</td>\n",
       "      <td>it project engineer for industrial information...</td>\n",
       "      <td>MBDA</td>\n",
       "      <td>Competitive salary</td>\n",
       "      <td>True</td>\n",
       "      <td>True</td>\n",
       "      <td>2023-01-30</td>\n",
       "      <td>Lancashire</td>\n",
       "      <td>Bolton</td>\n",
       "      <td>bolton salary: up to £53k dependent on experi...</td>\n",
       "      <td>&lt;span itemprop=\"description\"&gt; &lt;p&gt;&lt;b&gt;Bolton&lt;/b&gt;...</td>\n",
       "      <td>NaN</td>\n",
       "      <td>None</td>\n",
       "    </tr>\n",
       "    <tr>\n",
       "      <th>7176</th>\n",
       "      <td>7176</td>\n",
       "      <td>/jobs/devops-engineer-must-have-good-developme...</td>\n",
       "      <td>devops engineer - must have good development s...</td>\n",
       "      <td>The Workplace Consultancy</td>\n",
       "      <td>£80,000 - £100,000 per annum</td>\n",
       "      <td>True</td>\n",
       "      <td>True</td>\n",
       "      <td>2023-01-25</td>\n",
       "      <td>London</td>\n",
       "      <td>London</td>\n",
       "      <td>founded in 2010 by ex-investment bankers, my ...</td>\n",
       "      <td>&lt;span itemprop=\"description\"&gt; &lt;p&gt;Founded in 20...</td>\n",
       "      <td>NaN</td>\n",
       "      <td>None</td>\n",
       "    </tr>\n",
       "    <tr>\n",
       "      <th>7177</th>\n",
       "      <td>7177</td>\n",
       "      <td>/jobs/devops-engineer-global-fintech-ci-cd-cit...</td>\n",
       "      <td>devops engineer - global fintech - ci/cd / cit...</td>\n",
       "      <td>The Workplace Consultancy</td>\n",
       "      <td>£80,000 - £100,000 per annum</td>\n",
       "      <td>True</td>\n",
       "      <td>True</td>\n",
       "      <td>2023-01-16</td>\n",
       "      <td>London</td>\n",
       "      <td>London</td>\n",
       "      <td>founded in 2010 by ex-investment bankers, my ...</td>\n",
       "      <td>&lt;span itemprop=\"description\"&gt; &lt;p&gt;Founded in 20...</td>\n",
       "      <td>NaN</td>\n",
       "      <td>None</td>\n",
       "    </tr>\n",
       "  </tbody>\n",
       "</table>\n",
       "<p>7178 rows × 14 columns</p>\n",
       "</div>"
      ],
      "text/plain": [
       "      Unnamed: 0                                               link  \\\n",
       "0              0  /jobs/data-analyst/49600634?source=searchResul...   \n",
       "1              1  /jobs/data-analyst/49811004?source=searchResul...   \n",
       "2              2  /jobs/data-analyst/49690594?source=searchResul...   \n",
       "3              3  /jobs/data-analyst/49633648?source=searchResul...   \n",
       "4              4  /jobs/data-analyst/49494946?source=searchResul...   \n",
       "...          ...                                                ...   \n",
       "7173        7173  /jobs/systems-engineer-seeker-modelling-and-si...   \n",
       "7174        7174  /jobs/senior-c-software-engineer-tech-driven-p...   \n",
       "7175        7175  /jobs/it-project-engineer-for-industrial-infor...   \n",
       "7176        7176  /jobs/devops-engineer-must-have-good-developme...   \n",
       "7177        7177  /jobs/devops-engineer-global-fintech-ci-cd-cit...   \n",
       "\n",
       "                                                  title  \\\n",
       "0                                          data analyst   \n",
       "1                                          data analyst   \n",
       "2                                          data analyst   \n",
       "3                                          data analyst   \n",
       "4                                          data analyst   \n",
       "...                                                 ...   \n",
       "7173  systems engineer: seeker modelling and simulation   \n",
       "7174  senior c++ software engineer- tech-driven prop...   \n",
       "7175  it project engineer for industrial information...   \n",
       "7176  devops engineer - must have good development s...   \n",
       "7177  devops engineer - global fintech - ci/cd / cit...   \n",
       "\n",
       "                     company_name                        salary  permanent  \\\n",
       "0                     Heron Foods             £28,336 per annum       True   \n",
       "1                       Veolia UK             £35,000 per annum       True   \n",
       "2                      Premier IT   £40,000 - £45,000 per annum       True   \n",
       "3     Elevation Recruitment Group   £55,000 - £60,000 per annum      False   \n",
       "4              Concept Resourcing   £25,000 - £30,000 per annum       True   \n",
       "...                           ...                           ...        ...   \n",
       "7173                         MBDA            Competitive salary       True   \n",
       "7174            eFinancialCareers            Competitive salary       True   \n",
       "7175                         MBDA            Competitive salary       True   \n",
       "7176    The Workplace Consultancy  £80,000 - £100,000 per annum       True   \n",
       "7177    The Workplace Consultancy  £80,000 - £100,000 per annum       True   \n",
       "\n",
       "      full_time date_posted              region              city  \\\n",
       "0          True  2023-01-20                Hull  North Humberside   \n",
       "1          True  2023-02-16              London            London   \n",
       "2          True  2023-02-02          Merseyside         Liverpool   \n",
       "3          True  2023-01-25          Derbyshire      Chesterfield   \n",
       "4          True  2023-01-11         Oxfordshire             Thame   \n",
       "...         ...         ...                 ...               ...   \n",
       "7173       True  2023-02-01       Hertfordshire         Stevenage   \n",
       "7174       True  2023-02-16  South East England            London   \n",
       "7175       True  2023-01-30          Lancashire            Bolton   \n",
       "7176       True  2023-01-25              London            London   \n",
       "7177       True  2023-01-16              London            London   \n",
       "\n",
       "                                      description_clean  \\\n",
       "0      data analyst, office based in hull (melton hu...   \n",
       "1      ready to find the right role for you? salary:...   \n",
       "2     data analyst liverpool – hybridbenefits:  care...   \n",
       "3     elevation recruitment group are pleased to be ...   \n",
       "4      data analyst - managed service provider - tha...   \n",
       "...                                                 ...   \n",
       "7173   stevenage together. for the future of defence...   \n",
       "7174  my client is a leading tech-driven prop tradin...   \n",
       "7175   bolton salary: up to £53k dependent on experi...   \n",
       "7176   founded in 2010 by ex-investment bankers, my ...   \n",
       "7177   founded in 2010 by ex-investment bankers, my ...   \n",
       "\n",
       "                                       description_html  \\\n",
       "0     <span itemprop=\"description\"> <p>Data Analyst,...   \n",
       "1     <span itemprop=\"description\"> <p>Ready to find...   \n",
       "2     <span itemprop=\"description\"><strong>Data Anal...   \n",
       "3     <span itemprop=\"description\">Elevation Recruit...   \n",
       "4     <span itemprop=\"description\"> <p><strong>Data ...   \n",
       "...                                                 ...   \n",
       "7173  <span itemprop=\"description\"> <p><b>Stevenage<...   \n",
       "7174  <span itemprop=\"description\">My client is a le...   \n",
       "7175  <span itemprop=\"description\"> <p><b>Bolton</b>...   \n",
       "7176  <span itemprop=\"description\"> <p>Founded in 20...   \n",
       "7177  <span itemprop=\"description\"> <p>Founded in 20...   \n",
       "\n",
       "                                                 skills jobs_to_consider  \n",
       "0                                                   NaN     Data Analyst  \n",
       "1                                                   NaN     Data Analyst  \n",
       "2                                                   NaN     Data Analyst  \n",
       "3     excel,data analyst,hr system,data cleanse,ches...     Data Analyst  \n",
       "4                                                   NaN     Data Analyst  \n",
       "...                                                 ...              ...  \n",
       "7173                                                NaN             None  \n",
       "7174                                                NaN             None  \n",
       "7175                                                NaN             None  \n",
       "7176                                                NaN             None  \n",
       "7177                                                NaN             None  \n",
       "\n",
       "[7178 rows x 14 columns]"
      ]
     },
     "execution_count": 17,
     "metadata": {},
     "output_type": "execute_result"
    }
   ],
   "source": [
    "cleaner.replace_city(['London'])"
   ]
  },
  {
   "cell_type": "code",
   "execution_count": 18,
   "id": "7b11eb7a",
   "metadata": {},
   "outputs": [
    {
     "data": {
      "text/html": [
       "<div>\n",
       "<style scoped>\n",
       "    .dataframe tbody tr th:only-of-type {\n",
       "        vertical-align: middle;\n",
       "    }\n",
       "\n",
       "    .dataframe tbody tr th {\n",
       "        vertical-align: top;\n",
       "    }\n",
       "\n",
       "    .dataframe thead th {\n",
       "        text-align: right;\n",
       "    }\n",
       "</style>\n",
       "<table border=\"1\" class=\"dataframe\">\n",
       "  <thead>\n",
       "    <tr style=\"text-align: right;\">\n",
       "      <th></th>\n",
       "      <th>Unnamed: 0</th>\n",
       "      <th>link</th>\n",
       "      <th>title</th>\n",
       "      <th>company_name</th>\n",
       "      <th>salary</th>\n",
       "      <th>permanent</th>\n",
       "      <th>full_time</th>\n",
       "      <th>date_posted</th>\n",
       "      <th>region</th>\n",
       "      <th>city</th>\n",
       "      <th>description_clean</th>\n",
       "      <th>description_html</th>\n",
       "      <th>skills</th>\n",
       "      <th>jobs_to_consider</th>\n",
       "      <th>salary_from</th>\n",
       "      <th>salary_to</th>\n",
       "      <th>time-period</th>\n",
       "      <th>currency</th>\n",
       "      <th>mean_salary</th>\n",
       "    </tr>\n",
       "  </thead>\n",
       "  <tbody>\n",
       "    <tr>\n",
       "      <th>0</th>\n",
       "      <td>0</td>\n",
       "      <td>/jobs/data-analyst/49600634?source=searchResul...</td>\n",
       "      <td>data analyst</td>\n",
       "      <td>Heron Foods</td>\n",
       "      <td>£28,336 per annum</td>\n",
       "      <td>True</td>\n",
       "      <td>True</td>\n",
       "      <td>2023-01-20</td>\n",
       "      <td>Hull</td>\n",
       "      <td>North Humberside</td>\n",
       "      <td>data analyst, office based in hull (melton hu...</td>\n",
       "      <td>&lt;span itemprop=\"description\"&gt; &lt;p&gt;Data Analyst,...</td>\n",
       "      <td>NaN</td>\n",
       "      <td>Data Analyst</td>\n",
       "      <td>28336.0</td>\n",
       "      <td>28336.0</td>\n",
       "      <td>annum</td>\n",
       "      <td>£</td>\n",
       "      <td>28336.0</td>\n",
       "    </tr>\n",
       "    <tr>\n",
       "      <th>1</th>\n",
       "      <td>1</td>\n",
       "      <td>/jobs/data-analyst/49811004?source=searchResul...</td>\n",
       "      <td>data analyst</td>\n",
       "      <td>Veolia UK</td>\n",
       "      <td>£35,000 per annum</td>\n",
       "      <td>True</td>\n",
       "      <td>True</td>\n",
       "      <td>2023-02-16</td>\n",
       "      <td>London</td>\n",
       "      <td>London</td>\n",
       "      <td>ready to find the right role for you? salary:...</td>\n",
       "      <td>&lt;span itemprop=\"description\"&gt; &lt;p&gt;Ready to find...</td>\n",
       "      <td>NaN</td>\n",
       "      <td>Data Analyst</td>\n",
       "      <td>35000.0</td>\n",
       "      <td>35000.0</td>\n",
       "      <td>annum</td>\n",
       "      <td>£</td>\n",
       "      <td>35000.0</td>\n",
       "    </tr>\n",
       "    <tr>\n",
       "      <th>2</th>\n",
       "      <td>2</td>\n",
       "      <td>/jobs/data-analyst/49690594?source=searchResul...</td>\n",
       "      <td>data analyst</td>\n",
       "      <td>Premier IT</td>\n",
       "      <td>£40,000 - £45,000 per annum</td>\n",
       "      <td>True</td>\n",
       "      <td>True</td>\n",
       "      <td>2023-02-02</td>\n",
       "      <td>Merseyside</td>\n",
       "      <td>Liverpool</td>\n",
       "      <td>data analyst liverpool – hybridbenefits:  care...</td>\n",
       "      <td>&lt;span itemprop=\"description\"&gt;&lt;strong&gt;Data Anal...</td>\n",
       "      <td>NaN</td>\n",
       "      <td>Data Analyst</td>\n",
       "      <td>40000.0</td>\n",
       "      <td>45000.0</td>\n",
       "      <td>annum</td>\n",
       "      <td>£</td>\n",
       "      <td>42500.0</td>\n",
       "    </tr>\n",
       "    <tr>\n",
       "      <th>3</th>\n",
       "      <td>3</td>\n",
       "      <td>/jobs/data-analyst/49633648?source=searchResul...</td>\n",
       "      <td>data analyst</td>\n",
       "      <td>Elevation Recruitment Group</td>\n",
       "      <td>£55,000 - £60,000 per annum</td>\n",
       "      <td>False</td>\n",
       "      <td>True</td>\n",
       "      <td>2023-01-25</td>\n",
       "      <td>Derbyshire</td>\n",
       "      <td>Chesterfield</td>\n",
       "      <td>elevation recruitment group are pleased to be ...</td>\n",
       "      <td>&lt;span itemprop=\"description\"&gt;Elevation Recruit...</td>\n",
       "      <td>excel,data analyst,hr system,data cleanse,ches...</td>\n",
       "      <td>Data Analyst</td>\n",
       "      <td>55000.0</td>\n",
       "      <td>60000.0</td>\n",
       "      <td>annum</td>\n",
       "      <td>£</td>\n",
       "      <td>57500.0</td>\n",
       "    </tr>\n",
       "    <tr>\n",
       "      <th>4</th>\n",
       "      <td>4</td>\n",
       "      <td>/jobs/data-analyst/49494946?source=searchResul...</td>\n",
       "      <td>data analyst</td>\n",
       "      <td>Concept Resourcing</td>\n",
       "      <td>£25,000 - £30,000 per annum</td>\n",
       "      <td>True</td>\n",
       "      <td>True</td>\n",
       "      <td>2023-01-11</td>\n",
       "      <td>Oxfordshire</td>\n",
       "      <td>Thame</td>\n",
       "      <td>data analyst - managed service provider - tha...</td>\n",
       "      <td>&lt;span itemprop=\"description\"&gt; &lt;p&gt;&lt;strong&gt;Data ...</td>\n",
       "      <td>NaN</td>\n",
       "      <td>Data Analyst</td>\n",
       "      <td>25000.0</td>\n",
       "      <td>30000.0</td>\n",
       "      <td>annum</td>\n",
       "      <td>£</td>\n",
       "      <td>27500.0</td>\n",
       "    </tr>\n",
       "    <tr>\n",
       "      <th>...</th>\n",
       "      <td>...</td>\n",
       "      <td>...</td>\n",
       "      <td>...</td>\n",
       "      <td>...</td>\n",
       "      <td>...</td>\n",
       "      <td>...</td>\n",
       "      <td>...</td>\n",
       "      <td>...</td>\n",
       "      <td>...</td>\n",
       "      <td>...</td>\n",
       "      <td>...</td>\n",
       "      <td>...</td>\n",
       "      <td>...</td>\n",
       "      <td>...</td>\n",
       "      <td>...</td>\n",
       "      <td>...</td>\n",
       "      <td>...</td>\n",
       "      <td>...</td>\n",
       "      <td>...</td>\n",
       "    </tr>\n",
       "    <tr>\n",
       "      <th>7173</th>\n",
       "      <td>7173</td>\n",
       "      <td>/jobs/systems-engineer-seeker-modelling-and-si...</td>\n",
       "      <td>systems engineer: seeker modelling and simulation</td>\n",
       "      <td>MBDA</td>\n",
       "      <td>Competitive salary</td>\n",
       "      <td>True</td>\n",
       "      <td>True</td>\n",
       "      <td>2023-02-01</td>\n",
       "      <td>Hertfordshire</td>\n",
       "      <td>Stevenage</td>\n",
       "      <td>stevenage together. for the future of defence...</td>\n",
       "      <td>&lt;span itemprop=\"description\"&gt; &lt;p&gt;&lt;b&gt;Stevenage&lt;...</td>\n",
       "      <td>NaN</td>\n",
       "      <td>None</td>\n",
       "      <td>0.0</td>\n",
       "      <td>0.0</td>\n",
       "      <td>None</td>\n",
       "      <td>None</td>\n",
       "      <td>0.0</td>\n",
       "    </tr>\n",
       "    <tr>\n",
       "      <th>7174</th>\n",
       "      <td>7174</td>\n",
       "      <td>/jobs/senior-c-software-engineer-tech-driven-p...</td>\n",
       "      <td>senior c++ software engineer- tech-driven prop...</td>\n",
       "      <td>eFinancialCareers</td>\n",
       "      <td>Competitive salary</td>\n",
       "      <td>True</td>\n",
       "      <td>True</td>\n",
       "      <td>2023-02-16</td>\n",
       "      <td>South East England</td>\n",
       "      <td>London</td>\n",
       "      <td>my client is a leading tech-driven prop tradin...</td>\n",
       "      <td>&lt;span itemprop=\"description\"&gt;My client is a le...</td>\n",
       "      <td>NaN</td>\n",
       "      <td>None</td>\n",
       "      <td>0.0</td>\n",
       "      <td>0.0</td>\n",
       "      <td>None</td>\n",
       "      <td>None</td>\n",
       "      <td>0.0</td>\n",
       "    </tr>\n",
       "    <tr>\n",
       "      <th>7175</th>\n",
       "      <td>7175</td>\n",
       "      <td>/jobs/it-project-engineer-for-industrial-infor...</td>\n",
       "      <td>it project engineer for industrial information...</td>\n",
       "      <td>MBDA</td>\n",
       "      <td>Competitive salary</td>\n",
       "      <td>True</td>\n",
       "      <td>True</td>\n",
       "      <td>2023-01-30</td>\n",
       "      <td>Lancashire</td>\n",
       "      <td>Bolton</td>\n",
       "      <td>bolton salary: up to £53k dependent on experi...</td>\n",
       "      <td>&lt;span itemprop=\"description\"&gt; &lt;p&gt;&lt;b&gt;Bolton&lt;/b&gt;...</td>\n",
       "      <td>NaN</td>\n",
       "      <td>None</td>\n",
       "      <td>0.0</td>\n",
       "      <td>0.0</td>\n",
       "      <td>None</td>\n",
       "      <td>None</td>\n",
       "      <td>0.0</td>\n",
       "    </tr>\n",
       "    <tr>\n",
       "      <th>7176</th>\n",
       "      <td>7176</td>\n",
       "      <td>/jobs/devops-engineer-must-have-good-developme...</td>\n",
       "      <td>devops engineer - must have good development s...</td>\n",
       "      <td>The Workplace Consultancy</td>\n",
       "      <td>£80,000 - £100,000 per annum</td>\n",
       "      <td>True</td>\n",
       "      <td>True</td>\n",
       "      <td>2023-01-25</td>\n",
       "      <td>London</td>\n",
       "      <td>London</td>\n",
       "      <td>founded in 2010 by ex-investment bankers, my ...</td>\n",
       "      <td>&lt;span itemprop=\"description\"&gt; &lt;p&gt;Founded in 20...</td>\n",
       "      <td>NaN</td>\n",
       "      <td>None</td>\n",
       "      <td>80000.0</td>\n",
       "      <td>100000.0</td>\n",
       "      <td>annum</td>\n",
       "      <td>£</td>\n",
       "      <td>90000.0</td>\n",
       "    </tr>\n",
       "    <tr>\n",
       "      <th>7177</th>\n",
       "      <td>7177</td>\n",
       "      <td>/jobs/devops-engineer-global-fintech-ci-cd-cit...</td>\n",
       "      <td>devops engineer - global fintech - ci/cd / cit...</td>\n",
       "      <td>The Workplace Consultancy</td>\n",
       "      <td>£80,000 - £100,000 per annum</td>\n",
       "      <td>True</td>\n",
       "      <td>True</td>\n",
       "      <td>2023-01-16</td>\n",
       "      <td>London</td>\n",
       "      <td>London</td>\n",
       "      <td>founded in 2010 by ex-investment bankers, my ...</td>\n",
       "      <td>&lt;span itemprop=\"description\"&gt; &lt;p&gt;Founded in 20...</td>\n",
       "      <td>NaN</td>\n",
       "      <td>None</td>\n",
       "      <td>80000.0</td>\n",
       "      <td>100000.0</td>\n",
       "      <td>annum</td>\n",
       "      <td>£</td>\n",
       "      <td>90000.0</td>\n",
       "    </tr>\n",
       "  </tbody>\n",
       "</table>\n",
       "<p>7178 rows × 19 columns</p>\n",
       "</div>"
      ],
      "text/plain": [
       "      Unnamed: 0                                               link  \\\n",
       "0              0  /jobs/data-analyst/49600634?source=searchResul...   \n",
       "1              1  /jobs/data-analyst/49811004?source=searchResul...   \n",
       "2              2  /jobs/data-analyst/49690594?source=searchResul...   \n",
       "3              3  /jobs/data-analyst/49633648?source=searchResul...   \n",
       "4              4  /jobs/data-analyst/49494946?source=searchResul...   \n",
       "...          ...                                                ...   \n",
       "7173        7173  /jobs/systems-engineer-seeker-modelling-and-si...   \n",
       "7174        7174  /jobs/senior-c-software-engineer-tech-driven-p...   \n",
       "7175        7175  /jobs/it-project-engineer-for-industrial-infor...   \n",
       "7176        7176  /jobs/devops-engineer-must-have-good-developme...   \n",
       "7177        7177  /jobs/devops-engineer-global-fintech-ci-cd-cit...   \n",
       "\n",
       "                                                  title  \\\n",
       "0                                          data analyst   \n",
       "1                                          data analyst   \n",
       "2                                          data analyst   \n",
       "3                                          data analyst   \n",
       "4                                          data analyst   \n",
       "...                                                 ...   \n",
       "7173  systems engineer: seeker modelling and simulation   \n",
       "7174  senior c++ software engineer- tech-driven prop...   \n",
       "7175  it project engineer for industrial information...   \n",
       "7176  devops engineer - must have good development s...   \n",
       "7177  devops engineer - global fintech - ci/cd / cit...   \n",
       "\n",
       "                     company_name                        salary  permanent  \\\n",
       "0                     Heron Foods             £28,336 per annum       True   \n",
       "1                       Veolia UK             £35,000 per annum       True   \n",
       "2                      Premier IT   £40,000 - £45,000 per annum       True   \n",
       "3     Elevation Recruitment Group   £55,000 - £60,000 per annum      False   \n",
       "4              Concept Resourcing   £25,000 - £30,000 per annum       True   \n",
       "...                           ...                           ...        ...   \n",
       "7173                         MBDA            Competitive salary       True   \n",
       "7174            eFinancialCareers            Competitive salary       True   \n",
       "7175                         MBDA            Competitive salary       True   \n",
       "7176    The Workplace Consultancy  £80,000 - £100,000 per annum       True   \n",
       "7177    The Workplace Consultancy  £80,000 - £100,000 per annum       True   \n",
       "\n",
       "      full_time date_posted              region              city  \\\n",
       "0          True  2023-01-20                Hull  North Humberside   \n",
       "1          True  2023-02-16              London            London   \n",
       "2          True  2023-02-02          Merseyside         Liverpool   \n",
       "3          True  2023-01-25          Derbyshire      Chesterfield   \n",
       "4          True  2023-01-11         Oxfordshire             Thame   \n",
       "...         ...         ...                 ...               ...   \n",
       "7173       True  2023-02-01       Hertfordshire         Stevenage   \n",
       "7174       True  2023-02-16  South East England            London   \n",
       "7175       True  2023-01-30          Lancashire            Bolton   \n",
       "7176       True  2023-01-25              London            London   \n",
       "7177       True  2023-01-16              London            London   \n",
       "\n",
       "                                      description_clean  \\\n",
       "0      data analyst, office based in hull (melton hu...   \n",
       "1      ready to find the right role for you? salary:...   \n",
       "2     data analyst liverpool – hybridbenefits:  care...   \n",
       "3     elevation recruitment group are pleased to be ...   \n",
       "4      data analyst - managed service provider - tha...   \n",
       "...                                                 ...   \n",
       "7173   stevenage together. for the future of defence...   \n",
       "7174  my client is a leading tech-driven prop tradin...   \n",
       "7175   bolton salary: up to £53k dependent on experi...   \n",
       "7176   founded in 2010 by ex-investment bankers, my ...   \n",
       "7177   founded in 2010 by ex-investment bankers, my ...   \n",
       "\n",
       "                                       description_html  \\\n",
       "0     <span itemprop=\"description\"> <p>Data Analyst,...   \n",
       "1     <span itemprop=\"description\"> <p>Ready to find...   \n",
       "2     <span itemprop=\"description\"><strong>Data Anal...   \n",
       "3     <span itemprop=\"description\">Elevation Recruit...   \n",
       "4     <span itemprop=\"description\"> <p><strong>Data ...   \n",
       "...                                                 ...   \n",
       "7173  <span itemprop=\"description\"> <p><b>Stevenage<...   \n",
       "7174  <span itemprop=\"description\">My client is a le...   \n",
       "7175  <span itemprop=\"description\"> <p><b>Bolton</b>...   \n",
       "7176  <span itemprop=\"description\"> <p>Founded in 20...   \n",
       "7177  <span itemprop=\"description\"> <p>Founded in 20...   \n",
       "\n",
       "                                                 skills jobs_to_consider  \\\n",
       "0                                                   NaN     Data Analyst   \n",
       "1                                                   NaN     Data Analyst   \n",
       "2                                                   NaN     Data Analyst   \n",
       "3     excel,data analyst,hr system,data cleanse,ches...     Data Analyst   \n",
       "4                                                   NaN     Data Analyst   \n",
       "...                                                 ...              ...   \n",
       "7173                                                NaN             None   \n",
       "7174                                                NaN             None   \n",
       "7175                                                NaN             None   \n",
       "7176                                                NaN             None   \n",
       "7177                                                NaN             None   \n",
       "\n",
       "      salary_from  salary_to time-period currency  mean_salary  \n",
       "0         28336.0    28336.0       annum        £      28336.0  \n",
       "1         35000.0    35000.0       annum        £      35000.0  \n",
       "2         40000.0    45000.0       annum        £      42500.0  \n",
       "3         55000.0    60000.0       annum        £      57500.0  \n",
       "4         25000.0    30000.0       annum        £      27500.0  \n",
       "...           ...        ...         ...      ...          ...  \n",
       "7173          0.0        0.0        None     None          0.0  \n",
       "7174          0.0        0.0        None     None          0.0  \n",
       "7175          0.0        0.0        None     None          0.0  \n",
       "7176      80000.0   100000.0       annum        £      90000.0  \n",
       "7177      80000.0   100000.0       annum        £      90000.0  \n",
       "\n",
       "[7178 rows x 19 columns]"
      ]
     },
     "execution_count": 18,
     "metadata": {},
     "output_type": "execute_result"
    }
   ],
   "source": [
    "cleaner.add_salary_columns()"
   ]
  },
  {
   "cell_type": "code",
   "execution_count": 19,
   "id": "2cd8428a",
   "metadata": {},
   "outputs": [
    {
     "data": {
      "text/html": [
       "<div>\n",
       "<style scoped>\n",
       "    .dataframe tbody tr th:only-of-type {\n",
       "        vertical-align: middle;\n",
       "    }\n",
       "\n",
       "    .dataframe tbody tr th {\n",
       "        vertical-align: top;\n",
       "    }\n",
       "\n",
       "    .dataframe thead th {\n",
       "        text-align: right;\n",
       "    }\n",
       "</style>\n",
       "<table border=\"1\" class=\"dataframe\">\n",
       "  <thead>\n",
       "    <tr style=\"text-align: right;\">\n",
       "      <th></th>\n",
       "      <th>Unnamed: 0</th>\n",
       "      <th>link</th>\n",
       "      <th>title</th>\n",
       "      <th>company_name</th>\n",
       "      <th>salary</th>\n",
       "      <th>permanent</th>\n",
       "      <th>full_time</th>\n",
       "      <th>date_posted</th>\n",
       "      <th>region</th>\n",
       "      <th>city</th>\n",
       "      <th>description_clean</th>\n",
       "      <th>description_html</th>\n",
       "      <th>skills</th>\n",
       "      <th>jobs_to_consider</th>\n",
       "      <th>salary_from</th>\n",
       "      <th>salary_to</th>\n",
       "      <th>time-period</th>\n",
       "      <th>currency</th>\n",
       "      <th>mean_salary</th>\n",
       "      <th>position</th>\n",
       "    </tr>\n",
       "  </thead>\n",
       "  <tbody>\n",
       "    <tr>\n",
       "      <th>0</th>\n",
       "      <td>0</td>\n",
       "      <td>/jobs/data-analyst/49600634?source=searchResul...</td>\n",
       "      <td>data analyst</td>\n",
       "      <td>Heron Foods</td>\n",
       "      <td>£28,336 per annum</td>\n",
       "      <td>True</td>\n",
       "      <td>True</td>\n",
       "      <td>2023-01-20</td>\n",
       "      <td>Hull</td>\n",
       "      <td>North Humberside</td>\n",
       "      <td>data analyst, office based in hull (melton hu...</td>\n",
       "      <td>&lt;span itemprop=\"description\"&gt; &lt;p&gt;Data Analyst,...</td>\n",
       "      <td>NaN</td>\n",
       "      <td>Data Analyst</td>\n",
       "      <td>28336.0</td>\n",
       "      <td>28336.0</td>\n",
       "      <td>annum</td>\n",
       "      <td>£</td>\n",
       "      <td>28336.0</td>\n",
       "      <td>None</td>\n",
       "    </tr>\n",
       "    <tr>\n",
       "      <th>1</th>\n",
       "      <td>1</td>\n",
       "      <td>/jobs/data-analyst/49811004?source=searchResul...</td>\n",
       "      <td>data analyst</td>\n",
       "      <td>Veolia UK</td>\n",
       "      <td>£35,000 per annum</td>\n",
       "      <td>True</td>\n",
       "      <td>True</td>\n",
       "      <td>2023-02-16</td>\n",
       "      <td>London</td>\n",
       "      <td>London</td>\n",
       "      <td>ready to find the right role for you? salary:...</td>\n",
       "      <td>&lt;span itemprop=\"description\"&gt; &lt;p&gt;Ready to find...</td>\n",
       "      <td>NaN</td>\n",
       "      <td>Data Analyst</td>\n",
       "      <td>35000.0</td>\n",
       "      <td>35000.0</td>\n",
       "      <td>annum</td>\n",
       "      <td>£</td>\n",
       "      <td>35000.0</td>\n",
       "      <td>None</td>\n",
       "    </tr>\n",
       "    <tr>\n",
       "      <th>2</th>\n",
       "      <td>2</td>\n",
       "      <td>/jobs/data-analyst/49690594?source=searchResul...</td>\n",
       "      <td>data analyst</td>\n",
       "      <td>Premier IT</td>\n",
       "      <td>£40,000 - £45,000 per annum</td>\n",
       "      <td>True</td>\n",
       "      <td>True</td>\n",
       "      <td>2023-02-02</td>\n",
       "      <td>Merseyside</td>\n",
       "      <td>Liverpool</td>\n",
       "      <td>data analyst liverpool – hybridbenefits:  care...</td>\n",
       "      <td>&lt;span itemprop=\"description\"&gt;&lt;strong&gt;Data Anal...</td>\n",
       "      <td>NaN</td>\n",
       "      <td>Data Analyst</td>\n",
       "      <td>40000.0</td>\n",
       "      <td>45000.0</td>\n",
       "      <td>annum</td>\n",
       "      <td>£</td>\n",
       "      <td>42500.0</td>\n",
       "      <td>None</td>\n",
       "    </tr>\n",
       "    <tr>\n",
       "      <th>3</th>\n",
       "      <td>3</td>\n",
       "      <td>/jobs/data-analyst/49633648?source=searchResul...</td>\n",
       "      <td>data analyst</td>\n",
       "      <td>Elevation Recruitment Group</td>\n",
       "      <td>£55,000 - £60,000 per annum</td>\n",
       "      <td>False</td>\n",
       "      <td>True</td>\n",
       "      <td>2023-01-25</td>\n",
       "      <td>Derbyshire</td>\n",
       "      <td>Chesterfield</td>\n",
       "      <td>elevation recruitment group are pleased to be ...</td>\n",
       "      <td>&lt;span itemprop=\"description\"&gt;Elevation Recruit...</td>\n",
       "      <td>excel,data analyst,hr system,data cleanse,ches...</td>\n",
       "      <td>Data Analyst</td>\n",
       "      <td>55000.0</td>\n",
       "      <td>60000.0</td>\n",
       "      <td>annum</td>\n",
       "      <td>£</td>\n",
       "      <td>57500.0</td>\n",
       "      <td>None</td>\n",
       "    </tr>\n",
       "    <tr>\n",
       "      <th>4</th>\n",
       "      <td>4</td>\n",
       "      <td>/jobs/data-analyst/49494946?source=searchResul...</td>\n",
       "      <td>data analyst</td>\n",
       "      <td>Concept Resourcing</td>\n",
       "      <td>£25,000 - £30,000 per annum</td>\n",
       "      <td>True</td>\n",
       "      <td>True</td>\n",
       "      <td>2023-01-11</td>\n",
       "      <td>Oxfordshire</td>\n",
       "      <td>Thame</td>\n",
       "      <td>data analyst - managed service provider - tha...</td>\n",
       "      <td>&lt;span itemprop=\"description\"&gt; &lt;p&gt;&lt;strong&gt;Data ...</td>\n",
       "      <td>NaN</td>\n",
       "      <td>Data Analyst</td>\n",
       "      <td>25000.0</td>\n",
       "      <td>30000.0</td>\n",
       "      <td>annum</td>\n",
       "      <td>£</td>\n",
       "      <td>27500.0</td>\n",
       "      <td>None</td>\n",
       "    </tr>\n",
       "    <tr>\n",
       "      <th>...</th>\n",
       "      <td>...</td>\n",
       "      <td>...</td>\n",
       "      <td>...</td>\n",
       "      <td>...</td>\n",
       "      <td>...</td>\n",
       "      <td>...</td>\n",
       "      <td>...</td>\n",
       "      <td>...</td>\n",
       "      <td>...</td>\n",
       "      <td>...</td>\n",
       "      <td>...</td>\n",
       "      <td>...</td>\n",
       "      <td>...</td>\n",
       "      <td>...</td>\n",
       "      <td>...</td>\n",
       "      <td>...</td>\n",
       "      <td>...</td>\n",
       "      <td>...</td>\n",
       "      <td>...</td>\n",
       "      <td>...</td>\n",
       "    </tr>\n",
       "    <tr>\n",
       "      <th>7173</th>\n",
       "      <td>7173</td>\n",
       "      <td>/jobs/systems-engineer-seeker-modelling-and-si...</td>\n",
       "      <td>systems engineer: seeker modelling and simulation</td>\n",
       "      <td>MBDA</td>\n",
       "      <td>Competitive salary</td>\n",
       "      <td>True</td>\n",
       "      <td>True</td>\n",
       "      <td>2023-02-01</td>\n",
       "      <td>Hertfordshire</td>\n",
       "      <td>Stevenage</td>\n",
       "      <td>stevenage together. for the future of defence...</td>\n",
       "      <td>&lt;span itemprop=\"description\"&gt; &lt;p&gt;&lt;b&gt;Stevenage&lt;...</td>\n",
       "      <td>NaN</td>\n",
       "      <td>None</td>\n",
       "      <td>0.0</td>\n",
       "      <td>0.0</td>\n",
       "      <td>None</td>\n",
       "      <td>None</td>\n",
       "      <td>0.0</td>\n",
       "      <td>None</td>\n",
       "    </tr>\n",
       "    <tr>\n",
       "      <th>7174</th>\n",
       "      <td>7174</td>\n",
       "      <td>/jobs/senior-c-software-engineer-tech-driven-p...</td>\n",
       "      <td>senior c++ software engineer- tech-driven prop...</td>\n",
       "      <td>eFinancialCareers</td>\n",
       "      <td>Competitive salary</td>\n",
       "      <td>True</td>\n",
       "      <td>True</td>\n",
       "      <td>2023-02-16</td>\n",
       "      <td>South East England</td>\n",
       "      <td>London</td>\n",
       "      <td>my client is a leading tech-driven prop tradin...</td>\n",
       "      <td>&lt;span itemprop=\"description\"&gt;My client is a le...</td>\n",
       "      <td>NaN</td>\n",
       "      <td>None</td>\n",
       "      <td>0.0</td>\n",
       "      <td>0.0</td>\n",
       "      <td>None</td>\n",
       "      <td>None</td>\n",
       "      <td>0.0</td>\n",
       "      <td>senior</td>\n",
       "    </tr>\n",
       "    <tr>\n",
       "      <th>7175</th>\n",
       "      <td>7175</td>\n",
       "      <td>/jobs/it-project-engineer-for-industrial-infor...</td>\n",
       "      <td>it project engineer for industrial information...</td>\n",
       "      <td>MBDA</td>\n",
       "      <td>Competitive salary</td>\n",
       "      <td>True</td>\n",
       "      <td>True</td>\n",
       "      <td>2023-01-30</td>\n",
       "      <td>Lancashire</td>\n",
       "      <td>Bolton</td>\n",
       "      <td>bolton salary: up to £53k dependent on experi...</td>\n",
       "      <td>&lt;span itemprop=\"description\"&gt; &lt;p&gt;&lt;b&gt;Bolton&lt;/b&gt;...</td>\n",
       "      <td>NaN</td>\n",
       "      <td>None</td>\n",
       "      <td>0.0</td>\n",
       "      <td>0.0</td>\n",
       "      <td>None</td>\n",
       "      <td>None</td>\n",
       "      <td>0.0</td>\n",
       "      <td>None</td>\n",
       "    </tr>\n",
       "    <tr>\n",
       "      <th>7176</th>\n",
       "      <td>7176</td>\n",
       "      <td>/jobs/devops-engineer-must-have-good-developme...</td>\n",
       "      <td>devops engineer - must have good development s...</td>\n",
       "      <td>The Workplace Consultancy</td>\n",
       "      <td>£80,000 - £100,000 per annum</td>\n",
       "      <td>True</td>\n",
       "      <td>True</td>\n",
       "      <td>2023-01-25</td>\n",
       "      <td>London</td>\n",
       "      <td>London</td>\n",
       "      <td>founded in 2010 by ex-investment bankers, my ...</td>\n",
       "      <td>&lt;span itemprop=\"description\"&gt; &lt;p&gt;Founded in 20...</td>\n",
       "      <td>NaN</td>\n",
       "      <td>None</td>\n",
       "      <td>80000.0</td>\n",
       "      <td>100000.0</td>\n",
       "      <td>annum</td>\n",
       "      <td>£</td>\n",
       "      <td>90000.0</td>\n",
       "      <td>None</td>\n",
       "    </tr>\n",
       "    <tr>\n",
       "      <th>7177</th>\n",
       "      <td>7177</td>\n",
       "      <td>/jobs/devops-engineer-global-fintech-ci-cd-cit...</td>\n",
       "      <td>devops engineer - global fintech - ci/cd / cit...</td>\n",
       "      <td>The Workplace Consultancy</td>\n",
       "      <td>£80,000 - £100,000 per annum</td>\n",
       "      <td>True</td>\n",
       "      <td>True</td>\n",
       "      <td>2023-01-16</td>\n",
       "      <td>London</td>\n",
       "      <td>London</td>\n",
       "      <td>founded in 2010 by ex-investment bankers, my ...</td>\n",
       "      <td>&lt;span itemprop=\"description\"&gt; &lt;p&gt;Founded in 20...</td>\n",
       "      <td>NaN</td>\n",
       "      <td>None</td>\n",
       "      <td>80000.0</td>\n",
       "      <td>100000.0</td>\n",
       "      <td>annum</td>\n",
       "      <td>£</td>\n",
       "      <td>90000.0</td>\n",
       "      <td>None</td>\n",
       "    </tr>\n",
       "  </tbody>\n",
       "</table>\n",
       "<p>7178 rows × 20 columns</p>\n",
       "</div>"
      ],
      "text/plain": [
       "      Unnamed: 0                                               link  \\\n",
       "0              0  /jobs/data-analyst/49600634?source=searchResul...   \n",
       "1              1  /jobs/data-analyst/49811004?source=searchResul...   \n",
       "2              2  /jobs/data-analyst/49690594?source=searchResul...   \n",
       "3              3  /jobs/data-analyst/49633648?source=searchResul...   \n",
       "4              4  /jobs/data-analyst/49494946?source=searchResul...   \n",
       "...          ...                                                ...   \n",
       "7173        7173  /jobs/systems-engineer-seeker-modelling-and-si...   \n",
       "7174        7174  /jobs/senior-c-software-engineer-tech-driven-p...   \n",
       "7175        7175  /jobs/it-project-engineer-for-industrial-infor...   \n",
       "7176        7176  /jobs/devops-engineer-must-have-good-developme...   \n",
       "7177        7177  /jobs/devops-engineer-global-fintech-ci-cd-cit...   \n",
       "\n",
       "                                                  title  \\\n",
       "0                                          data analyst   \n",
       "1                                          data analyst   \n",
       "2                                          data analyst   \n",
       "3                                          data analyst   \n",
       "4                                          data analyst   \n",
       "...                                                 ...   \n",
       "7173  systems engineer: seeker modelling and simulation   \n",
       "7174  senior c++ software engineer- tech-driven prop...   \n",
       "7175  it project engineer for industrial information...   \n",
       "7176  devops engineer - must have good development s...   \n",
       "7177  devops engineer - global fintech - ci/cd / cit...   \n",
       "\n",
       "                     company_name                        salary  permanent  \\\n",
       "0                     Heron Foods             £28,336 per annum       True   \n",
       "1                       Veolia UK             £35,000 per annum       True   \n",
       "2                      Premier IT   £40,000 - £45,000 per annum       True   \n",
       "3     Elevation Recruitment Group   £55,000 - £60,000 per annum      False   \n",
       "4              Concept Resourcing   £25,000 - £30,000 per annum       True   \n",
       "...                           ...                           ...        ...   \n",
       "7173                         MBDA            Competitive salary       True   \n",
       "7174            eFinancialCareers            Competitive salary       True   \n",
       "7175                         MBDA            Competitive salary       True   \n",
       "7176    The Workplace Consultancy  £80,000 - £100,000 per annum       True   \n",
       "7177    The Workplace Consultancy  £80,000 - £100,000 per annum       True   \n",
       "\n",
       "      full_time date_posted              region              city  \\\n",
       "0          True  2023-01-20                Hull  North Humberside   \n",
       "1          True  2023-02-16              London            London   \n",
       "2          True  2023-02-02          Merseyside         Liverpool   \n",
       "3          True  2023-01-25          Derbyshire      Chesterfield   \n",
       "4          True  2023-01-11         Oxfordshire             Thame   \n",
       "...         ...         ...                 ...               ...   \n",
       "7173       True  2023-02-01       Hertfordshire         Stevenage   \n",
       "7174       True  2023-02-16  South East England            London   \n",
       "7175       True  2023-01-30          Lancashire            Bolton   \n",
       "7176       True  2023-01-25              London            London   \n",
       "7177       True  2023-01-16              London            London   \n",
       "\n",
       "                                      description_clean  \\\n",
       "0      data analyst, office based in hull (melton hu...   \n",
       "1      ready to find the right role for you? salary:...   \n",
       "2     data analyst liverpool – hybridbenefits:  care...   \n",
       "3     elevation recruitment group are pleased to be ...   \n",
       "4      data analyst - managed service provider - tha...   \n",
       "...                                                 ...   \n",
       "7173   stevenage together. for the future of defence...   \n",
       "7174  my client is a leading tech-driven prop tradin...   \n",
       "7175   bolton salary: up to £53k dependent on experi...   \n",
       "7176   founded in 2010 by ex-investment bankers, my ...   \n",
       "7177   founded in 2010 by ex-investment bankers, my ...   \n",
       "\n",
       "                                       description_html  \\\n",
       "0     <span itemprop=\"description\"> <p>Data Analyst,...   \n",
       "1     <span itemprop=\"description\"> <p>Ready to find...   \n",
       "2     <span itemprop=\"description\"><strong>Data Anal...   \n",
       "3     <span itemprop=\"description\">Elevation Recruit...   \n",
       "4     <span itemprop=\"description\"> <p><strong>Data ...   \n",
       "...                                                 ...   \n",
       "7173  <span itemprop=\"description\"> <p><b>Stevenage<...   \n",
       "7174  <span itemprop=\"description\">My client is a le...   \n",
       "7175  <span itemprop=\"description\"> <p><b>Bolton</b>...   \n",
       "7176  <span itemprop=\"description\"> <p>Founded in 20...   \n",
       "7177  <span itemprop=\"description\"> <p>Founded in 20...   \n",
       "\n",
       "                                                 skills jobs_to_consider  \\\n",
       "0                                                   NaN     Data Analyst   \n",
       "1                                                   NaN     Data Analyst   \n",
       "2                                                   NaN     Data Analyst   \n",
       "3     excel,data analyst,hr system,data cleanse,ches...     Data Analyst   \n",
       "4                                                   NaN     Data Analyst   \n",
       "...                                                 ...              ...   \n",
       "7173                                                NaN             None   \n",
       "7174                                                NaN             None   \n",
       "7175                                                NaN             None   \n",
       "7176                                                NaN             None   \n",
       "7177                                                NaN             None   \n",
       "\n",
       "      salary_from  salary_to time-period currency  mean_salary position  \n",
       "0         28336.0    28336.0       annum        £      28336.0     None  \n",
       "1         35000.0    35000.0       annum        £      35000.0     None  \n",
       "2         40000.0    45000.0       annum        £      42500.0     None  \n",
       "3         55000.0    60000.0       annum        £      57500.0     None  \n",
       "4         25000.0    30000.0       annum        £      27500.0     None  \n",
       "...           ...        ...         ...      ...          ...      ...  \n",
       "7173          0.0        0.0        None     None          0.0     None  \n",
       "7174          0.0        0.0        None     None          0.0   senior  \n",
       "7175          0.0        0.0        None     None          0.0     None  \n",
       "7176      80000.0   100000.0       annum        £      90000.0     None  \n",
       "7177      80000.0   100000.0       annum        £      90000.0     None  \n",
       "\n",
       "[7178 rows x 20 columns]"
      ]
     },
     "execution_count": 19,
     "metadata": {},
     "output_type": "execute_result"
    }
   ],
   "source": [
    "cleaner.extract_position()"
   ]
  },
  {
   "cell_type": "code",
   "execution_count": 20,
   "id": "c0b7d7fd",
   "metadata": {},
   "outputs": [
    {
     "data": {
      "text/plain": [
       "{'lower_case': ', title, description_clean, skills',\n",
       " 'salary': 'salary cleaned',\n",
       " 'region_to_city': ', London',\n",
       " 'jobs_to_consider': ['Data Engineer',\n",
       "  'Data Scientist',\n",
       "  'Data Analyst',\n",
       "  'Data Engineering'],\n",
       " 'only_considered_jobs': False,\n",
       " 'position_list': ['senior', 'lead', 'junior', 'principal', 'graduate']}"
      ]
     },
     "execution_count": 20,
     "metadata": {},
     "output_type": "execute_result"
    }
   ],
   "source": [
    "cleaner.cleaning_used"
   ]
  },
  {
   "cell_type": "code",
   "execution_count": 21,
   "id": "afe413c7",
   "metadata": {},
   "outputs": [],
   "source": [
    "cleaner.only_leave_considered()"
   ]
  },
  {
   "cell_type": "code",
   "execution_count": 304,
   "id": "9fd693dc",
   "metadata": {},
   "outputs": [
    {
     "name": "stdout",
     "output_type": "stream",
     "text": [
      "{'lower_case': ', title, description_clean, skills', 'salary': 'salary cleaned', 'region_to_city': ', London', 'jobs_to_consider': ['Data Engineer', 'Data Scientist', 'Data Analyst', 'Data Engineering'], 'only_considered_jobs': True, 'position_list': ['senior', 'lead', 'junior', 'principal', 'graduate']}\n"
     ]
    }
   ],
   "source": [
    "cleaner.save_clean_version()"
   ]
  },
  {
   "cell_type": "code",
   "execution_count": 22,
   "id": "81303189",
   "metadata": {},
   "outputs": [],
   "source": [
    "df_clean = cleaner.df_clean"
   ]
  },
  {
   "cell_type": "code",
   "execution_count": 114,
   "id": "87d7b86c",
   "metadata": {},
   "outputs": [],
   "source": [
    "visualiser = classes.JobsVisualisation(df_clean)"
   ]
  },
  {
   "cell_type": "code",
   "execution_count": 30,
   "id": "f63d5978",
   "metadata": {},
   "outputs": [
    {
     "data": {
      "application/vnd.plotly.v1+json": {
       "config": {
        "plotlyServerURL": "https://plotly.com"
       },
       "data": [
        {
         "alignmentgroup": "True",
         "hovertemplate": "Job=%{x}<br>Salary (£)=%{y}<extra></extra>",
         "legendgroup": "",
         "marker": {
          "color": "#636efa"
         },
         "name": "",
         "notched": false,
         "offsetgroup": "",
         "orientation": "v",
         "showlegend": false,
         "type": "box",
         "x": [
          "Data Analyst",
          "Data Analyst",
          "Data Analyst",
          "Data Analyst",
          "Data Analyst",
          "Data Analyst",
          "Data Analyst",
          "Data Analyst",
          "Data Analyst",
          "Data Analyst",
          "Data Analyst",
          "Data Analyst",
          "Data Analyst",
          "Data Analyst",
          "Data Analyst",
          "Data Analyst",
          "Data Analyst",
          "Data Analyst",
          "Data Analyst",
          "Data Analyst",
          "Data Analyst",
          "Data Analyst",
          "Data Analyst",
          "Data Analyst",
          "Data Analyst",
          "Data Analyst",
          "Data Analyst",
          "Data Analyst",
          "Data Analyst",
          "Data Analyst",
          "Data Analyst",
          "Data Analyst",
          "Data Analyst",
          "Data Analyst",
          "Data Analyst",
          "Data Analyst",
          "Data Analyst",
          "Data Analyst",
          "Data Analyst",
          "Data Analyst",
          "Data Analyst",
          "Data Analyst",
          "Data Analyst",
          "Data Analyst",
          "Data Analyst",
          "Data Analyst",
          "Data Analyst",
          "Data Analyst",
          "Data Analyst",
          "Data Analyst",
          "Data Analyst",
          "Data Analyst",
          "Data Analyst",
          "Data Analyst",
          "Data Analyst",
          "Data Analyst",
          "Data Analyst",
          "Data Analyst",
          "Data Analyst",
          "Data Analyst",
          "Data Analyst",
          "Data Analyst",
          "Data Analyst",
          "Data Analyst",
          "Data Analyst",
          "Data Analyst",
          "Data Analyst",
          "Data Analyst",
          "Data Analyst",
          "Data Analyst",
          "Data Analyst",
          "Data Analyst",
          "Data Analyst",
          "Data Analyst",
          "Data Analyst",
          "Data Analyst",
          "Data Analyst",
          "Data Analyst",
          "Data Analyst",
          "Data Analyst",
          "Data Analyst",
          "Data Analyst",
          "Data Analyst",
          "Data Analyst",
          "Data Analyst",
          "Data Analyst",
          "Data Analyst",
          "Data Analyst",
          "Data Analyst",
          "Data Analyst",
          "Data Analyst",
          "Data Analyst",
          "Data Analyst",
          "Data Analyst",
          "Data Analyst",
          "Data Analyst",
          "Data Analyst",
          "Data Analyst",
          "Data Analyst",
          "Data Analyst",
          "Data Analyst",
          "Data Analyst",
          "Data Analyst",
          "Data Analyst",
          "Data Analyst",
          "Data Analyst",
          "Data Analyst",
          "Data Analyst",
          "Data Analyst",
          "Data Analyst",
          "Data Analyst",
          "Data Analyst",
          "Data Analyst",
          "Data Analyst",
          "Data Analyst",
          "Data Analyst",
          "Data Analyst",
          "Data Analyst",
          "Data Analyst",
          "Data Analyst",
          "Data Analyst",
          "Data Analyst",
          "Data Analyst",
          "Data Analyst",
          "Data Analyst",
          "Data Analyst",
          "Data Analyst",
          "Data Analyst",
          "Data Analyst",
          "Data Analyst",
          "Data Analyst",
          "Data Analyst",
          "Data Analyst",
          "Data Analyst",
          "Data Analyst",
          "Data Analyst",
          "Data Analyst",
          "Data Analyst",
          "Data Analyst",
          "Data Analyst",
          "Data Analyst",
          "Data Analyst",
          "Data Analyst",
          "Data Analyst",
          "Data Analyst",
          "Data Analyst",
          "Data Analyst",
          "Data Analyst",
          "Data Analyst",
          "Data Analyst",
          "Data Analyst",
          "Data Analyst",
          "Data Analyst",
          "Data Analyst",
          "Data Analyst",
          "Data Analyst",
          "Data Analyst",
          "Data Analyst",
          "Data Analyst",
          "Data Analyst",
          "Data Analyst",
          "Data Analyst",
          "Data Analyst",
          "Data Analyst",
          "Data Analyst",
          "Data Analyst",
          "Data Analyst",
          "Data Analyst",
          "Data Analyst",
          "Data Analyst",
          "Data Analyst",
          "Data Analyst",
          "Data Analyst",
          "Data Analyst",
          "Data Analyst",
          "Data Analyst",
          "Data Analyst",
          "Data Analyst",
          "Data Analyst",
          "Data Analyst",
          "Data Analyst",
          "Data Analyst",
          "Data Analyst",
          "Data Analyst",
          "Data Analyst",
          "Data Analyst",
          "Data Analyst",
          "Data Analyst",
          "Data Analyst",
          "Data Analyst",
          "Data Analyst",
          "Data Analyst",
          "Data Analyst",
          "Data Analyst",
          "Data Analyst",
          "Data Analyst",
          "Data Analyst",
          "Data Analyst",
          "Data Analyst",
          "Data Analyst",
          "Data Analyst",
          "Data Analyst",
          "Data Analyst",
          "Data Analyst",
          "Data Analyst",
          "Data Analyst",
          "Data Analyst",
          "Data Analyst",
          "Data Analyst",
          "Data Analyst",
          "Data Analyst",
          "Data Analyst",
          "Data Analyst",
          "Data Analyst",
          "Data Analyst",
          "Data Analyst",
          "Data Analyst",
          "Data Analyst",
          "Data Analyst",
          "Data Analyst",
          "Data Analyst",
          "Data Analyst",
          "Data Analyst",
          "Data Analyst",
          "Data Analyst",
          "Data Analyst",
          "Data Analyst",
          "Data Analyst",
          "Data Analyst",
          "Data Analyst",
          "Data Analyst",
          "Data Analyst",
          "Data Analyst",
          "Data Analyst",
          "Data Analyst",
          "Data Analyst",
          "Data Analyst",
          "Data Analyst",
          "Data Analyst",
          "Data Analyst",
          "Data Analyst",
          "Data Analyst",
          "Data Analyst",
          "Data Analyst",
          "Data Analyst",
          "Data Analyst",
          "Data Analyst",
          "Data Analyst",
          "Data Analyst",
          "Data Analyst",
          "Data Analyst",
          "Data Analyst",
          "Data Analyst",
          "Data Analyst",
          "Data Analyst",
          "Data Analyst",
          "Data Analyst",
          "Data Analyst",
          "Data Analyst",
          "Data Analyst",
          "Data Analyst",
          "Data Analyst",
          "Data Scientist",
          "Data Analyst",
          "Data Analyst",
          "Data Analyst",
          "Data Analyst",
          "Data Analyst",
          "Data Analyst",
          "Data Analyst",
          "Data Analyst",
          "Data Analyst",
          "Data Analyst",
          "Data Analyst",
          "Data Analyst",
          "Data Analyst",
          "Data Analyst",
          "Data Analyst",
          "Data Analyst",
          "Data Analyst",
          "Data Analyst",
          "Data Analyst",
          "Data Analyst",
          "Data Analyst",
          "Data Analyst",
          "Data Analyst",
          "Data Analyst",
          "Data Analyst",
          "Data Analyst",
          "Data Analyst",
          "Data Analyst",
          "Data Analyst",
          "Data Analyst",
          "Data Analyst",
          "Data Analyst",
          "Data Analyst",
          "Data Analyst",
          "Data Analyst",
          "Data Analyst",
          "Data Analyst",
          "Data Analyst",
          "Data Analyst",
          "Data Analyst",
          "Data Analyst",
          "Data Analyst",
          "Data Analyst",
          "Data Analyst",
          "Data Analyst",
          "Data Analyst",
          "Data Analyst",
          "Data Analyst",
          "Data Analyst",
          "Data Analyst",
          "Data Analyst",
          "Data Analyst",
          "Data Analyst",
          "Data Analyst",
          "Data Analyst",
          "Data Analyst",
          "Data Analyst",
          "Data Analyst",
          "Data Analyst",
          "Data Analyst",
          "Data Analyst",
          "Data Analyst",
          "Data Analyst",
          "Data Analyst",
          "Data Analyst",
          "Data Analyst",
          "Data Analyst",
          "Data Scientist",
          "Data Analyst",
          "Data Analyst",
          "Data Analyst",
          "Data Analyst",
          "Data Analyst",
          "Data Analyst",
          "Data Analyst",
          "Data Analyst",
          "Data Analyst",
          "Data Analyst",
          "Data Analyst",
          "Data Analyst",
          "Data Analyst",
          "Data Analyst",
          "Data Analyst",
          "Data Analyst",
          "Data Analyst",
          "Data Analyst",
          "Data Analyst",
          "Data Analyst",
          "Data Analyst",
          "Data Analyst",
          "Data Analyst",
          "Data Analyst",
          "Data Analyst",
          "Data Analyst",
          "Data Analyst",
          "Data Analyst",
          "Data Analyst",
          "Data Analyst",
          "Data Analyst",
          "Data Analyst",
          "Data Analyst",
          "Data Analyst",
          "Data Analyst",
          "Data Analyst",
          "Data Analyst",
          "Data Analyst",
          "Data Analyst",
          "Data Analyst",
          "Data Analyst",
          "Data Analyst",
          "Data Analyst",
          "Data Analyst",
          "Data Analyst",
          "Data Analyst",
          "Data Analyst",
          "Data Analyst",
          "Data Analyst",
          "Data Analyst",
          "Data Analyst",
          "Data Analyst",
          "Data Analyst",
          "Data Analyst",
          "Data Analyst",
          "Data Analyst",
          "Data Analyst",
          "Data Analyst",
          "Data Analyst",
          "Data Analyst",
          "Data Analyst",
          "Data Analyst",
          "Data Analyst",
          "Data Analyst",
          "Data Analyst",
          "Data Analyst",
          "Data Analyst",
          "Data Analyst",
          "Data Analyst",
          "Data Analyst",
          "Data Analyst",
          "Data Analyst",
          "Data Analyst",
          "Data Analyst",
          "Data Analyst",
          "Data Analyst",
          "Data Analyst",
          "Data Analyst",
          "Data Analyst",
          "Data Analyst",
          "Data Analyst",
          "Data Analyst",
          "Data Analyst",
          "Data Analyst",
          "Data Analyst",
          "Data Analyst",
          "Data Analyst",
          "Data Analyst",
          "Data Analyst",
          "Data Analyst",
          "Data Analyst",
          "Data Analyst",
          "Data Analyst",
          "Data Analyst",
          "Data Analyst",
          "Data Analyst",
          "Data Analyst",
          "Data Analyst",
          "Data Analyst",
          "Data Analyst",
          "Data Analyst",
          "Data Analyst",
          "Data Analyst",
          "Data Analyst",
          "Data Engineer",
          "Data Analyst",
          "Data Analyst",
          "Data Scientist",
          "Data Scientist",
          "Data Engineer",
          "Data Engineer",
          "Data Engineer",
          "Data Scientist",
          "Data Engineer",
          "Data Analyst",
          "Data Engineer",
          "Data Scientist",
          "Data Engineer",
          "Data Engineer",
          "Data Engineer",
          "Data Analyst",
          "Data Analyst",
          "Data Engineer",
          "Data Engineer",
          "Data Engineer",
          "Data Engineer",
          "Data Engineer",
          "Data Analyst",
          "Data Engineer",
          "Data Analyst",
          "Data Engineer",
          "Data Engineer",
          "Data Engineer",
          "Data Engineer",
          "Data Engineer",
          "Data Engineer",
          "Data Engineer",
          "Data Engineer",
          "Data Engineer",
          "Data Engineer",
          "Data Engineer",
          "Data Engineer",
          "Data Scientist",
          "Data Scientist",
          "Data Scientist",
          "Data Engineer",
          "Data Scientist",
          "Data Scientist",
          "Data Scientist",
          "Data Scientist",
          "Data Scientist",
          "Data Scientist",
          "Data Scientist",
          "Data Scientist",
          "Data Scientist",
          "Data Scientist",
          "Data Engineer",
          "Data Scientist",
          "Data Scientist",
          "Data Engineer",
          "Data Engineer",
          "Data Scientist",
          "Data Engineer",
          "Data Engineer",
          "Data Engineer",
          "Data Engineer",
          "Data Engineer",
          "Data Engineer",
          "Data Engineer",
          "Data Engineer",
          "Data Scientist",
          "Data Scientist",
          "Data Scientist",
          "Data Scientist",
          "Data Scientist",
          "Data Scientist",
          "Data Scientist",
          "Data Scientist",
          "Data Scientist",
          "Data Scientist",
          "Data Scientist",
          "Data Scientist",
          "Data Scientist",
          "Data Scientist",
          "Data Scientist",
          "Data Engineer",
          "Data Engineer",
          "Data Engineer",
          "Data Engineer",
          "Data Scientist",
          "Data Scientist",
          "Data Engineer",
          "Data Engineer",
          "Data Engineer",
          "Data Scientist",
          "Data Engineer",
          "Data Engineer",
          "Data Engineer",
          "Data Engineer",
          "Data Engineer",
          "Data Engineer",
          "Data Engineer",
          "Data Engineer",
          "Data Engineer",
          "Data Scientist",
          "Data Engineer",
          "Data Scientist",
          "Data Scientist",
          "Data Engineer",
          "Data Engineer",
          "Data Engineer",
          "Data Engineer",
          "Data Scientist",
          "Data Engineer",
          "Data Engineer",
          "Data Engineer",
          "Data Engineer",
          "Data Scientist",
          "Data Scientist",
          "Data Scientist",
          "Data Scientist",
          "Data Scientist",
          "Data Scientist",
          "Data Scientist",
          "Data Scientist",
          "Data Scientist",
          "Data Scientist",
          "Data Scientist",
          "Data Scientist",
          "Data Scientist",
          "Data Scientist",
          "Data Scientist",
          "Data Scientist",
          "Data Scientist",
          "Data Scientist",
          "Data Scientist",
          "Data Scientist",
          "Data Scientist",
          "Data Scientist",
          "Data Scientist",
          "Data Scientist",
          "Data Scientist",
          "Data Scientist",
          "Data Scientist",
          "Data Scientist",
          "Data Scientist",
          "Data Scientist",
          "Data Scientist",
          "Data Scientist",
          "Data Scientist",
          "Data Scientist",
          "Data Scientist",
          "Data Scientist",
          "Data Scientist",
          "Data Scientist",
          "Data Scientist",
          "Data Scientist",
          "Data Scientist",
          "Data Scientist",
          "Data Scientist",
          "Data Scientist",
          "Data Scientist",
          "Data Scientist",
          "Data Scientist",
          "Data Scientist",
          "Data Scientist",
          "Data Scientist",
          "Data Scientist",
          "Data Scientist",
          "Data Scientist",
          "Data Scientist",
          "Data Scientist",
          "Data Scientist",
          "Data Scientist",
          "Data Scientist",
          "Data Scientist",
          "Data Scientist",
          "Data Scientist",
          "Data Scientist",
          "Data Scientist",
          "Data Scientist",
          "Data Scientist",
          "Data Scientist",
          "Data Scientist",
          "Data Scientist",
          "Data Scientist",
          "Data Scientist",
          "Data Scientist",
          "Data Scientist",
          "Data Scientist",
          "Data Scientist",
          "Data Scientist",
          "Data Scientist",
          "Data Scientist",
          "Data Scientist",
          "Data Scientist",
          "Data Scientist",
          "Data Scientist",
          "Data Scientist",
          "Data Scientist",
          "Data Scientist",
          "Data Scientist",
          "Data Scientist",
          "Data Scientist",
          "Data Engineer",
          "Data Scientist",
          "Data Scientist",
          "Data Scientist",
          "Data Engineer",
          "Data Scientist",
          "Data Engineer",
          "Data Engineer",
          "Data Engineer",
          "Data Engineer",
          "Data Engineer",
          "Data Engineer",
          "Data Engineer",
          "Data Engineer",
          "Data Engineer",
          "Data Engineer",
          "Data Engineer",
          "Data Engineer",
          "Data Engineer",
          "Data Engineer",
          "Data Engineer",
          "Data Engineer",
          "Data Engineer",
          "Data Engineer",
          "Data Engineer",
          "Data Engineer",
          "Data Engineer",
          "Data Engineer",
          "Data Engineer",
          "Data Engineer",
          "Data Engineer",
          "Data Engineer",
          "Data Engineer",
          "Data Engineer",
          "Data Engineer",
          "Data Engineer",
          "Data Engineer",
          "Data Engineer",
          "Data Engineer",
          "Data Engineer",
          "Data Engineer",
          "Data Engineer",
          "Data Engineer",
          "Data Engineer",
          "Data Engineer",
          "Data Engineer",
          "Data Engineer",
          "Data Engineer",
          "Data Engineer",
          "Data Engineer",
          "Data Engineer",
          "Data Engineer",
          "Data Engineer",
          "Data Engineer",
          "Data Engineer",
          "Data Engineer",
          "Data Engineer",
          "Data Engineer",
          "Data Engineer",
          "Data Engineer",
          "Data Engineer",
          "Data Engineer",
          "Data Engineer",
          "Data Engineer",
          "Data Engineer",
          "Data Engineer",
          "Data Engineer",
          "Data Engineer",
          "Data Engineer",
          "Data Engineer",
          "Data Engineer",
          "Data Engineer",
          "Data Engineer",
          "Data Engineer",
          "Data Engineer",
          "Data Engineer",
          "Data Engineer",
          "Data Engineer",
          "Data Engineer",
          "Data Engineer",
          "Data Engineer",
          "Data Engineer",
          "Data Engineer",
          "Data Engineer",
          "Data Engineer",
          "Data Engineer",
          "Data Engineer",
          "Data Engineer",
          "Data Engineer",
          "Data Engineer",
          "Data Engineer",
          "Data Engineer",
          "Data Engineer",
          "Data Engineer",
          "Data Engineer",
          "Data Engineer",
          "Data Engineer",
          "Data Engineer",
          "Data Engineer",
          "Data Engineer",
          "Data Engineer",
          "Data Engineer",
          "Data Engineer",
          "Data Engineer",
          "Data Engineer",
          "Data Engineer",
          "Data Engineer",
          "Data Engineer",
          "Data Engineer",
          "Data Engineer",
          "Data Engineer",
          "Data Engineer",
          "Data Engineer",
          "Data Engineer",
          "Data Engineer",
          "Data Engineer",
          "Data Engineer",
          "Data Engineer",
          "Data Engineer",
          "Data Engineer",
          "Data Engineer",
          "Data Engineer",
          "Data Engineer",
          "Data Engineer",
          "Data Engineer",
          "Data Engineer",
          "Data Engineer",
          "Data Engineer",
          "Data Engineer",
          "Data Engineer",
          "Data Engineer",
          "Data Engineer",
          "Data Engineer",
          "Data Engineer",
          "Data Engineer",
          "Data Engineer",
          "Data Engineer",
          "Data Engineer",
          "Data Engineer",
          "Data Engineer",
          "Data Engineer",
          "Data Engineer",
          "Data Engineer",
          "Data Engineer",
          "Data Engineer",
          "Data Engineer",
          "Data Engineer",
          "Data Engineer",
          "Data Engineer",
          "Data Engineer",
          "Data Engineer",
          "Data Engineer",
          "Data Engineer",
          "Data Engineer",
          "Data Engineer",
          "Data Engineer",
          "Data Engineer",
          "Data Engineer",
          "Data Engineer",
          "Data Engineer",
          "Data Engineer",
          "Data Engineer",
          "Data Engineer",
          "Data Engineer",
          "Data Engineer",
          "Data Engineer",
          "Data Engineer",
          "Data Engineer",
          "Data Engineer",
          "Data Engineer",
          "Data Engineer",
          "Data Engineer",
          "Data Engineer",
          "Data Engineer",
          "Data Engineer",
          "Data Engineer",
          "Data Engineer",
          "Data Engineer",
          "Data Engineer",
          "Data Engineer",
          "Data Engineer",
          "Data Engineer",
          "Data Engineer",
          "Data Engineer",
          "Data Engineer",
          "Data Engineer",
          "Data Engineer",
          "Data Engineer",
          "Data Engineer",
          "Data Engineer",
          "Data Engineer",
          "Data Engineer",
          "Data Engineer",
          "Data Engineer",
          "Data Engineer",
          "Data Engineer",
          "Data Engineer",
          "Data Engineer",
          "Data Engineer",
          "Data Engineer",
          "Data Engineer",
          "Data Engineer",
          "Data Engineer",
          "Data Engineer",
          "Data Engineer",
          "Data Engineer",
          "Data Engineer",
          "Data Engineer",
          "Data Engineer",
          "Data Engineer",
          "Data Engineer",
          "Data Engineer",
          "Data Engineer",
          "Data Engineer",
          "Data Engineer",
          "Data Engineer",
          "Data Engineer",
          "Data Engineer",
          "Data Engineer",
          "Data Engineer",
          "Data Engineer",
          "Data Engineer",
          "Data Engineer",
          "Data Engineer",
          "Data Engineer",
          "Data Engineer",
          "Data Engineer",
          "Data Engineer",
          "Data Engineer",
          "Data Engineer",
          "Data Engineer",
          "Data Engineer",
          "Data Engineer",
          "Data Engineer",
          "Data Engineer",
          "Data Engineer",
          "Data Engineer",
          "Data Engineer",
          "Data Engineer",
          "Data Engineer",
          "Data Engineer",
          "Data Engineer",
          "Data Engineer",
          "Data Engineer",
          "Data Engineer",
          "Data Engineer",
          "Data Engineer",
          "Data Engineer",
          "Data Engineer",
          "Data Engineer",
          "Data Engineer",
          "Data Engineer",
          "Data Engineer",
          "Data Engineer",
          "Data Engineer",
          "Data Engineer",
          "Data Engineer",
          "Data Engineer",
          "Data Engineer",
          "Data Engineer",
          "Data Engineer",
          "Data Engineer",
          "Data Engineer",
          "Data Engineer",
          "Data Engineer",
          "Data Engineer",
          "Data Engineer",
          "Data Engineer",
          "Data Engineer",
          "Data Engineer",
          "Data Engineer",
          "Data Engineer",
          "Data Engineer",
          "Data Engineer",
          "Data Engineer",
          "Data Engineer",
          "Data Engineer",
          "Data Engineer",
          "Data Engineer",
          "Data Engineer",
          "Data Engineer",
          "Data Engineer",
          "Data Engineer",
          "Data Engineer",
          "Data Engineer",
          "Data Engineer",
          "Data Engineer",
          "Data Engineer",
          "Data Engineer",
          "Data Engineer",
          "Data Engineer",
          "Data Engineer",
          "Data Engineer",
          "Data Engineer",
          "Data Engineer",
          "Data Engineer",
          "Data Engineer",
          "Data Engineer",
          "Data Engineer",
          "Data Engineer",
          "Data Engineer",
          "Data Engineer",
          "Data Engineer",
          "Data Engineer",
          "Data Engineer",
          "Data Engineer",
          "Data Engineer",
          "Data Engineer",
          "Data Engineer",
          "Data Engineer",
          "Data Engineer",
          "Data Engineer",
          "Data Engineer",
          "Data Engineer",
          "Data Engineer",
          "Data Engineer",
          "Data Engineer",
          "Data Engineer",
          "Data Engineer",
          "Data Engineer",
          "Data Engineer",
          "Data Engineer",
          "Data Engineer",
          "Data Engineer",
          "Data Engineer",
          "Data Engineer",
          "Data Engineer",
          "Data Engineer",
          "Data Engineer",
          "Data Engineer",
          "Data Engineer",
          "Data Engineer",
          "Data Engineer",
          "Data Engineer",
          "Data Engineer",
          "Data Engineer",
          "Data Engineer",
          "Data Engineer",
          "Data Engineer",
          "Data Engineer",
          "Data Engineer",
          "Data Engineer",
          "Data Engineer",
          "Data Engineer",
          "Data Engineer",
          "Data Engineer",
          "Data Engineer",
          "Data Engineer",
          "Data Engineer",
          "Data Engineer",
          "Data Engineer",
          "Data Engineer",
          "Data Engineer",
          "Data Engineer",
          "Data Engineer",
          "Data Engineer",
          "Data Engineer",
          "Data Engineer",
          "Data Engineer",
          "Data Engineer",
          "Data Engineer",
          "Data Engineer",
          "Data Engineer",
          "Data Engineer",
          "Data Engineer",
          "Data Engineer",
          "Data Engineer",
          "Data Engineer",
          "Data Engineer",
          "Data Engineer",
          "Data Engineer",
          "Data Engineer",
          "Data Engineer",
          "Data Engineer",
          "Data Engineer",
          "Data Engineer",
          "Data Engineer",
          "Data Engineer",
          "Data Engineer",
          "Data Engineer"
         ],
         "x0": " ",
         "xaxis": "x",
         "y": [
          28336,
          35000,
          42500,
          57500,
          27500,
          32500,
          47500,
          37500,
          55000,
          55000,
          37500,
          55000,
          27000,
          45000,
          57500,
          35000,
          55000,
          35000,
          40000,
          45000,
          33500,
          50000,
          29000,
          46000,
          27500,
          37500,
          52500,
          37500,
          52000,
          60000,
          40000,
          30000,
          47500,
          40000,
          38500,
          45000,
          57500,
          35000,
          43000,
          26000,
          25000,
          37500,
          50000,
          50000,
          40000,
          55000,
          26000,
          32500,
          39000,
          39000,
          39000,
          39000,
          32500,
          60000,
          37500,
          30000,
          35500,
          50000,
          35000,
          22000,
          26500,
          28000,
          42500,
          39500,
          62500,
          42500,
          35000,
          65000,
          39000,
          39000,
          39000,
          35000,
          40000,
          40000.5,
          35851.5,
          40000,
          52500,
          22500,
          37500,
          27945.5,
          34500,
          23000,
          50000,
          53000,
          40000,
          47500,
          41500,
          60000,
          45000,
          42500,
          36250,
          28000,
          65000,
          35000,
          42500,
          31500,
          35000,
          60000,
          40000,
          27500,
          50000,
          37500,
          45000,
          40000,
          27500,
          40000,
          26500,
          50000,
          33000,
          27000,
          39000,
          39000,
          39000,
          42500,
          22500,
          32500,
          47500,
          26629.5,
          60000,
          51000,
          37500,
          32000,
          42500,
          25000,
          55000,
          50000,
          34220,
          40000,
          25000,
          65000,
          45000,
          45000,
          62500,
          42500,
          67500,
          50000,
          60000,
          65000,
          57500,
          40000,
          70000,
          70000,
          37500,
          32500,
          35000,
          20000,
          45000,
          29377,
          60000,
          60000,
          35500,
          40000,
          49000,
          32500,
          62500,
          80000,
          55000,
          50000,
          47500,
          50000,
          30000,
          27600,
          55000,
          40000,
          34248,
          29500,
          52500,
          29000,
          35000,
          37000,
          24912,
          24500,
          26000,
          26000,
          37500,
          45000,
          55000,
          60000,
          38500,
          35500,
          35500,
          26500,
          45500,
          67500,
          27000,
          32000,
          29000,
          52500,
          20000,
          37500,
          40000,
          16000,
          47500,
          55000,
          45000,
          100000,
          47500,
          62500,
          67500,
          50000,
          50000,
          25000,
          70500,
          62500,
          23000,
          33500,
          40000,
          62500,
          50000,
          40000,
          30000,
          27500,
          45000,
          50000,
          49000,
          50000,
          50000,
          50000,
          49000,
          55000,
          43000.5,
          45000,
          45000,
          25000,
          16000,
          15000,
          26750,
          50000,
          26500,
          55000,
          47500,
          51500,
          27684,
          67500,
          26000,
          19000,
          24750,
          40000,
          26000,
          32500,
          26000,
          26000,
          50000,
          60000,
          40000,
          23500,
          25000,
          45000,
          38214,
          31250,
          33500,
          45000,
          55000,
          42500,
          77500,
          55000,
          35000,
          45000,
          37500,
          42000,
          40000,
          28500,
          75000,
          30000,
          30000,
          55000,
          31500,
          24000,
          38500,
          40000,
          35000,
          35000,
          60000,
          42500,
          40000,
          35000,
          32500,
          55000,
          50000,
          42500,
          32500,
          47500,
          21500,
          40000,
          47500,
          47500,
          22000,
          22000,
          37147,
          23500,
          15000,
          52500,
          21500,
          39896,
          28000,
          47500,
          43500,
          23000,
          24500,
          35000,
          26000,
          21220,
          18500,
          70000,
          60000,
          31837,
          35500,
          38000,
          23000,
          35000,
          47500,
          47500,
          17000,
          40000,
          60000,
          46500,
          57500,
          40000,
          27000,
          65000,
          40000,
          37000,
          50000,
          27250,
          25000,
          40000,
          46500,
          67500,
          40000,
          44000,
          37500,
          45000,
          27945.5,
          32500,
          32500,
          65000,
          22500,
          43500,
          23000,
          45000,
          51500,
          67500,
          67500,
          80000,
          32500,
          29500,
          62500,
          67500,
          67500,
          60000,
          67500,
          55000,
          27250,
          42500,
          60000,
          28000,
          38000,
          30500,
          19562,
          31500,
          31500,
          45000,
          38000,
          55000,
          78000,
          51500,
          51500,
          42500,
          47500,
          37500,
          42500,
          27750,
          39000,
          16500,
          20000,
          27500,
          37500,
          55000,
          60000,
          60000,
          60000,
          60000,
          60000,
          75000,
          55000,
          70500,
          60000,
          60000,
          60000,
          60000,
          60000,
          60000,
          37500,
          55000,
          75000,
          27000,
          55000,
          60000,
          60000,
          60000,
          60000,
          42500,
          38000,
          40000,
          77500,
          80000,
          47500,
          75000,
          60000,
          100000,
          77500,
          50000,
          32500,
          35000,
          60000,
          54000,
          50000,
          32500,
          32500,
          50000,
          35000,
          34000,
          46500,
          57500,
          38000,
          50000,
          45000,
          31931,
          55000,
          77500,
          32500,
          32500,
          35906.5,
          30500,
          27055,
          47500,
          65000,
          45000,
          55000,
          55000,
          82500,
          62500,
          65000,
          45000,
          62500,
          23000,
          42500,
          67500,
          110000,
          50000,
          75000,
          60000,
          60000,
          60000,
          60000,
          60000,
          60000,
          60000,
          55000,
          60000,
          40000,
          67500,
          85000,
          65000,
          75000,
          75000,
          67191,
          75000,
          75000,
          75000,
          57500,
          70000,
          112500,
          85000,
          57500,
          51000,
          82500,
          85000,
          52500,
          65000,
          70000,
          85000,
          85000,
          85000,
          60000,
          42500,
          42500,
          42500,
          70000,
          50000,
          62500,
          62500,
          55000,
          42500,
          62500,
          60000,
          60000,
          65000,
          65000,
          50000,
          50000,
          55000,
          60000,
          53500,
          35000,
          50000,
          35000,
          90000,
          75000,
          72500,
          52500,
          45000,
          45000,
          45000,
          37500,
          42500,
          77500,
          80000,
          60000,
          60000,
          85000,
          90000,
          50000,
          50000,
          55000,
          75000,
          50000,
          72500,
          27500.5,
          60000,
          60000,
          60000,
          60000,
          65000,
          50000,
          67500,
          28500,
          100000,
          57500,
          60000,
          74000,
          60000.5,
          48500,
          57500,
          37500.5,
          60000,
          77500,
          65000,
          47500,
          57500,
          55000,
          80000,
          57500,
          85000,
          60000,
          60000,
          65000,
          75000,
          48500,
          40000,
          50000,
          60000,
          80000,
          36500,
          52500,
          42500,
          80000,
          75000,
          45000,
          32500,
          42500,
          55000,
          65000,
          42500,
          42500,
          42500,
          75000,
          110000,
          47500,
          105000,
          45000,
          70000,
          62500,
          60000,
          70000,
          60000,
          70000,
          92500,
          44000,
          95000,
          31500,
          72500,
          70000,
          85000,
          92500,
          80000,
          65000,
          90000,
          72500,
          85000,
          85000,
          32500,
          95000,
          95000,
          100000,
          67500,
          95000,
          80000,
          52500,
          61000,
          62500,
          95000,
          95000,
          75000,
          77500,
          85000,
          60500,
          70000,
          87500,
          85000,
          75000,
          80500,
          87500,
          70000,
          65000,
          65000,
          70000,
          42500,
          82500,
          87500,
          38000,
          110000,
          82500,
          55000,
          80000,
          57500,
          40000.5,
          40000.5,
          50000,
          32500,
          82500,
          77500,
          52500,
          55000,
          70000,
          120000,
          67500,
          60000,
          77500,
          82500,
          55000,
          70000,
          70000,
          80000,
          90000,
          55000,
          77500,
          87500,
          25000,
          25000,
          65000,
          67500,
          70000,
          92500,
          60000,
          65000,
          55000,
          55000,
          42500,
          48750,
          65000,
          70000,
          52500,
          65000,
          55000,
          55000,
          55000,
          55000,
          55000,
          44000,
          70000,
          60000,
          58000,
          47500,
          70000,
          67500,
          65000,
          52500,
          52500,
          52500,
          52500,
          52500,
          70000,
          67500,
          55000,
          52500,
          60000,
          75000,
          67500,
          67500,
          50000,
          70000,
          55000,
          75000,
          40000,
          77500,
          45000,
          42500,
          77500,
          50000,
          75000,
          50000,
          42500,
          45000,
          42500,
          105000,
          45000,
          50000,
          45000,
          47500,
          45000,
          43000,
          37500,
          52500,
          50500,
          65000,
          65000,
          42500,
          75000,
          50000,
          50000,
          70000,
          40000,
          46549,
          50000,
          92500,
          45000,
          40000,
          75000,
          80000,
          47500,
          30000,
          57500,
          46000,
          46000,
          55000,
          55000,
          65000,
          45000,
          42500,
          57500,
          72500,
          80000,
          50000,
          65000,
          85000,
          90000,
          80000,
          95000,
          85000,
          70000,
          65500,
          105000,
          75000,
          90000,
          55000,
          105000,
          82500,
          92500,
          92500,
          85000,
          75000,
          80000,
          85000,
          27000,
          80000,
          72500,
          57500,
          85000,
          85000,
          60000,
          60000,
          97500,
          65000,
          60000,
          62500,
          80000,
          50000,
          80000,
          45000,
          41000,
          50500,
          66500,
          102500,
          62500,
          75000,
          75000,
          59487,
          77500,
          90000,
          45000,
          85000,
          75000,
          75000,
          67500,
          47500,
          90000,
          77500,
          70000,
          72500,
          70000,
          70000,
          82500,
          60000,
          55000,
          60000,
          67500,
          90000,
          57500,
          65000,
          65000,
          42500,
          110000,
          43000,
          85000,
          30000,
          95000,
          77500,
          75000,
          92500,
          75000,
          90000,
          70000,
          41000,
          65000,
          90000,
          77500,
          75000,
          50000,
          70000,
          67500,
          75000,
          70000,
          90000,
          47500,
          35000,
          48500,
          51500,
          80000,
          95000,
          65000,
          50000,
          83000,
          70000,
          60000,
          40000,
          88000,
          75000,
          60000,
          60000,
          102500,
          60000,
          77500,
          90000,
          79000,
          80000,
          80000,
          67500,
          60000,
          102500,
          92500,
          85000,
          45500,
          85000,
          57500,
          67500,
          67500,
          25000,
          30500,
          75000,
          47000,
          60000,
          65000,
          50000,
          40000,
          65000,
          40000,
          80000,
          87500,
          62500,
          47500,
          27500,
          22000,
          74000,
          29000,
          55000,
          29000,
          45000,
          29000,
          29000,
          85000,
          80000,
          43977.5,
          55000,
          52500,
          42500,
          110000,
          33320,
          95000,
          92500,
          80000,
          72000,
          55000,
          75000,
          72500,
          75000,
          60000,
          80000,
          52500,
          63000,
          47500,
          70000,
          87500,
          50000,
          47000,
          22500,
          60000,
          60000,
          47500,
          77500,
          65000,
          65000,
          52500,
          87500,
          65000,
          75000,
          50000,
          90000,
          112500,
          40000,
          110000,
          112500,
          75000,
          65000,
          70000,
          65000,
          85000,
          50000,
          47500,
          105000,
          55000,
          47500,
          42500,
          85000,
          92500,
          50000,
          55000,
          80000,
          90000,
          52500,
          62500,
          50000,
          45000,
          50000,
          90000,
          26000,
          26000,
          85000,
          47500,
          42500,
          35000,
          45000,
          75000,
          50000,
          45000,
          95000,
          72500,
          60000,
          55000,
          50000,
          55000,
          50000,
          50000,
          50000,
          62500,
          75000,
          37500,
          90000,
          80975,
          62500,
          74000,
          74000,
          74000,
          70000,
          85000,
          85000,
          75000,
          107500,
          62500,
          132500,
          100000,
          90000,
          90000,
          110000,
          87500,
          87500,
          87500,
          87500,
          70000,
          70000,
          70000,
          100000,
          110000,
          112500,
          150000
         ],
         "y0": " ",
         "yaxis": "y"
        }
       ],
       "layout": {
        "boxmode": "group",
        "legend": {
         "tracegroupgap": 0
        },
        "margin": {
         "t": 60
        },
        "template": {
         "data": {
          "bar": [
           {
            "error_x": {
             "color": "#2a3f5f"
            },
            "error_y": {
             "color": "#2a3f5f"
            },
            "marker": {
             "line": {
              "color": "#E5ECF6",
              "width": 0.5
             },
             "pattern": {
              "fillmode": "overlay",
              "size": 10,
              "solidity": 0.2
             }
            },
            "type": "bar"
           }
          ],
          "barpolar": [
           {
            "marker": {
             "line": {
              "color": "#E5ECF6",
              "width": 0.5
             },
             "pattern": {
              "fillmode": "overlay",
              "size": 10,
              "solidity": 0.2
             }
            },
            "type": "barpolar"
           }
          ],
          "carpet": [
           {
            "aaxis": {
             "endlinecolor": "#2a3f5f",
             "gridcolor": "white",
             "linecolor": "white",
             "minorgridcolor": "white",
             "startlinecolor": "#2a3f5f"
            },
            "baxis": {
             "endlinecolor": "#2a3f5f",
             "gridcolor": "white",
             "linecolor": "white",
             "minorgridcolor": "white",
             "startlinecolor": "#2a3f5f"
            },
            "type": "carpet"
           }
          ],
          "choropleth": [
           {
            "colorbar": {
             "outlinewidth": 0,
             "ticks": ""
            },
            "type": "choropleth"
           }
          ],
          "contour": [
           {
            "colorbar": {
             "outlinewidth": 0,
             "ticks": ""
            },
            "colorscale": [
             [
              0,
              "#0d0887"
             ],
             [
              0.1111111111111111,
              "#46039f"
             ],
             [
              0.2222222222222222,
              "#7201a8"
             ],
             [
              0.3333333333333333,
              "#9c179e"
             ],
             [
              0.4444444444444444,
              "#bd3786"
             ],
             [
              0.5555555555555556,
              "#d8576b"
             ],
             [
              0.6666666666666666,
              "#ed7953"
             ],
             [
              0.7777777777777778,
              "#fb9f3a"
             ],
             [
              0.8888888888888888,
              "#fdca26"
             ],
             [
              1,
              "#f0f921"
             ]
            ],
            "type": "contour"
           }
          ],
          "contourcarpet": [
           {
            "colorbar": {
             "outlinewidth": 0,
             "ticks": ""
            },
            "type": "contourcarpet"
           }
          ],
          "heatmap": [
           {
            "colorbar": {
             "outlinewidth": 0,
             "ticks": ""
            },
            "colorscale": [
             [
              0,
              "#0d0887"
             ],
             [
              0.1111111111111111,
              "#46039f"
             ],
             [
              0.2222222222222222,
              "#7201a8"
             ],
             [
              0.3333333333333333,
              "#9c179e"
             ],
             [
              0.4444444444444444,
              "#bd3786"
             ],
             [
              0.5555555555555556,
              "#d8576b"
             ],
             [
              0.6666666666666666,
              "#ed7953"
             ],
             [
              0.7777777777777778,
              "#fb9f3a"
             ],
             [
              0.8888888888888888,
              "#fdca26"
             ],
             [
              1,
              "#f0f921"
             ]
            ],
            "type": "heatmap"
           }
          ],
          "heatmapgl": [
           {
            "colorbar": {
             "outlinewidth": 0,
             "ticks": ""
            },
            "colorscale": [
             [
              0,
              "#0d0887"
             ],
             [
              0.1111111111111111,
              "#46039f"
             ],
             [
              0.2222222222222222,
              "#7201a8"
             ],
             [
              0.3333333333333333,
              "#9c179e"
             ],
             [
              0.4444444444444444,
              "#bd3786"
             ],
             [
              0.5555555555555556,
              "#d8576b"
             ],
             [
              0.6666666666666666,
              "#ed7953"
             ],
             [
              0.7777777777777778,
              "#fb9f3a"
             ],
             [
              0.8888888888888888,
              "#fdca26"
             ],
             [
              1,
              "#f0f921"
             ]
            ],
            "type": "heatmapgl"
           }
          ],
          "histogram": [
           {
            "marker": {
             "pattern": {
              "fillmode": "overlay",
              "size": 10,
              "solidity": 0.2
             }
            },
            "type": "histogram"
           }
          ],
          "histogram2d": [
           {
            "colorbar": {
             "outlinewidth": 0,
             "ticks": ""
            },
            "colorscale": [
             [
              0,
              "#0d0887"
             ],
             [
              0.1111111111111111,
              "#46039f"
             ],
             [
              0.2222222222222222,
              "#7201a8"
             ],
             [
              0.3333333333333333,
              "#9c179e"
             ],
             [
              0.4444444444444444,
              "#bd3786"
             ],
             [
              0.5555555555555556,
              "#d8576b"
             ],
             [
              0.6666666666666666,
              "#ed7953"
             ],
             [
              0.7777777777777778,
              "#fb9f3a"
             ],
             [
              0.8888888888888888,
              "#fdca26"
             ],
             [
              1,
              "#f0f921"
             ]
            ],
            "type": "histogram2d"
           }
          ],
          "histogram2dcontour": [
           {
            "colorbar": {
             "outlinewidth": 0,
             "ticks": ""
            },
            "colorscale": [
             [
              0,
              "#0d0887"
             ],
             [
              0.1111111111111111,
              "#46039f"
             ],
             [
              0.2222222222222222,
              "#7201a8"
             ],
             [
              0.3333333333333333,
              "#9c179e"
             ],
             [
              0.4444444444444444,
              "#bd3786"
             ],
             [
              0.5555555555555556,
              "#d8576b"
             ],
             [
              0.6666666666666666,
              "#ed7953"
             ],
             [
              0.7777777777777778,
              "#fb9f3a"
             ],
             [
              0.8888888888888888,
              "#fdca26"
             ],
             [
              1,
              "#f0f921"
             ]
            ],
            "type": "histogram2dcontour"
           }
          ],
          "mesh3d": [
           {
            "colorbar": {
             "outlinewidth": 0,
             "ticks": ""
            },
            "type": "mesh3d"
           }
          ],
          "parcoords": [
           {
            "line": {
             "colorbar": {
              "outlinewidth": 0,
              "ticks": ""
             }
            },
            "type": "parcoords"
           }
          ],
          "pie": [
           {
            "automargin": true,
            "type": "pie"
           }
          ],
          "scatter": [
           {
            "fillpattern": {
             "fillmode": "overlay",
             "size": 10,
             "solidity": 0.2
            },
            "type": "scatter"
           }
          ],
          "scatter3d": [
           {
            "line": {
             "colorbar": {
              "outlinewidth": 0,
              "ticks": ""
             }
            },
            "marker": {
             "colorbar": {
              "outlinewidth": 0,
              "ticks": ""
             }
            },
            "type": "scatter3d"
           }
          ],
          "scattercarpet": [
           {
            "marker": {
             "colorbar": {
              "outlinewidth": 0,
              "ticks": ""
             }
            },
            "type": "scattercarpet"
           }
          ],
          "scattergeo": [
           {
            "marker": {
             "colorbar": {
              "outlinewidth": 0,
              "ticks": ""
             }
            },
            "type": "scattergeo"
           }
          ],
          "scattergl": [
           {
            "marker": {
             "colorbar": {
              "outlinewidth": 0,
              "ticks": ""
             }
            },
            "type": "scattergl"
           }
          ],
          "scattermapbox": [
           {
            "marker": {
             "colorbar": {
              "outlinewidth": 0,
              "ticks": ""
             }
            },
            "type": "scattermapbox"
           }
          ],
          "scatterpolar": [
           {
            "marker": {
             "colorbar": {
              "outlinewidth": 0,
              "ticks": ""
             }
            },
            "type": "scatterpolar"
           }
          ],
          "scatterpolargl": [
           {
            "marker": {
             "colorbar": {
              "outlinewidth": 0,
              "ticks": ""
             }
            },
            "type": "scatterpolargl"
           }
          ],
          "scatterternary": [
           {
            "marker": {
             "colorbar": {
              "outlinewidth": 0,
              "ticks": ""
             }
            },
            "type": "scatterternary"
           }
          ],
          "surface": [
           {
            "colorbar": {
             "outlinewidth": 0,
             "ticks": ""
            },
            "colorscale": [
             [
              0,
              "#0d0887"
             ],
             [
              0.1111111111111111,
              "#46039f"
             ],
             [
              0.2222222222222222,
              "#7201a8"
             ],
             [
              0.3333333333333333,
              "#9c179e"
             ],
             [
              0.4444444444444444,
              "#bd3786"
             ],
             [
              0.5555555555555556,
              "#d8576b"
             ],
             [
              0.6666666666666666,
              "#ed7953"
             ],
             [
              0.7777777777777778,
              "#fb9f3a"
             ],
             [
              0.8888888888888888,
              "#fdca26"
             ],
             [
              1,
              "#f0f921"
             ]
            ],
            "type": "surface"
           }
          ],
          "table": [
           {
            "cells": {
             "fill": {
              "color": "#EBF0F8"
             },
             "line": {
              "color": "white"
             }
            },
            "header": {
             "fill": {
              "color": "#C8D4E3"
             },
             "line": {
              "color": "white"
             }
            },
            "type": "table"
           }
          ]
         },
         "layout": {
          "annotationdefaults": {
           "arrowcolor": "#2a3f5f",
           "arrowhead": 0,
           "arrowwidth": 1
          },
          "autotypenumbers": "strict",
          "coloraxis": {
           "colorbar": {
            "outlinewidth": 0,
            "ticks": ""
           }
          },
          "colorscale": {
           "diverging": [
            [
             0,
             "#8e0152"
            ],
            [
             0.1,
             "#c51b7d"
            ],
            [
             0.2,
             "#de77ae"
            ],
            [
             0.3,
             "#f1b6da"
            ],
            [
             0.4,
             "#fde0ef"
            ],
            [
             0.5,
             "#f7f7f7"
            ],
            [
             0.6,
             "#e6f5d0"
            ],
            [
             0.7,
             "#b8e186"
            ],
            [
             0.8,
             "#7fbc41"
            ],
            [
             0.9,
             "#4d9221"
            ],
            [
             1,
             "#276419"
            ]
           ],
           "sequential": [
            [
             0,
             "#0d0887"
            ],
            [
             0.1111111111111111,
             "#46039f"
            ],
            [
             0.2222222222222222,
             "#7201a8"
            ],
            [
             0.3333333333333333,
             "#9c179e"
            ],
            [
             0.4444444444444444,
             "#bd3786"
            ],
            [
             0.5555555555555556,
             "#d8576b"
            ],
            [
             0.6666666666666666,
             "#ed7953"
            ],
            [
             0.7777777777777778,
             "#fb9f3a"
            ],
            [
             0.8888888888888888,
             "#fdca26"
            ],
            [
             1,
             "#f0f921"
            ]
           ],
           "sequentialminus": [
            [
             0,
             "#0d0887"
            ],
            [
             0.1111111111111111,
             "#46039f"
            ],
            [
             0.2222222222222222,
             "#7201a8"
            ],
            [
             0.3333333333333333,
             "#9c179e"
            ],
            [
             0.4444444444444444,
             "#bd3786"
            ],
            [
             0.5555555555555556,
             "#d8576b"
            ],
            [
             0.6666666666666666,
             "#ed7953"
            ],
            [
             0.7777777777777778,
             "#fb9f3a"
            ],
            [
             0.8888888888888888,
             "#fdca26"
            ],
            [
             1,
             "#f0f921"
            ]
           ]
          },
          "colorway": [
           "#636efa",
           "#EF553B",
           "#00cc96",
           "#ab63fa",
           "#FFA15A",
           "#19d3f3",
           "#FF6692",
           "#B6E880",
           "#FF97FF",
           "#FECB52"
          ],
          "font": {
           "color": "#2a3f5f"
          },
          "geo": {
           "bgcolor": "white",
           "lakecolor": "white",
           "landcolor": "#E5ECF6",
           "showlakes": true,
           "showland": true,
           "subunitcolor": "white"
          },
          "hoverlabel": {
           "align": "left"
          },
          "hovermode": "closest",
          "mapbox": {
           "style": "light"
          },
          "paper_bgcolor": "white",
          "plot_bgcolor": "#E5ECF6",
          "polar": {
           "angularaxis": {
            "gridcolor": "white",
            "linecolor": "white",
            "ticks": ""
           },
           "bgcolor": "#E5ECF6",
           "radialaxis": {
            "gridcolor": "white",
            "linecolor": "white",
            "ticks": ""
           }
          },
          "scene": {
           "xaxis": {
            "backgroundcolor": "#E5ECF6",
            "gridcolor": "white",
            "gridwidth": 2,
            "linecolor": "white",
            "showbackground": true,
            "ticks": "",
            "zerolinecolor": "white"
           },
           "yaxis": {
            "backgroundcolor": "#E5ECF6",
            "gridcolor": "white",
            "gridwidth": 2,
            "linecolor": "white",
            "showbackground": true,
            "ticks": "",
            "zerolinecolor": "white"
           },
           "zaxis": {
            "backgroundcolor": "#E5ECF6",
            "gridcolor": "white",
            "gridwidth": 2,
            "linecolor": "white",
            "showbackground": true,
            "ticks": "",
            "zerolinecolor": "white"
           }
          },
          "shapedefaults": {
           "line": {
            "color": "#2a3f5f"
           }
          },
          "ternary": {
           "aaxis": {
            "gridcolor": "white",
            "linecolor": "white",
            "ticks": ""
           },
           "baxis": {
            "gridcolor": "white",
            "linecolor": "white",
            "ticks": ""
           },
           "bgcolor": "#E5ECF6",
           "caxis": {
            "gridcolor": "white",
            "linecolor": "white",
            "ticks": ""
           }
          },
          "title": {
           "x": 0.05
          },
          "xaxis": {
           "automargin": true,
           "gridcolor": "white",
           "linecolor": "white",
           "ticks": "",
           "title": {
            "standoff": 15
           },
           "zerolinecolor": "white",
           "zerolinewidth": 2
          },
          "yaxis": {
           "automargin": true,
           "gridcolor": "white",
           "linecolor": "white",
           "ticks": "",
           "title": {
            "standoff": 15
           },
           "zerolinecolor": "white",
           "zerolinewidth": 2
          }
         }
        },
        "xaxis": {
         "anchor": "y",
         "domain": [
          0,
          1
         ],
         "title": {
          "text": "Job"
         }
        },
        "yaxis": {
         "anchor": "x",
         "domain": [
          0,
          1
         ],
         "title": {
          "text": "Salary (£)"
         }
        }
       }
      },
      "text/html": [
       "<div>                            <div id=\"4e903c23-485a-44db-9d9d-a9f7defde79f\" class=\"plotly-graph-div\" style=\"height:525px; width:100%;\"></div>            <script type=\"text/javascript\">                require([\"plotly\"], function(Plotly) {                    window.PLOTLYENV=window.PLOTLYENV || {};                                    if (document.getElementById(\"4e903c23-485a-44db-9d9d-a9f7defde79f\")) {                    Plotly.newPlot(                        \"4e903c23-485a-44db-9d9d-a9f7defde79f\",                        [{\"alignmentgroup\":\"True\",\"hovertemplate\":\"Job=%{x}<br>Salary (\\u00a3)=%{y}<extra></extra>\",\"legendgroup\":\"\",\"marker\":{\"color\":\"#636efa\"},\"name\":\"\",\"notched\":false,\"offsetgroup\":\"\",\"orientation\":\"v\",\"showlegend\":false,\"x\":[\"Data Analyst\",\"Data Analyst\",\"Data Analyst\",\"Data Analyst\",\"Data Analyst\",\"Data Analyst\",\"Data Analyst\",\"Data Analyst\",\"Data Analyst\",\"Data Analyst\",\"Data Analyst\",\"Data Analyst\",\"Data Analyst\",\"Data Analyst\",\"Data Analyst\",\"Data Analyst\",\"Data Analyst\",\"Data Analyst\",\"Data Analyst\",\"Data Analyst\",\"Data Analyst\",\"Data Analyst\",\"Data Analyst\",\"Data Analyst\",\"Data Analyst\",\"Data Analyst\",\"Data Analyst\",\"Data Analyst\",\"Data Analyst\",\"Data Analyst\",\"Data Analyst\",\"Data Analyst\",\"Data Analyst\",\"Data Analyst\",\"Data Analyst\",\"Data Analyst\",\"Data Analyst\",\"Data Analyst\",\"Data Analyst\",\"Data Analyst\",\"Data Analyst\",\"Data Analyst\",\"Data Analyst\",\"Data Analyst\",\"Data Analyst\",\"Data Analyst\",\"Data Analyst\",\"Data Analyst\",\"Data Analyst\",\"Data Analyst\",\"Data Analyst\",\"Data Analyst\",\"Data Analyst\",\"Data Analyst\",\"Data Analyst\",\"Data Analyst\",\"Data Analyst\",\"Data Analyst\",\"Data Analyst\",\"Data Analyst\",\"Data Analyst\",\"Data Analyst\",\"Data Analyst\",\"Data Analyst\",\"Data Analyst\",\"Data Analyst\",\"Data Analyst\",\"Data Analyst\",\"Data Analyst\",\"Data Analyst\",\"Data Analyst\",\"Data Analyst\",\"Data Analyst\",\"Data Analyst\",\"Data Analyst\",\"Data Analyst\",\"Data Analyst\",\"Data Analyst\",\"Data Analyst\",\"Data Analyst\",\"Data Analyst\",\"Data Analyst\",\"Data Analyst\",\"Data Analyst\",\"Data Analyst\",\"Data Analyst\",\"Data Analyst\",\"Data Analyst\",\"Data Analyst\",\"Data Analyst\",\"Data Analyst\",\"Data Analyst\",\"Data Analyst\",\"Data Analyst\",\"Data Analyst\",\"Data Analyst\",\"Data Analyst\",\"Data Analyst\",\"Data Analyst\",\"Data Analyst\",\"Data Analyst\",\"Data Analyst\",\"Data Analyst\",\"Data Analyst\",\"Data Analyst\",\"Data Analyst\",\"Data Analyst\",\"Data Analyst\",\"Data Analyst\",\"Data Analyst\",\"Data Analyst\",\"Data Analyst\",\"Data Analyst\",\"Data Analyst\",\"Data Analyst\",\"Data Analyst\",\"Data Analyst\",\"Data Analyst\",\"Data Analyst\",\"Data Analyst\",\"Data Analyst\",\"Data Analyst\",\"Data Analyst\",\"Data Analyst\",\"Data Analyst\",\"Data Analyst\",\"Data Analyst\",\"Data Analyst\",\"Data Analyst\",\"Data Analyst\",\"Data Analyst\",\"Data Analyst\",\"Data Analyst\",\"Data Analyst\",\"Data Analyst\",\"Data Analyst\",\"Data Analyst\",\"Data Analyst\",\"Data Analyst\",\"Data Analyst\",\"Data Analyst\",\"Data Analyst\",\"Data Analyst\",\"Data Analyst\",\"Data Analyst\",\"Data Analyst\",\"Data Analyst\",\"Data Analyst\",\"Data Analyst\",\"Data Analyst\",\"Data Analyst\",\"Data Analyst\",\"Data Analyst\",\"Data Analyst\",\"Data Analyst\",\"Data Analyst\",\"Data Analyst\",\"Data Analyst\",\"Data Analyst\",\"Data Analyst\",\"Data Analyst\",\"Data Analyst\",\"Data Analyst\",\"Data Analyst\",\"Data Analyst\",\"Data Analyst\",\"Data Analyst\",\"Data Analyst\",\"Data Analyst\",\"Data Analyst\",\"Data Analyst\",\"Data Analyst\",\"Data Analyst\",\"Data Analyst\",\"Data Analyst\",\"Data Analyst\",\"Data Analyst\",\"Data Analyst\",\"Data Analyst\",\"Data Analyst\",\"Data Analyst\",\"Data Analyst\",\"Data Analyst\",\"Data Analyst\",\"Data Analyst\",\"Data Analyst\",\"Data Analyst\",\"Data Analyst\",\"Data Analyst\",\"Data Analyst\",\"Data Analyst\",\"Data Analyst\",\"Data Analyst\",\"Data Analyst\",\"Data Analyst\",\"Data Analyst\",\"Data Analyst\",\"Data Analyst\",\"Data Analyst\",\"Data Analyst\",\"Data Analyst\",\"Data Analyst\",\"Data Analyst\",\"Data Analyst\",\"Data Analyst\",\"Data Analyst\",\"Data Analyst\",\"Data Analyst\",\"Data Analyst\",\"Data Analyst\",\"Data Analyst\",\"Data Analyst\",\"Data Analyst\",\"Data Analyst\",\"Data Analyst\",\"Data Analyst\",\"Data Analyst\",\"Data Analyst\",\"Data Analyst\",\"Data Analyst\",\"Data Analyst\",\"Data Analyst\",\"Data Analyst\",\"Data Analyst\",\"Data Analyst\",\"Data Analyst\",\"Data Analyst\",\"Data Analyst\",\"Data Analyst\",\"Data Analyst\",\"Data Analyst\",\"Data Analyst\",\"Data Analyst\",\"Data Analyst\",\"Data Analyst\",\"Data Analyst\",\"Data Analyst\",\"Data Analyst\",\"Data Analyst\",\"Data Analyst\",\"Data Analyst\",\"Data Analyst\",\"Data Analyst\",\"Data Analyst\",\"Data Analyst\",\"Data Analyst\",\"Data Analyst\",\"Data Analyst\",\"Data Analyst\",\"Data Analyst\",\"Data Analyst\",\"Data Analyst\",\"Data Analyst\",\"Data Analyst\",\"Data Analyst\",\"Data Analyst\",\"Data Analyst\",\"Data Analyst\",\"Data Analyst\",\"Data Analyst\",\"Data Analyst\",\"Data Analyst\",\"Data Scientist\",\"Data Analyst\",\"Data Analyst\",\"Data Analyst\",\"Data Analyst\",\"Data Analyst\",\"Data Analyst\",\"Data Analyst\",\"Data Analyst\",\"Data Analyst\",\"Data Analyst\",\"Data Analyst\",\"Data Analyst\",\"Data Analyst\",\"Data Analyst\",\"Data Analyst\",\"Data Analyst\",\"Data Analyst\",\"Data Analyst\",\"Data Analyst\",\"Data Analyst\",\"Data Analyst\",\"Data Analyst\",\"Data Analyst\",\"Data Analyst\",\"Data Analyst\",\"Data Analyst\",\"Data Analyst\",\"Data Analyst\",\"Data Analyst\",\"Data Analyst\",\"Data Analyst\",\"Data Analyst\",\"Data Analyst\",\"Data Analyst\",\"Data Analyst\",\"Data Analyst\",\"Data Analyst\",\"Data Analyst\",\"Data Analyst\",\"Data Analyst\",\"Data Analyst\",\"Data Analyst\",\"Data Analyst\",\"Data Analyst\",\"Data Analyst\",\"Data Analyst\",\"Data Analyst\",\"Data Analyst\",\"Data Analyst\",\"Data Analyst\",\"Data Analyst\",\"Data Analyst\",\"Data Analyst\",\"Data Analyst\",\"Data Analyst\",\"Data Analyst\",\"Data Analyst\",\"Data Analyst\",\"Data Analyst\",\"Data Analyst\",\"Data Analyst\",\"Data Analyst\",\"Data Analyst\",\"Data Analyst\",\"Data Analyst\",\"Data Analyst\",\"Data Analyst\",\"Data Scientist\",\"Data Analyst\",\"Data Analyst\",\"Data Analyst\",\"Data Analyst\",\"Data Analyst\",\"Data Analyst\",\"Data Analyst\",\"Data Analyst\",\"Data Analyst\",\"Data Analyst\",\"Data Analyst\",\"Data Analyst\",\"Data Analyst\",\"Data Analyst\",\"Data Analyst\",\"Data Analyst\",\"Data Analyst\",\"Data Analyst\",\"Data Analyst\",\"Data Analyst\",\"Data Analyst\",\"Data Analyst\",\"Data Analyst\",\"Data Analyst\",\"Data Analyst\",\"Data Analyst\",\"Data Analyst\",\"Data Analyst\",\"Data Analyst\",\"Data Analyst\",\"Data Analyst\",\"Data Analyst\",\"Data Analyst\",\"Data Analyst\",\"Data Analyst\",\"Data Analyst\",\"Data Analyst\",\"Data Analyst\",\"Data Analyst\",\"Data Analyst\",\"Data Analyst\",\"Data Analyst\",\"Data Analyst\",\"Data Analyst\",\"Data Analyst\",\"Data Analyst\",\"Data Analyst\",\"Data Analyst\",\"Data Analyst\",\"Data Analyst\",\"Data Analyst\",\"Data Analyst\",\"Data Analyst\",\"Data Analyst\",\"Data Analyst\",\"Data Analyst\",\"Data Analyst\",\"Data Analyst\",\"Data Analyst\",\"Data Analyst\",\"Data Analyst\",\"Data Analyst\",\"Data Analyst\",\"Data Analyst\",\"Data Analyst\",\"Data Analyst\",\"Data Analyst\",\"Data Analyst\",\"Data Analyst\",\"Data Analyst\",\"Data Analyst\",\"Data Analyst\",\"Data Analyst\",\"Data Analyst\",\"Data Analyst\",\"Data Analyst\",\"Data Analyst\",\"Data Analyst\",\"Data Analyst\",\"Data Analyst\",\"Data Analyst\",\"Data Analyst\",\"Data Analyst\",\"Data Analyst\",\"Data Analyst\",\"Data Analyst\",\"Data Analyst\",\"Data Analyst\",\"Data Analyst\",\"Data Analyst\",\"Data Analyst\",\"Data Analyst\",\"Data Analyst\",\"Data Analyst\",\"Data Analyst\",\"Data Analyst\",\"Data Analyst\",\"Data Analyst\",\"Data Analyst\",\"Data Analyst\",\"Data Analyst\",\"Data Analyst\",\"Data Analyst\",\"Data Analyst\",\"Data Engineer\",\"Data Analyst\",\"Data Analyst\",\"Data Scientist\",\"Data Scientist\",\"Data Engineer\",\"Data Engineer\",\"Data Engineer\",\"Data Scientist\",\"Data Engineer\",\"Data Analyst\",\"Data Engineer\",\"Data Scientist\",\"Data Engineer\",\"Data Engineer\",\"Data Engineer\",\"Data Analyst\",\"Data Analyst\",\"Data Engineer\",\"Data Engineer\",\"Data Engineer\",\"Data Engineer\",\"Data Engineer\",\"Data Analyst\",\"Data Engineer\",\"Data Analyst\",\"Data Engineer\",\"Data Engineer\",\"Data Engineer\",\"Data Engineer\",\"Data Engineer\",\"Data Engineer\",\"Data Engineer\",\"Data Engineer\",\"Data Engineer\",\"Data Engineer\",\"Data Engineer\",\"Data Engineer\",\"Data Scientist\",\"Data Scientist\",\"Data Scientist\",\"Data Engineer\",\"Data Scientist\",\"Data Scientist\",\"Data Scientist\",\"Data Scientist\",\"Data Scientist\",\"Data Scientist\",\"Data Scientist\",\"Data Scientist\",\"Data Scientist\",\"Data Scientist\",\"Data Engineer\",\"Data Scientist\",\"Data Scientist\",\"Data Engineer\",\"Data Engineer\",\"Data Scientist\",\"Data Engineer\",\"Data Engineer\",\"Data Engineer\",\"Data Engineer\",\"Data Engineer\",\"Data Engineer\",\"Data Engineer\",\"Data Engineer\",\"Data Scientist\",\"Data Scientist\",\"Data Scientist\",\"Data Scientist\",\"Data Scientist\",\"Data Scientist\",\"Data Scientist\",\"Data Scientist\",\"Data Scientist\",\"Data Scientist\",\"Data Scientist\",\"Data Scientist\",\"Data Scientist\",\"Data Scientist\",\"Data Scientist\",\"Data Engineer\",\"Data Engineer\",\"Data Engineer\",\"Data Engineer\",\"Data Scientist\",\"Data Scientist\",\"Data Engineer\",\"Data Engineer\",\"Data Engineer\",\"Data Scientist\",\"Data Engineer\",\"Data Engineer\",\"Data Engineer\",\"Data Engineer\",\"Data Engineer\",\"Data Engineer\",\"Data Engineer\",\"Data Engineer\",\"Data Engineer\",\"Data Scientist\",\"Data Engineer\",\"Data Scientist\",\"Data Scientist\",\"Data Engineer\",\"Data Engineer\",\"Data Engineer\",\"Data Engineer\",\"Data Scientist\",\"Data Engineer\",\"Data Engineer\",\"Data Engineer\",\"Data Engineer\",\"Data Scientist\",\"Data Scientist\",\"Data Scientist\",\"Data Scientist\",\"Data Scientist\",\"Data Scientist\",\"Data Scientist\",\"Data Scientist\",\"Data Scientist\",\"Data Scientist\",\"Data Scientist\",\"Data Scientist\",\"Data Scientist\",\"Data Scientist\",\"Data Scientist\",\"Data Scientist\",\"Data Scientist\",\"Data Scientist\",\"Data Scientist\",\"Data Scientist\",\"Data Scientist\",\"Data Scientist\",\"Data Scientist\",\"Data Scientist\",\"Data Scientist\",\"Data Scientist\",\"Data Scientist\",\"Data Scientist\",\"Data Scientist\",\"Data Scientist\",\"Data Scientist\",\"Data Scientist\",\"Data Scientist\",\"Data Scientist\",\"Data Scientist\",\"Data Scientist\",\"Data Scientist\",\"Data Scientist\",\"Data Scientist\",\"Data Scientist\",\"Data Scientist\",\"Data Scientist\",\"Data Scientist\",\"Data Scientist\",\"Data Scientist\",\"Data Scientist\",\"Data Scientist\",\"Data Scientist\",\"Data Scientist\",\"Data Scientist\",\"Data Scientist\",\"Data Scientist\",\"Data Scientist\",\"Data Scientist\",\"Data Scientist\",\"Data Scientist\",\"Data Scientist\",\"Data Scientist\",\"Data Scientist\",\"Data Scientist\",\"Data Scientist\",\"Data Scientist\",\"Data Scientist\",\"Data Scientist\",\"Data Scientist\",\"Data Scientist\",\"Data Scientist\",\"Data Scientist\",\"Data Scientist\",\"Data Scientist\",\"Data Scientist\",\"Data Scientist\",\"Data Scientist\",\"Data Scientist\",\"Data Scientist\",\"Data Scientist\",\"Data Scientist\",\"Data Scientist\",\"Data Scientist\",\"Data Scientist\",\"Data Scientist\",\"Data Scientist\",\"Data Scientist\",\"Data Scientist\",\"Data Scientist\",\"Data Scientist\",\"Data Scientist\",\"Data Engineer\",\"Data Scientist\",\"Data Scientist\",\"Data Scientist\",\"Data Engineer\",\"Data Scientist\",\"Data Engineer\",\"Data Engineer\",\"Data Engineer\",\"Data Engineer\",\"Data Engineer\",\"Data Engineer\",\"Data Engineer\",\"Data Engineer\",\"Data Engineer\",\"Data Engineer\",\"Data Engineer\",\"Data Engineer\",\"Data Engineer\",\"Data Engineer\",\"Data Engineer\",\"Data Engineer\",\"Data Engineer\",\"Data Engineer\",\"Data Engineer\",\"Data Engineer\",\"Data Engineer\",\"Data Engineer\",\"Data Engineer\",\"Data Engineer\",\"Data Engineer\",\"Data Engineer\",\"Data Engineer\",\"Data Engineer\",\"Data Engineer\",\"Data Engineer\",\"Data Engineer\",\"Data Engineer\",\"Data Engineer\",\"Data Engineer\",\"Data Engineer\",\"Data Engineer\",\"Data Engineer\",\"Data Engineer\",\"Data Engineer\",\"Data Engineer\",\"Data Engineer\",\"Data Engineer\",\"Data Engineer\",\"Data Engineer\",\"Data Engineer\",\"Data Engineer\",\"Data Engineer\",\"Data Engineer\",\"Data Engineer\",\"Data Engineer\",\"Data Engineer\",\"Data Engineer\",\"Data Engineer\",\"Data Engineer\",\"Data Engineer\",\"Data Engineer\",\"Data Engineer\",\"Data Engineer\",\"Data Engineer\",\"Data Engineer\",\"Data Engineer\",\"Data Engineer\",\"Data Engineer\",\"Data Engineer\",\"Data Engineer\",\"Data Engineer\",\"Data Engineer\",\"Data Engineer\",\"Data Engineer\",\"Data Engineer\",\"Data Engineer\",\"Data Engineer\",\"Data Engineer\",\"Data Engineer\",\"Data Engineer\",\"Data Engineer\",\"Data Engineer\",\"Data Engineer\",\"Data Engineer\",\"Data Engineer\",\"Data Engineer\",\"Data Engineer\",\"Data Engineer\",\"Data Engineer\",\"Data Engineer\",\"Data Engineer\",\"Data Engineer\",\"Data Engineer\",\"Data Engineer\",\"Data Engineer\",\"Data Engineer\",\"Data Engineer\",\"Data Engineer\",\"Data Engineer\",\"Data Engineer\",\"Data Engineer\",\"Data Engineer\",\"Data Engineer\",\"Data Engineer\",\"Data Engineer\",\"Data Engineer\",\"Data Engineer\",\"Data Engineer\",\"Data Engineer\",\"Data Engineer\",\"Data Engineer\",\"Data Engineer\",\"Data Engineer\",\"Data Engineer\",\"Data Engineer\",\"Data Engineer\",\"Data Engineer\",\"Data Engineer\",\"Data Engineer\",\"Data Engineer\",\"Data Engineer\",\"Data Engineer\",\"Data Engineer\",\"Data Engineer\",\"Data Engineer\",\"Data Engineer\",\"Data Engineer\",\"Data Engineer\",\"Data Engineer\",\"Data Engineer\",\"Data Engineer\",\"Data Engineer\",\"Data Engineer\",\"Data Engineer\",\"Data Engineer\",\"Data Engineer\",\"Data Engineer\",\"Data Engineer\",\"Data Engineer\",\"Data Engineer\",\"Data Engineer\",\"Data Engineer\",\"Data Engineer\",\"Data Engineer\",\"Data Engineer\",\"Data Engineer\",\"Data Engineer\",\"Data Engineer\",\"Data Engineer\",\"Data Engineer\",\"Data Engineer\",\"Data Engineer\",\"Data Engineer\",\"Data Engineer\",\"Data Engineer\",\"Data Engineer\",\"Data Engineer\",\"Data Engineer\",\"Data Engineer\",\"Data Engineer\",\"Data Engineer\",\"Data Engineer\",\"Data Engineer\",\"Data Engineer\",\"Data Engineer\",\"Data Engineer\",\"Data Engineer\",\"Data Engineer\",\"Data Engineer\",\"Data Engineer\",\"Data Engineer\",\"Data Engineer\",\"Data Engineer\",\"Data Engineer\",\"Data Engineer\",\"Data Engineer\",\"Data Engineer\",\"Data Engineer\",\"Data Engineer\",\"Data Engineer\",\"Data Engineer\",\"Data Engineer\",\"Data Engineer\",\"Data Engineer\",\"Data Engineer\",\"Data Engineer\",\"Data Engineer\",\"Data Engineer\",\"Data Engineer\",\"Data Engineer\",\"Data Engineer\",\"Data Engineer\",\"Data Engineer\",\"Data Engineer\",\"Data Engineer\",\"Data Engineer\",\"Data Engineer\",\"Data Engineer\",\"Data Engineer\",\"Data Engineer\",\"Data Engineer\",\"Data Engineer\",\"Data Engineer\",\"Data Engineer\",\"Data Engineer\",\"Data Engineer\",\"Data Engineer\",\"Data Engineer\",\"Data Engineer\",\"Data Engineer\",\"Data Engineer\",\"Data Engineer\",\"Data Engineer\",\"Data Engineer\",\"Data Engineer\",\"Data Engineer\",\"Data Engineer\",\"Data Engineer\",\"Data Engineer\",\"Data Engineer\",\"Data Engineer\",\"Data Engineer\",\"Data Engineer\",\"Data Engineer\",\"Data Engineer\",\"Data Engineer\",\"Data Engineer\",\"Data Engineer\",\"Data Engineer\",\"Data Engineer\",\"Data Engineer\",\"Data Engineer\",\"Data Engineer\",\"Data Engineer\",\"Data Engineer\",\"Data Engineer\",\"Data Engineer\",\"Data Engineer\",\"Data Engineer\",\"Data Engineer\",\"Data Engineer\",\"Data Engineer\",\"Data Engineer\",\"Data Engineer\",\"Data Engineer\",\"Data Engineer\",\"Data Engineer\",\"Data Engineer\",\"Data Engineer\",\"Data Engineer\",\"Data Engineer\",\"Data Engineer\",\"Data Engineer\",\"Data Engineer\",\"Data Engineer\",\"Data Engineer\",\"Data Engineer\",\"Data Engineer\",\"Data Engineer\",\"Data Engineer\",\"Data Engineer\",\"Data Engineer\",\"Data Engineer\",\"Data Engineer\",\"Data Engineer\",\"Data Engineer\",\"Data Engineer\",\"Data Engineer\",\"Data Engineer\",\"Data Engineer\",\"Data Engineer\",\"Data Engineer\",\"Data Engineer\",\"Data Engineer\",\"Data Engineer\",\"Data Engineer\",\"Data Engineer\",\"Data Engineer\",\"Data Engineer\",\"Data Engineer\",\"Data Engineer\",\"Data Engineer\",\"Data Engineer\",\"Data Engineer\",\"Data Engineer\",\"Data Engineer\",\"Data Engineer\",\"Data Engineer\",\"Data Engineer\",\"Data Engineer\",\"Data Engineer\",\"Data Engineer\",\"Data Engineer\",\"Data Engineer\",\"Data Engineer\",\"Data Engineer\",\"Data Engineer\",\"Data Engineer\",\"Data Engineer\",\"Data Engineer\",\"Data Engineer\",\"Data Engineer\",\"Data Engineer\",\"Data Engineer\",\"Data Engineer\",\"Data Engineer\",\"Data Engineer\",\"Data Engineer\",\"Data Engineer\",\"Data Engineer\",\"Data Engineer\",\"Data Engineer\",\"Data Engineer\",\"Data Engineer\",\"Data Engineer\",\"Data Engineer\",\"Data Engineer\",\"Data Engineer\",\"Data Engineer\",\"Data Engineer\",\"Data Engineer\",\"Data Engineer\",\"Data Engineer\",\"Data Engineer\",\"Data Engineer\",\"Data Engineer\",\"Data Engineer\",\"Data Engineer\",\"Data Engineer\",\"Data Engineer\",\"Data Engineer\",\"Data Engineer\",\"Data Engineer\",\"Data Engineer\",\"Data Engineer\",\"Data Engineer\",\"Data Engineer\",\"Data Engineer\",\"Data Engineer\",\"Data Engineer\",\"Data Engineer\",\"Data Engineer\",\"Data Engineer\",\"Data Engineer\",\"Data Engineer\",\"Data Engineer\",\"Data Engineer\",\"Data Engineer\",\"Data Engineer\",\"Data Engineer\",\"Data Engineer\",\"Data Engineer\",\"Data Engineer\",\"Data Engineer\",\"Data Engineer\",\"Data Engineer\",\"Data Engineer\",\"Data Engineer\",\"Data Engineer\",\"Data Engineer\",\"Data Engineer\",\"Data Engineer\",\"Data Engineer\",\"Data Engineer\",\"Data Engineer\",\"Data Engineer\",\"Data Engineer\",\"Data Engineer\",\"Data Engineer\",\"Data Engineer\",\"Data Engineer\",\"Data Engineer\",\"Data Engineer\",\"Data Engineer\",\"Data Engineer\",\"Data Engineer\",\"Data Engineer\",\"Data Engineer\",\"Data Engineer\"],\"x0\":\" \",\"xaxis\":\"x\",\"y\":[28336.0,35000.0,42500.0,57500.0,27500.0,32500.0,47500.0,37500.0,55000.0,55000.0,37500.0,55000.0,27000.0,45000.0,57500.0,35000.0,55000.0,35000.0,40000.0,45000.0,33500.0,50000.0,29000.0,46000.0,27500.0,37500.0,52500.0,37500.0,52000.0,60000.0,40000.0,30000.0,47500.0,40000.0,38500.0,45000.0,57500.0,35000.0,43000.0,26000.0,25000.0,37500.0,50000.0,50000.0,40000.0,55000.0,26000.0,32500.0,39000.0,39000.0,39000.0,39000.0,32500.0,60000.0,37500.0,30000.0,35500.0,50000.0,35000.0,22000.0,26500.0,28000.0,42500.0,39500.0,62500.0,42500.0,35000.0,65000.0,39000.0,39000.0,39000.0,35000.0,40000.0,40000.5,35851.5,40000.0,52500.0,22500.0,37500.0,27945.5,34500.0,23000.0,50000.0,53000.0,40000.0,47500.0,41500.0,60000.0,45000.0,42500.0,36250.0,28000.0,65000.0,35000.0,42500.0,31500.0,35000.0,60000.0,40000.0,27500.0,50000.0,37500.0,45000.0,40000.0,27500.0,40000.0,26500.0,50000.0,33000.0,27000.0,39000.0,39000.0,39000.0,42500.0,22500.0,32500.0,47500.0,26629.5,60000.0,51000.0,37500.0,32000.0,42500.0,25000.0,55000.0,50000.0,34220.0,40000.0,25000.0,65000.0,45000.0,45000.0,62500.0,42500.0,67500.0,50000.0,60000.0,65000.0,57500.0,40000.0,70000.0,70000.0,37500.0,32500.0,35000.0,20000.0,45000.0,29377.0,60000.0,60000.0,35500.0,40000.0,49000.0,32500.0,62500.0,80000.0,55000.0,50000.0,47500.0,50000.0,30000.0,27600.0,55000.0,40000.0,34248.0,29500.0,52500.0,29000.0,35000.0,37000.0,24912.0,24500.0,26000.0,26000.0,37500.0,45000.0,55000.0,60000.0,38500.0,35500.0,35500.0,26500.0,45500.0,67500.0,27000.0,32000.0,29000.0,52500.0,20000.0,37500.0,40000.0,16000.0,47500.0,55000.0,45000.0,100000.0,47500.0,62500.0,67500.0,50000.0,50000.0,25000.0,70500.0,62500.0,23000.0,33500.0,40000.0,62500.0,50000.0,40000.0,30000.0,27500.0,45000.0,50000.0,49000.0,50000.0,50000.0,50000.0,49000.0,55000.0,43000.5,45000.0,45000.0,25000.0,16000.0,15000.0,26750.0,50000.0,26500.0,55000.0,47500.0,51500.0,27684.0,67500.0,26000.0,19000.0,24750.0,40000.0,26000.0,32500.0,26000.0,26000.0,50000.0,60000.0,40000.0,23500.0,25000.0,45000.0,38214.0,31250.0,33500.0,45000.0,55000.0,42500.0,77500.0,55000.0,35000.0,45000.0,37500.0,42000.0,40000.0,28500.0,75000.0,30000.0,30000.0,55000.0,31500.0,24000.0,38500.0,40000.0,35000.0,35000.0,60000.0,42500.0,40000.0,35000.0,32500.0,55000.0,50000.0,42500.0,32500.0,47500.0,21500.0,40000.0,47500.0,47500.0,22000.0,22000.0,37147.0,23500.0,15000.0,52500.0,21500.0,39896.0,28000.0,47500.0,43500.0,23000.0,24500.0,35000.0,26000.0,21220.0,18500.0,70000.0,60000.0,31837.0,35500.0,38000.0,23000.0,35000.0,47500.0,47500.0,17000.0,40000.0,60000.0,46500.0,57500.0,40000.0,27000.0,65000.0,40000.0,37000.0,50000.0,27250.0,25000.0,40000.0,46500.0,67500.0,40000.0,44000.0,37500.0,45000.0,27945.5,32500.0,32500.0,65000.0,22500.0,43500.0,23000.0,45000.0,51500.0,67500.0,67500.0,80000.0,32500.0,29500.0,62500.0,67500.0,67500.0,60000.0,67500.0,55000.0,27250.0,42500.0,60000.0,28000.0,38000.0,30500.0,19562.0,31500.0,31500.0,45000.0,38000.0,55000.0,78000.0,51500.0,51500.0,42500.0,47500.0,37500.0,42500.0,27750.0,39000.0,16500.0,20000.0,27500.0,37500.0,55000.0,60000.0,60000.0,60000.0,60000.0,60000.0,75000.0,55000.0,70500.0,60000.0,60000.0,60000.0,60000.0,60000.0,60000.0,37500.0,55000.0,75000.0,27000.0,55000.0,60000.0,60000.0,60000.0,60000.0,42500.0,38000.0,40000.0,77500.0,80000.0,47500.0,75000.0,60000.0,100000.0,77500.0,50000.0,32500.0,35000.0,60000.0,54000.0,50000.0,32500.0,32500.0,50000.0,35000.0,34000.0,46500.0,57500.0,38000.0,50000.0,45000.0,31931.0,55000.0,77500.0,32500.0,32500.0,35906.5,30500.0,27055.0,47500.0,65000.0,45000.0,55000.0,55000.0,82500.0,62500.0,65000.0,45000.0,62500.0,23000.0,42500.0,67500.0,110000.0,50000.0,75000.0,60000.0,60000.0,60000.0,60000.0,60000.0,60000.0,60000.0,55000.0,60000.0,40000.0,67500.0,85000.0,65000.0,75000.0,75000.0,67191.0,75000.0,75000.0,75000.0,57500.0,70000.0,112500.0,85000.0,57500.0,51000.0,82500.0,85000.0,52500.0,65000.0,70000.0,85000.0,85000.0,85000.0,60000.0,42500.0,42500.0,42500.0,70000.0,50000.0,62500.0,62500.0,55000.0,42500.0,62500.0,60000.0,60000.0,65000.0,65000.0,50000.0,50000.0,55000.0,60000.0,53500.0,35000.0,50000.0,35000.0,90000.0,75000.0,72500.0,52500.0,45000.0,45000.0,45000.0,37500.0,42500.0,77500.0,80000.0,60000.0,60000.0,85000.0,90000.0,50000.0,50000.0,55000.0,75000.0,50000.0,72500.0,27500.5,60000.0,60000.0,60000.0,60000.0,65000.0,50000.0,67500.0,28500.0,100000.0,57500.0,60000.0,74000.0,60000.5,48500.0,57500.0,37500.5,60000.0,77500.0,65000.0,47500.0,57500.0,55000.0,80000.0,57500.0,85000.0,60000.0,60000.0,65000.0,75000.0,48500.0,40000.0,50000.0,60000.0,80000.0,36500.0,52500.0,42500.0,80000.0,75000.0,45000.0,32500.0,42500.0,55000.0,65000.0,42500.0,42500.0,42500.0,75000.0,110000.0,47500.0,105000.0,45000.0,70000.0,62500.0,60000.0,70000.0,60000.0,70000.0,92500.0,44000.0,95000.0,31500.0,72500.0,70000.0,85000.0,92500.0,80000.0,65000.0,90000.0,72500.0,85000.0,85000.0,32500.0,95000.0,95000.0,100000.0,67500.0,95000.0,80000.0,52500.0,61000.0,62500.0,95000.0,95000.0,75000.0,77500.0,85000.0,60500.0,70000.0,87500.0,85000.0,75000.0,80500.0,87500.0,70000.0,65000.0,65000.0,70000.0,42500.0,82500.0,87500.0,38000.0,110000.0,82500.0,55000.0,80000.0,57500.0,40000.5,40000.5,50000.0,32500.0,82500.0,77500.0,52500.0,55000.0,70000.0,120000.0,67500.0,60000.0,77500.0,82500.0,55000.0,70000.0,70000.0,80000.0,90000.0,55000.0,77500.0,87500.0,25000.0,25000.0,65000.0,67500.0,70000.0,92500.0,60000.0,65000.0,55000.0,55000.0,42500.0,48750.0,65000.0,70000.0,52500.0,65000.0,55000.0,55000.0,55000.0,55000.0,55000.0,44000.0,70000.0,60000.0,58000.0,47500.0,70000.0,67500.0,65000.0,52500.0,52500.0,52500.0,52500.0,52500.0,70000.0,67500.0,55000.0,52500.0,60000.0,75000.0,67500.0,67500.0,50000.0,70000.0,55000.0,75000.0,40000.0,77500.0,45000.0,42500.0,77500.0,50000.0,75000.0,50000.0,42500.0,45000.0,42500.0,105000.0,45000.0,50000.0,45000.0,47500.0,45000.0,43000.0,37500.0,52500.0,50500.0,65000.0,65000.0,42500.0,75000.0,50000.0,50000.0,70000.0,40000.0,46549.0,50000.0,92500.0,45000.0,40000.0,75000.0,80000.0,47500.0,30000.0,57500.0,46000.0,46000.0,55000.0,55000.0,65000.0,45000.0,42500.0,57500.0,72500.0,80000.0,50000.0,65000.0,85000.0,90000.0,80000.0,95000.0,85000.0,70000.0,65500.0,105000.0,75000.0,90000.0,55000.0,105000.0,82500.0,92500.0,92500.0,85000.0,75000.0,80000.0,85000.0,27000.0,80000.0,72500.0,57500.0,85000.0,85000.0,60000.0,60000.0,97500.0,65000.0,60000.0,62500.0,80000.0,50000.0,80000.0,45000.0,41000.0,50500.0,66500.0,102500.0,62500.0,75000.0,75000.0,59487.0,77500.0,90000.0,45000.0,85000.0,75000.0,75000.0,67500.0,47500.0,90000.0,77500.0,70000.0,72500.0,70000.0,70000.0,82500.0,60000.0,55000.0,60000.0,67500.0,90000.0,57500.0,65000.0,65000.0,42500.0,110000.0,43000.0,85000.0,30000.0,95000.0,77500.0,75000.0,92500.0,75000.0,90000.0,70000.0,41000.0,65000.0,90000.0,77500.0,75000.0,50000.0,70000.0,67500.0,75000.0,70000.0,90000.0,47500.0,35000.0,48500.0,51500.0,80000.0,95000.0,65000.0,50000.0,83000.0,70000.0,60000.0,40000.0,88000.0,75000.0,60000.0,60000.0,102500.0,60000.0,77500.0,90000.0,79000.0,80000.0,80000.0,67500.0,60000.0,102500.0,92500.0,85000.0,45500.0,85000.0,57500.0,67500.0,67500.0,25000.0,30500.0,75000.0,47000.0,60000.0,65000.0,50000.0,40000.0,65000.0,40000.0,80000.0,87500.0,62500.0,47500.0,27500.0,22000.0,74000.0,29000.0,55000.0,29000.0,45000.0,29000.0,29000.0,85000.0,80000.0,43977.5,55000.0,52500.0,42500.0,110000.0,33320.0,95000.0,92500.0,80000.0,72000.0,55000.0,75000.0,72500.0,75000.0,60000.0,80000.0,52500.0,63000.0,47500.0,70000.0,87500.0,50000.0,47000.0,22500.0,60000.0,60000.0,47500.0,77500.0,65000.0,65000.0,52500.0,87500.0,65000.0,75000.0,50000.0,90000.0,112500.0,40000.0,110000.0,112500.0,75000.0,65000.0,70000.0,65000.0,85000.0,50000.0,47500.0,105000.0,55000.0,47500.0,42500.0,85000.0,92500.0,50000.0,55000.0,80000.0,90000.0,52500.0,62500.0,50000.0,45000.0,50000.0,90000.0,26000.0,26000.0,85000.0,47500.0,42500.0,35000.0,45000.0,75000.0,50000.0,45000.0,95000.0,72500.0,60000.0,55000.0,50000.0,55000.0,50000.0,50000.0,50000.0,62500.0,75000.0,37500.0,90000.0,80975.0,62500.0,74000.0,74000.0,74000.0,70000.0,85000.0,85000.0,75000.0,107500.0,62500.0,132500.0,100000.0,90000.0,90000.0,110000.0,87500.0,87500.0,87500.0,87500.0,70000.0,70000.0,70000.0,100000.0,110000.0,112500.0,150000.0],\"y0\":\" \",\"yaxis\":\"y\",\"type\":\"box\"}],                        {\"template\":{\"data\":{\"histogram2dcontour\":[{\"type\":\"histogram2dcontour\",\"colorbar\":{\"outlinewidth\":0,\"ticks\":\"\"},\"colorscale\":[[0.0,\"#0d0887\"],[0.1111111111111111,\"#46039f\"],[0.2222222222222222,\"#7201a8\"],[0.3333333333333333,\"#9c179e\"],[0.4444444444444444,\"#bd3786\"],[0.5555555555555556,\"#d8576b\"],[0.6666666666666666,\"#ed7953\"],[0.7777777777777778,\"#fb9f3a\"],[0.8888888888888888,\"#fdca26\"],[1.0,\"#f0f921\"]]}],\"choropleth\":[{\"type\":\"choropleth\",\"colorbar\":{\"outlinewidth\":0,\"ticks\":\"\"}}],\"histogram2d\":[{\"type\":\"histogram2d\",\"colorbar\":{\"outlinewidth\":0,\"ticks\":\"\"},\"colorscale\":[[0.0,\"#0d0887\"],[0.1111111111111111,\"#46039f\"],[0.2222222222222222,\"#7201a8\"],[0.3333333333333333,\"#9c179e\"],[0.4444444444444444,\"#bd3786\"],[0.5555555555555556,\"#d8576b\"],[0.6666666666666666,\"#ed7953\"],[0.7777777777777778,\"#fb9f3a\"],[0.8888888888888888,\"#fdca26\"],[1.0,\"#f0f921\"]]}],\"heatmap\":[{\"type\":\"heatmap\",\"colorbar\":{\"outlinewidth\":0,\"ticks\":\"\"},\"colorscale\":[[0.0,\"#0d0887\"],[0.1111111111111111,\"#46039f\"],[0.2222222222222222,\"#7201a8\"],[0.3333333333333333,\"#9c179e\"],[0.4444444444444444,\"#bd3786\"],[0.5555555555555556,\"#d8576b\"],[0.6666666666666666,\"#ed7953\"],[0.7777777777777778,\"#fb9f3a\"],[0.8888888888888888,\"#fdca26\"],[1.0,\"#f0f921\"]]}],\"heatmapgl\":[{\"type\":\"heatmapgl\",\"colorbar\":{\"outlinewidth\":0,\"ticks\":\"\"},\"colorscale\":[[0.0,\"#0d0887\"],[0.1111111111111111,\"#46039f\"],[0.2222222222222222,\"#7201a8\"],[0.3333333333333333,\"#9c179e\"],[0.4444444444444444,\"#bd3786\"],[0.5555555555555556,\"#d8576b\"],[0.6666666666666666,\"#ed7953\"],[0.7777777777777778,\"#fb9f3a\"],[0.8888888888888888,\"#fdca26\"],[1.0,\"#f0f921\"]]}],\"contourcarpet\":[{\"type\":\"contourcarpet\",\"colorbar\":{\"outlinewidth\":0,\"ticks\":\"\"}}],\"contour\":[{\"type\":\"contour\",\"colorbar\":{\"outlinewidth\":0,\"ticks\":\"\"},\"colorscale\":[[0.0,\"#0d0887\"],[0.1111111111111111,\"#46039f\"],[0.2222222222222222,\"#7201a8\"],[0.3333333333333333,\"#9c179e\"],[0.4444444444444444,\"#bd3786\"],[0.5555555555555556,\"#d8576b\"],[0.6666666666666666,\"#ed7953\"],[0.7777777777777778,\"#fb9f3a\"],[0.8888888888888888,\"#fdca26\"],[1.0,\"#f0f921\"]]}],\"surface\":[{\"type\":\"surface\",\"colorbar\":{\"outlinewidth\":0,\"ticks\":\"\"},\"colorscale\":[[0.0,\"#0d0887\"],[0.1111111111111111,\"#46039f\"],[0.2222222222222222,\"#7201a8\"],[0.3333333333333333,\"#9c179e\"],[0.4444444444444444,\"#bd3786\"],[0.5555555555555556,\"#d8576b\"],[0.6666666666666666,\"#ed7953\"],[0.7777777777777778,\"#fb9f3a\"],[0.8888888888888888,\"#fdca26\"],[1.0,\"#f0f921\"]]}],\"mesh3d\":[{\"type\":\"mesh3d\",\"colorbar\":{\"outlinewidth\":0,\"ticks\":\"\"}}],\"scatter\":[{\"fillpattern\":{\"fillmode\":\"overlay\",\"size\":10,\"solidity\":0.2},\"type\":\"scatter\"}],\"parcoords\":[{\"type\":\"parcoords\",\"line\":{\"colorbar\":{\"outlinewidth\":0,\"ticks\":\"\"}}}],\"scatterpolargl\":[{\"type\":\"scatterpolargl\",\"marker\":{\"colorbar\":{\"outlinewidth\":0,\"ticks\":\"\"}}}],\"bar\":[{\"error_x\":{\"color\":\"#2a3f5f\"},\"error_y\":{\"color\":\"#2a3f5f\"},\"marker\":{\"line\":{\"color\":\"#E5ECF6\",\"width\":0.5},\"pattern\":{\"fillmode\":\"overlay\",\"size\":10,\"solidity\":0.2}},\"type\":\"bar\"}],\"scattergeo\":[{\"type\":\"scattergeo\",\"marker\":{\"colorbar\":{\"outlinewidth\":0,\"ticks\":\"\"}}}],\"scatterpolar\":[{\"type\":\"scatterpolar\",\"marker\":{\"colorbar\":{\"outlinewidth\":0,\"ticks\":\"\"}}}],\"histogram\":[{\"marker\":{\"pattern\":{\"fillmode\":\"overlay\",\"size\":10,\"solidity\":0.2}},\"type\":\"histogram\"}],\"scattergl\":[{\"type\":\"scattergl\",\"marker\":{\"colorbar\":{\"outlinewidth\":0,\"ticks\":\"\"}}}],\"scatter3d\":[{\"type\":\"scatter3d\",\"line\":{\"colorbar\":{\"outlinewidth\":0,\"ticks\":\"\"}},\"marker\":{\"colorbar\":{\"outlinewidth\":0,\"ticks\":\"\"}}}],\"scattermapbox\":[{\"type\":\"scattermapbox\",\"marker\":{\"colorbar\":{\"outlinewidth\":0,\"ticks\":\"\"}}}],\"scatterternary\":[{\"type\":\"scatterternary\",\"marker\":{\"colorbar\":{\"outlinewidth\":0,\"ticks\":\"\"}}}],\"scattercarpet\":[{\"type\":\"scattercarpet\",\"marker\":{\"colorbar\":{\"outlinewidth\":0,\"ticks\":\"\"}}}],\"carpet\":[{\"aaxis\":{\"endlinecolor\":\"#2a3f5f\",\"gridcolor\":\"white\",\"linecolor\":\"white\",\"minorgridcolor\":\"white\",\"startlinecolor\":\"#2a3f5f\"},\"baxis\":{\"endlinecolor\":\"#2a3f5f\",\"gridcolor\":\"white\",\"linecolor\":\"white\",\"minorgridcolor\":\"white\",\"startlinecolor\":\"#2a3f5f\"},\"type\":\"carpet\"}],\"table\":[{\"cells\":{\"fill\":{\"color\":\"#EBF0F8\"},\"line\":{\"color\":\"white\"}},\"header\":{\"fill\":{\"color\":\"#C8D4E3\"},\"line\":{\"color\":\"white\"}},\"type\":\"table\"}],\"barpolar\":[{\"marker\":{\"line\":{\"color\":\"#E5ECF6\",\"width\":0.5},\"pattern\":{\"fillmode\":\"overlay\",\"size\":10,\"solidity\":0.2}},\"type\":\"barpolar\"}],\"pie\":[{\"automargin\":true,\"type\":\"pie\"}]},\"layout\":{\"autotypenumbers\":\"strict\",\"colorway\":[\"#636efa\",\"#EF553B\",\"#00cc96\",\"#ab63fa\",\"#FFA15A\",\"#19d3f3\",\"#FF6692\",\"#B6E880\",\"#FF97FF\",\"#FECB52\"],\"font\":{\"color\":\"#2a3f5f\"},\"hovermode\":\"closest\",\"hoverlabel\":{\"align\":\"left\"},\"paper_bgcolor\":\"white\",\"plot_bgcolor\":\"#E5ECF6\",\"polar\":{\"bgcolor\":\"#E5ECF6\",\"angularaxis\":{\"gridcolor\":\"white\",\"linecolor\":\"white\",\"ticks\":\"\"},\"radialaxis\":{\"gridcolor\":\"white\",\"linecolor\":\"white\",\"ticks\":\"\"}},\"ternary\":{\"bgcolor\":\"#E5ECF6\",\"aaxis\":{\"gridcolor\":\"white\",\"linecolor\":\"white\",\"ticks\":\"\"},\"baxis\":{\"gridcolor\":\"white\",\"linecolor\":\"white\",\"ticks\":\"\"},\"caxis\":{\"gridcolor\":\"white\",\"linecolor\":\"white\",\"ticks\":\"\"}},\"coloraxis\":{\"colorbar\":{\"outlinewidth\":0,\"ticks\":\"\"}},\"colorscale\":{\"sequential\":[[0.0,\"#0d0887\"],[0.1111111111111111,\"#46039f\"],[0.2222222222222222,\"#7201a8\"],[0.3333333333333333,\"#9c179e\"],[0.4444444444444444,\"#bd3786\"],[0.5555555555555556,\"#d8576b\"],[0.6666666666666666,\"#ed7953\"],[0.7777777777777778,\"#fb9f3a\"],[0.8888888888888888,\"#fdca26\"],[1.0,\"#f0f921\"]],\"sequentialminus\":[[0.0,\"#0d0887\"],[0.1111111111111111,\"#46039f\"],[0.2222222222222222,\"#7201a8\"],[0.3333333333333333,\"#9c179e\"],[0.4444444444444444,\"#bd3786\"],[0.5555555555555556,\"#d8576b\"],[0.6666666666666666,\"#ed7953\"],[0.7777777777777778,\"#fb9f3a\"],[0.8888888888888888,\"#fdca26\"],[1.0,\"#f0f921\"]],\"diverging\":[[0,\"#8e0152\"],[0.1,\"#c51b7d\"],[0.2,\"#de77ae\"],[0.3,\"#f1b6da\"],[0.4,\"#fde0ef\"],[0.5,\"#f7f7f7\"],[0.6,\"#e6f5d0\"],[0.7,\"#b8e186\"],[0.8,\"#7fbc41\"],[0.9,\"#4d9221\"],[1,\"#276419\"]]},\"xaxis\":{\"gridcolor\":\"white\",\"linecolor\":\"white\",\"ticks\":\"\",\"title\":{\"standoff\":15},\"zerolinecolor\":\"white\",\"automargin\":true,\"zerolinewidth\":2},\"yaxis\":{\"gridcolor\":\"white\",\"linecolor\":\"white\",\"ticks\":\"\",\"title\":{\"standoff\":15},\"zerolinecolor\":\"white\",\"automargin\":true,\"zerolinewidth\":2},\"scene\":{\"xaxis\":{\"backgroundcolor\":\"#E5ECF6\",\"gridcolor\":\"white\",\"linecolor\":\"white\",\"showbackground\":true,\"ticks\":\"\",\"zerolinecolor\":\"white\",\"gridwidth\":2},\"yaxis\":{\"backgroundcolor\":\"#E5ECF6\",\"gridcolor\":\"white\",\"linecolor\":\"white\",\"showbackground\":true,\"ticks\":\"\",\"zerolinecolor\":\"white\",\"gridwidth\":2},\"zaxis\":{\"backgroundcolor\":\"#E5ECF6\",\"gridcolor\":\"white\",\"linecolor\":\"white\",\"showbackground\":true,\"ticks\":\"\",\"zerolinecolor\":\"white\",\"gridwidth\":2}},\"shapedefaults\":{\"line\":{\"color\":\"#2a3f5f\"}},\"annotationdefaults\":{\"arrowcolor\":\"#2a3f5f\",\"arrowhead\":0,\"arrowwidth\":1},\"geo\":{\"bgcolor\":\"white\",\"landcolor\":\"#E5ECF6\",\"subunitcolor\":\"white\",\"showland\":true,\"showlakes\":true,\"lakecolor\":\"white\"},\"title\":{\"x\":0.05},\"mapbox\":{\"style\":\"light\"}}},\"xaxis\":{\"anchor\":\"y\",\"domain\":[0.0,1.0],\"title\":{\"text\":\"Job\"}},\"yaxis\":{\"anchor\":\"x\",\"domain\":[0.0,1.0],\"title\":{\"text\":\"Salary (\\u00a3)\"}},\"legend\":{\"tracegroupgap\":0},\"margin\":{\"t\":60},\"boxmode\":\"group\"},                        {\"responsive\": true}                    ).then(function(){\n",
       "                            \n",
       "var gd = document.getElementById('4e903c23-485a-44db-9d9d-a9f7defde79f');\n",
       "var x = new MutationObserver(function (mutations, observer) {{\n",
       "        var display = window.getComputedStyle(gd).display;\n",
       "        if (!display || display === 'none') {{\n",
       "            console.log([gd, 'removed!']);\n",
       "            Plotly.purge(gd);\n",
       "            observer.disconnect();\n",
       "        }}\n",
       "}});\n",
       "\n",
       "// Listen for the removal of the full notebook cells\n",
       "var notebookContainer = gd.closest('#notebook-container');\n",
       "if (notebookContainer) {{\n",
       "    x.observe(notebookContainer, {childList: true});\n",
       "}}\n",
       "\n",
       "// Listen for the clearing of the current output cell\n",
       "var outputEl = gd.closest('.output');\n",
       "if (outputEl) {{\n",
       "    x.observe(outputEl, {childList: true});\n",
       "}}\n",
       "\n",
       "                        })                };                });            </script>        </div>"
      ]
     },
     "metadata": {},
     "output_type": "display_data"
    }
   ],
   "source": [
    "visualiser.create_salary_box_plots(min_salary = 12000, max_salary = 160000)"
   ]
  },
  {
   "cell_type": "code",
   "execution_count": 82,
   "id": "dab3e81e",
   "metadata": {},
   "outputs": [
    {
     "data": {
      "image/png": "[encoded data removed]",
      "text/plain": [
       "<Figure size 1296x1080 with 3 Axes>"
      ]
     },
     "metadata": {
      "needs_background": "light"
     },
     "output_type": "display_data"
    }
   ],
   "source": [
    "visualiser.plot_skills_bar_chart()"
   ]
  },
  {
   "cell_type": "code",
   "execution_count": 85,
   "id": "cf7c90ab",
   "metadata": {},
   "outputs": [],
   "source": [
    "visualiser.bar_plt.savefig(r'skills_plot.pdf')"
   ]
  },
  {
   "cell_type": "code",
   "execution_count": 309,
   "id": "10727d74",
   "metadata": {},
   "outputs": [
    {
     "name": "stdout",
     "output_type": "stream",
     "text": [
      "total number of jobs on map:\n",
      "Data Engineer     378\n",
      "Data Analyst      357\n",
      "Data Scientist    121\n",
      "Name: jobs_to_consider, dtype: int64\n"
     ]
    },
    {
     "data": {
      "application/vnd.plotly.v1+json": {
       "config": {
        "plotlyServerURL": "https://plot.ly"
       },
       "data": [
        {
         "customdata": [
          [
           4
          ],
          [
           1
          ],
          [
           1
          ],
          [
           1
          ],
          [
           1
          ],
          [
           3
          ],
          [
           1
          ],
          [
           2
          ],
          [
           2
          ],
          [
           34
          ],
          [
           2
          ],
          [
           1
          ],
          [
           1
          ],
          [
           1
          ],
          [
           23
          ],
          [
           2
          ],
          [
           1
          ],
          [
           1
          ],
          [
           1
          ],
          [
           2
          ],
          [
           3
          ],
          [
           2
          ],
          [
           3
          ],
          [
           1
          ],
          [
           10
          ],
          [
           1
          ],
          [
           3
          ],
          [
           1
          ],
          [
           4
          ],
          [
           1
          ],
          [
           3
          ],
          [
           1
          ],
          [
           1
          ],
          [
           11
          ],
          [
           1
          ],
          [
           1
          ],
          [
           2
          ],
          [
           1
          ],
          [
           1
          ],
          [
           2
          ],
          [
           2
          ],
          [
           1
          ],
          [
           3
          ],
          [
           2
          ],
          [
           1
          ],
          [
           2
          ],
          [
           2
          ],
          [
           2
          ],
          [
           1
          ],
          [
           1
          ],
          [
           1
          ],
          [
           1
          ],
          [
           1
          ],
          [
           3
          ],
          [
           1
          ],
          [
           1
          ],
          [
           1
          ],
          [
           1
          ],
          [
           9
          ],
          [
           1
          ],
          [
           1
          ],
          [
           29
          ],
          [
           3
          ],
          [
           1
          ],
          [
           5
          ],
          [
           1
          ],
          [
           447
          ],
          [
           3
          ],
          [
           3
          ],
          [
           2
          ],
          [
           56
          ],
          [
           2
          ],
          [
           13
          ],
          [
           1
          ],
          [
           9
          ],
          [
           2
          ],
          [
           2
          ],
          [
           4
          ],
          [
           1
          ],
          [
           5
          ],
          [
           1
          ],
          [
           1
          ],
          [
           4
          ],
          [
           10
          ],
          [
           1
          ],
          [
           2
          ],
          [
           6
          ],
          [
           2
          ],
          [
           2
          ],
          [
           1
          ],
          [
           1
          ],
          [
           1
          ],
          [
           1
          ],
          [
           2
          ],
          [
           1
          ],
          [
           8
          ],
          [
           1
          ],
          [
           1
          ],
          [
           3
          ],
          [
           7
          ],
          [
           1
          ],
          [
           3
          ],
          [
           4
          ],
          [
           1
          ],
          [
           1
          ],
          [
           1
          ],
          [
           1
          ],
          [
           2
          ],
          [
           1
          ],
          [
           1
          ],
          [
           9
          ],
          [
           1
          ],
          [
           2
          ],
          [
           1
          ],
          [
           1
          ],
          [
           1
          ],
          [
           2
          ],
          [
           1
          ],
          [
           1
          ]
         ],
         "hovertemplate": "<b>%{hovertext}</b><br><br>size=%{marker.size}<br>lat=%{lat}<br>lng=%{lon}<br>number of vacancies=%{customdata[0]}<br>median salary=%{marker.color}<extra></extra>",
         "hovertext": [
          "Aberdeen",
          "Abingdon",
          "Alfreton",
          "Bamber Bridge",
          "Basildon",
          "Basingstoke",
          "Bath",
          "Bedford",
          "Belper",
          "Birmingham",
          "Blackburn",
          "Borehamwood",
          "Bracknell",
          "Brighton",
          "Bristol",
          "Bromley",
          "Bromsgrove",
          "Cannock",
          "Carlisle",
          "Cheadle",
          "Chester",
          "Cirencester",
          "Colchester",
          "Cottenham",
          "Coventry",
          "Cringleford",
          "Croydon",
          "Darlington",
          "Derby",
          "Dudley",
          "Durham",
          "East Horsley",
          "Edgware",
          "Edinburgh",
          "Elstree",
          "Enfield",
          "Epsom",
          "Evesham",
          "Exeter",
          "Fareham",
          "Farnborough",
          "Fulwood",
          "Glasgow",
          "Guildford",
          "Hailsham",
          "Harpenden",
          "Harrogate",
          "Harrow",
          "Hemel Hempstead",
          "Hereford",
          "High Wycombe",
          "Horley",
          "Horsham",
          "Hounslow",
          "Hove",
          "Ilford",
          "Iver",
          "Kettering",
          "Knutsford",
          "Lancaster",
          "Leatherhead",
          "Leeds",
          "Leicester",
          "Lichfield",
          "Liverpool",
          "Llantrisant",
          "London",
          "Luton",
          "Macclesfield",
          "Maidstone",
          "Manchester",
          "Middlesbrough",
          "Milton Keynes",
          "Newbury",
          "Newport",
          "North Shields",
          "Norwich",
          "Nottingham",
          "Nursling",
          "Oxford",
          "Plymouth",
          "Poole",
          "Preston",
          "Reading",
          "Redditch",
          "Redhill",
          "Richmond",
          "Romford",
          "Royston",
          "Rushden",
          "Salford",
          "Sandhurst",
          "Scarborough",
          "Scunthorpe",
          "Sedbergh",
          "Sheffield",
          "Shirebrook",
          "Shoreham-by-Sea",
          "Slough",
          "Southampton",
          "Stafford",
          "Stockport",
          "Stoke-on-Trent",
          "Stratford-upon-Avon",
          "Sunderland",
          "Tewkesbury",
          "Thame",
          "Wakefield",
          "Warrington",
          "Waterlooville",
          "Watford",
          "West Bromwich",
          "Weybridge",
          "Willerby",
          "Windermere",
          "Woking",
          "Wolverhampton",
          "Worcester",
          "York"
         ],
         "lat": [
          57.15,
          51.667,
          53.097,
          53.7281,
          51.5761,
          51.2667,
          51.38,
          52.135,
          53.029,
          52.48,
          54.81,
          51.6578,
          51.416,
          50.8429,
          51.45,
          51.407,
          52.3353,
          52.691,
          54.891,
          53.1891,
          53.19,
          51.719,
          51.8917,
          52.2865,
          52.4081,
          52.6056,
          51.3727,
          54.527,
          52.9167,
          52.508,
          54.7761,
          51.261,
          51.6185,
          55.953,
          51.64,
          51.6522,
          51.336,
          52.092,
          50.7167,
          50.85,
          51.32455,
          53.365,
          55.8609,
          51.2365,
          50.8647,
          51.8175,
          53.9919,
          51.5836,
          51.7526,
          52.0565,
          51.6287,
          51.174,
          51.062,
          51.4668,
          50.8352,
          51.5588,
          51.521,
          52.3931,
          53.3025,
          54.047,
          51.295,
          53.7997,
          52.6333,
          52.6835,
          53.4,
          51.5423,
          51.5072,
          51.8783,
          53.2581,
          51.272,
          53.4794,
          54.5767,
          52.04,
          51.401,
          51.5833,
          55.0097,
          52.63,
          52.95,
          50.9449,
          51.7519,
          50.3714,
          50.7167,
          53.7578,
          51.4542,
          52.3069,
          51.2393,
          52.929500000000004,
          51.5768,
          52.82855,
          52.288,
          53.483,
          51.349,
          54.2773,
          53.5809,
          54.322,
          53.3833,
          53.2048,
          50.834,
          51.51,
          50.9,
          52.8066,
          53.4083,
          53,
          52.1928,
          54.9061,
          51.99,
          51.75,
          53.68,
          53.3917,
          50.88,
          51.655,
          52.519,
          51.362,
          53.7633,
          54.376,
          51.3162,
          52.5833,
          52.192,
          53.9583
         ],
         "legendgroup": "",
         "lon": [
          -2.11,
          -1.283,
          -1.38,
          -2.6606,
          0.4886,
          -1.0876,
          -2.36,
          -0.47,
          -1.475,
          -1.9025,
          -3.0515,
          -0.2723,
          -0.749,
          -0.1313,
          -2.5833,
          0.021,
          -2.0579,
          -2.027,
          -2.944,
          -2.0989,
          -2.89,
          -1.968,
          0.903,
          0.1244,
          -1.5106,
          1.2433,
          -0.1099,
          -1.5526,
          -1.4667,
          -2.089,
          -1.5733,
          -0.433,
          -0.2729,
          -3.189,
          -0.3,
          -0.0808,
          -0.267,
          -1.947,
          -3.5333,
          -1.18,
          -0.33795,
          -1.544,
          -4.2514,
          -0.5703,
          0.2577,
          -0.3524,
          -1.5378,
          -0.3464,
          -0.4692,
          -2.716,
          -0.7482,
          -0.172,
          -0.325,
          -0.375,
          -0.1758,
          0.0855,
          -0.507,
          -0.7229,
          -2.3708,
          -2.801,
          -0.329,
          -1.5492,
          -1.1333,
          -1.8265,
          -2.9833,
          -3.3785,
          -0.1275,
          -0.4147,
          -2.1274,
          0.529,
          -2.2453,
          -1.2355,
          -0.76,
          -1.323,
          -2.3787,
          -1.4448,
          1.297,
          -1.15,
          -1.4727,
          -1.2578,
          -4.1422,
          -1.9833,
          -1.4479499999999998,
          -0.9731,
          -1.9492,
          -0.1726,
          -1.0190000000000001,
          0.1801,
          -0.7351,
          -0.601,
          -2.2931,
          -0.8,
          -0.4017,
          -0.6502,
          -2.526,
          -1.4667,
          -1.2197,
          -0.273,
          -0.59,
          -1.4,
          -2.1171,
          -2.1494,
          -2.1833,
          -1.7064,
          -1.3811,
          -2.16,
          -0.97,
          -1.49,
          -2.5972,
          -1.03,
          -0.3957,
          -1.995,
          -0.453,
          -0.4504,
          -2.907,
          -0.561,
          -2.1333,
          -2.22,
          -1.0803
         ],
         "marker": {
          "color": [
           47500,
           45000,
           27250,
           45500,
           35000,
           27500,
           31500,
           42000,
           29188.5,
           50000,
           40000,
           28000,
           34220,
           57500,
           47500,
           53250,
           27500,
           60000,
           60000,
           38000,
           38000,
           32500,
           35500,
           30500,
           38750,
           27500,
           60000,
           60000,
           47500,
           39896,
           50000,
           65000,
           60000,
           60000,
           37500,
           60000,
           46250,
           30000,
           36500,
           40000,
           72500,
           26750,
           32500,
           49107,
           32500,
           93750,
           49250,
           36500,
           40000,
           70000,
           60000,
           23000,
           55000,
           43000,
           23000,
           60000,
           55000,
           37500,
           45000,
           60000,
           46500,
           50000,
           42500,
           50000,
           42500,
           35000,
           65000,
           52500,
           40000,
           47500,
           56250,
           44750,
           47500,
           75000,
           27945.5,
           34750,
           26500,
           29000,
           59487,
           50000,
           50000,
           60000,
           53274.5,
           53750,
           42500,
           52500,
           60000,
           57500,
           65000,
           27500,
           28500,
           42500,
           60000,
           28250,
           32500,
           40000,
           35000,
           55000,
           52500,
           55000,
           17000,
           39000,
           32500,
           47500,
           60000,
           60000,
           27500,
           34000,
           63000,
           55000,
           40000,
           16500,
           51342,
           40000,
           32500,
           46500,
           22500,
           20000,
           39000
          ],
          "coloraxis": "coloraxis",
          "size": [
           20,
           10,
           10,
           10,
           10,
           17.320508075688775,
           10,
           14.142135623730951,
           14.142135623730951,
           58.309518948453004,
           14.142135623730951,
           10,
           10,
           10,
           47.958315233127195,
           14.142135623730951,
           10,
           10,
           10,
           14.142135623730951,
           17.320508075688775,
           14.142135623730951,
           17.320508075688775,
           10,
           31.622776601683793,
           10,
           17.320508075688775,
           10,
           20,
           10,
           17.320508075688775,
           10,
           10,
           33.166247903554,
           10,
           10,
           14.142135623730951,
           10,
           10,
           14.142135623730951,
           14.142135623730951,
           10,
           17.320508075688775,
           14.142135623730951,
           10,
           14.142135623730951,
           14.142135623730951,
           14.142135623730951,
           10,
           10,
           10,
           10,
           10,
           17.320508075688775,
           10,
           10,
           10,
           10,
           30,
           10,
           10,
           53.85164807134504,
           17.320508075688775,
           10,
           22.360679774997898,
           10,
           211.42374511865975,
           17.320508075688775,
           17.320508075688775,
           14.142135623730951,
           74.83314773547883,
           14.142135623730951,
           36.05551275463989,
           10,
           30,
           14.142135623730951,
           14.142135623730951,
           20,
           10,
           22.360679774997898,
           10,
           10,
           20,
           31.622776601683793,
           10,
           14.142135623730951,
           24.49489742783178,
           14.142135623730951,
           14.142135623730951,
           10,
           10,
           10,
           10,
           14.142135623730951,
           10,
           28.284271247461902,
           10,
           10,
           17.320508075688775,
           26.457513110645905,
           10,
           17.320508075688775,
           20,
           10,
           10,
           10,
           10,
           14.142135623730951,
           10,
           10,
           30,
           10,
           14.142135623730951,
           10,
           10,
           10,
           14.142135623730951,
           10,
           10
          ],
          "sizemode": "area",
          "sizeref": 0.13213984069916235
         },
         "mode": "markers",
         "name": "",
         "showlegend": false,
         "subplot": "mapbox",
         "type": "scattermapbox"
        }
       ],
       "layout": {
        "coloraxis": {
         "colorbar": {
          "title": {
           "text": "median salary"
          }
         },
         "colorscale": [
          [
           0,
           "#0d0887"
          ],
          [
           0.1111111111111111,
           "#46039f"
          ],
          [
           0.2222222222222222,
           "#7201a8"
          ],
          [
           0.3333333333333333,
           "#9c179e"
          ],
          [
           0.4444444444444444,
           "#bd3786"
          ],
          [
           0.5555555555555556,
           "#d8576b"
          ],
          [
           0.6666666666666666,
           "#ed7953"
          ],
          [
           0.7777777777777778,
           "#fb9f3a"
          ],
          [
           0.8888888888888888,
           "#fdca26"
          ],
          [
           1,
           "#f0f921"
          ]
         ]
        },
        "legend": {
         "itemsizing": "constant",
         "tracegroupgap": 0
        },
        "mapbox": {
         "center": {
          "lat": 52.437336134453794,
          "lon": -1.276989915966387
         },
         "domain": {
          "x": [
           0,
           1
          ],
          "y": [
           0,
           1
          ]
         },
         "style": "carto-positron",
         "zoom": 6
        },
        "margin": {
         "b": 0,
         "l": 0,
         "r": 0,
         "t": 0
        },
        "template": {
         "data": {
          "bar": [
           {
            "error_x": {
             "color": "#2a3f5f"
            },
            "error_y": {
             "color": "#2a3f5f"
            },
            "marker": {
             "line": {
              "color": "#E5ECF6",
              "width": 0.5
             },
             "pattern": {
              "fillmode": "overlay",
              "size": 10,
              "solidity": 0.2
             }
            },
            "type": "bar"
           }
          ],
          "barpolar": [
           {
            "marker": {
             "line": {
              "color": "#E5ECF6",
              "width": 0.5
             },
             "pattern": {
              "fillmode": "overlay",
              "size": 10,
              "solidity": 0.2
             }
            },
            "type": "barpolar"
           }
          ],
          "carpet": [
           {
            "aaxis": {
             "endlinecolor": "#2a3f5f",
             "gridcolor": "white",
             "linecolor": "white",
             "minorgridcolor": "white",
             "startlinecolor": "#2a3f5f"
            },
            "baxis": {
             "endlinecolor": "#2a3f5f",
             "gridcolor": "white",
             "linecolor": "white",
             "minorgridcolor": "white",
             "startlinecolor": "#2a3f5f"
            },
            "type": "carpet"
           }
          ],
          "choropleth": [
           {
            "colorbar": {
             "outlinewidth": 0,
             "ticks": ""
            },
            "type": "choropleth"
           }
          ],
          "contour": [
           {
            "colorbar": {
             "outlinewidth": 0,
             "ticks": ""
            },
            "colorscale": [
             [
              0,
              "#0d0887"
             ],
             [
              0.1111111111111111,
              "#46039f"
             ],
             [
              0.2222222222222222,
              "#7201a8"
             ],
             [
              0.3333333333333333,
              "#9c179e"
             ],
             [
              0.4444444444444444,
              "#bd3786"
             ],
             [
              0.5555555555555556,
              "#d8576b"
             ],
             [
              0.6666666666666666,
              "#ed7953"
             ],
             [
              0.7777777777777778,
              "#fb9f3a"
             ],
             [
              0.8888888888888888,
              "#fdca26"
             ],
             [
              1,
              "#f0f921"
             ]
            ],
            "type": "contour"
           }
          ],
          "contourcarpet": [
           {
            "colorbar": {
             "outlinewidth": 0,
             "ticks": ""
            },
            "type": "contourcarpet"
           }
          ],
          "heatmap": [
           {
            "colorbar": {
             "outlinewidth": 0,
             "ticks": ""
            },
            "colorscale": [
             [
              0,
              "#0d0887"
             ],
             [
              0.1111111111111111,
              "#46039f"
             ],
             [
              0.2222222222222222,
              "#7201a8"
             ],
             [
              0.3333333333333333,
              "#9c179e"
             ],
             [
              0.4444444444444444,
              "#bd3786"
             ],
             [
              0.5555555555555556,
              "#d8576b"
             ],
             [
              0.6666666666666666,
              "#ed7953"
             ],
             [
              0.7777777777777778,
              "#fb9f3a"
             ],
             [
              0.8888888888888888,
              "#fdca26"
             ],
             [
              1,
              "#f0f921"
             ]
            ],
            "type": "heatmap"
           }
          ],
          "heatmapgl": [
           {
            "colorbar": {
             "outlinewidth": 0,
             "ticks": ""
            },
            "colorscale": [
             [
              0,
              "#0d0887"
             ],
             [
              0.1111111111111111,
              "#46039f"
             ],
             [
              0.2222222222222222,
              "#7201a8"
             ],
             [
              0.3333333333333333,
              "#9c179e"
             ],
             [
              0.4444444444444444,
              "#bd3786"
             ],
             [
              0.5555555555555556,
              "#d8576b"
             ],
             [
              0.6666666666666666,
              "#ed7953"
             ],
             [
              0.7777777777777778,
              "#fb9f3a"
             ],
             [
              0.8888888888888888,
              "#fdca26"
             ],
             [
              1,
              "#f0f921"
             ]
            ],
            "type": "heatmapgl"
           }
          ],
          "histogram": [
           {
            "marker": {
             "pattern": {
              "fillmode": "overlay",
              "size": 10,
              "solidity": 0.2
             }
            },
            "type": "histogram"
           }
          ],
          "histogram2d": [
           {
            "colorbar": {
             "outlinewidth": 0,
             "ticks": ""
            },
            "colorscale": [
             [
              0,
              "#0d0887"
             ],
             [
              0.1111111111111111,
              "#46039f"
             ],
             [
              0.2222222222222222,
              "#7201a8"
             ],
             [
              0.3333333333333333,
              "#9c179e"
             ],
             [
              0.4444444444444444,
              "#bd3786"
             ],
             [
              0.5555555555555556,
              "#d8576b"
             ],
             [
              0.6666666666666666,
              "#ed7953"
             ],
             [
              0.7777777777777778,
              "#fb9f3a"
             ],
             [
              0.8888888888888888,
              "#fdca26"
             ],
             [
              1,
              "#f0f921"
             ]
            ],
            "type": "histogram2d"
           }
          ],
          "histogram2dcontour": [
           {
            "colorbar": {
             "outlinewidth": 0,
             "ticks": ""
            },
            "colorscale": [
             [
              0,
              "#0d0887"
             ],
             [
              0.1111111111111111,
              "#46039f"
             ],
             [
              0.2222222222222222,
              "#7201a8"
             ],
             [
              0.3333333333333333,
              "#9c179e"
             ],
             [
              0.4444444444444444,
              "#bd3786"
             ],
             [
              0.5555555555555556,
              "#d8576b"
             ],
             [
              0.6666666666666666,
              "#ed7953"
             ],
             [
              0.7777777777777778,
              "#fb9f3a"
             ],
             [
              0.8888888888888888,
              "#fdca26"
             ],
             [
              1,
              "#f0f921"
             ]
            ],
            "type": "histogram2dcontour"
           }
          ],
          "mesh3d": [
           {
            "colorbar": {
             "outlinewidth": 0,
             "ticks": ""
            },
            "type": "mesh3d"
           }
          ],
          "parcoords": [
           {
            "line": {
             "colorbar": {
              "outlinewidth": 0,
              "ticks": ""
             }
            },
            "type": "parcoords"
           }
          ],
          "pie": [
           {
            "automargin": true,
            "type": "pie"
           }
          ],
          "scatter": [
           {
            "fillpattern": {
             "fillmode": "overlay",
             "size": 10,
             "solidity": 0.2
            },
            "type": "scatter"
           }
          ],
          "scatter3d": [
           {
            "line": {
             "colorbar": {
              "outlinewidth": 0,
              "ticks": ""
             }
            },
            "marker": {
             "colorbar": {
              "outlinewidth": 0,
              "ticks": ""
             }
            },
            "type": "scatter3d"
           }
          ],
          "scattercarpet": [
           {
            "marker": {
             "colorbar": {
              "outlinewidth": 0,
              "ticks": ""
             }
            },
            "type": "scattercarpet"
           }
          ],
          "scattergeo": [
           {
            "marker": {
             "colorbar": {
              "outlinewidth": 0,
              "ticks": ""
             }
            },
            "type": "scattergeo"
           }
          ],
          "scattergl": [
           {
            "marker": {
             "colorbar": {
              "outlinewidth": 0,
              "ticks": ""
             }
            },
            "type": "scattergl"
           }
          ],
          "scattermapbox": [
           {
            "marker": {
             "colorbar": {
              "outlinewidth": 0,
              "ticks": ""
             }
            },
            "type": "scattermapbox"
           }
          ],
          "scatterpolar": [
           {
            "marker": {
             "colorbar": {
              "outlinewidth": 0,
              "ticks": ""
             }
            },
            "type": "scatterpolar"
           }
          ],
          "scatterpolargl": [
           {
            "marker": {
             "colorbar": {
              "outlinewidth": 0,
              "ticks": ""
             }
            },
            "type": "scatterpolargl"
           }
          ],
          "scatterternary": [
           {
            "marker": {
             "colorbar": {
              "outlinewidth": 0,
              "ticks": ""
             }
            },
            "type": "scatterternary"
           }
          ],
          "surface": [
           {
            "colorbar": {
             "outlinewidth": 0,
             "ticks": ""
            },
            "colorscale": [
             [
              0,
              "#0d0887"
             ],
             [
              0.1111111111111111,
              "#46039f"
             ],
             [
              0.2222222222222222,
              "#7201a8"
             ],
             [
              0.3333333333333333,
              "#9c179e"
             ],
             [
              0.4444444444444444,
              "#bd3786"
             ],
             [
              0.5555555555555556,
              "#d8576b"
             ],
             [
              0.6666666666666666,
              "#ed7953"
             ],
             [
              0.7777777777777778,
              "#fb9f3a"
             ],
             [
              0.8888888888888888,
              "#fdca26"
             ],
             [
              1,
              "#f0f921"
             ]
            ],
            "type": "surface"
           }
          ],
          "table": [
           {
            "cells": {
             "fill": {
              "color": "#EBF0F8"
             },
             "line": {
              "color": "white"
             }
            },
            "header": {
             "fill": {
              "color": "#C8D4E3"
             },
             "line": {
              "color": "white"
             }
            },
            "type": "table"
           }
          ]
         },
         "layout": {
          "annotationdefaults": {
           "arrowcolor": "#2a3f5f",
           "arrowhead": 0,
           "arrowwidth": 1
          },
          "autotypenumbers": "strict",
          "coloraxis": {
           "colorbar": {
            "outlinewidth": 0,
            "ticks": ""
           }
          },
          "colorscale": {
           "diverging": [
            [
             0,
             "#8e0152"
            ],
            [
             0.1,
             "#c51b7d"
            ],
            [
             0.2,
             "#de77ae"
            ],
            [
             0.3,
             "#f1b6da"
            ],
            [
             0.4,
             "#fde0ef"
            ],
            [
             0.5,
             "#f7f7f7"
            ],
            [
             0.6,
             "#e6f5d0"
            ],
            [
             0.7,
             "#b8e186"
            ],
            [
             0.8,
             "#7fbc41"
            ],
            [
             0.9,
             "#4d9221"
            ],
            [
             1,
             "#276419"
            ]
           ],
           "sequential": [
            [
             0,
             "#0d0887"
            ],
            [
             0.1111111111111111,
             "#46039f"
            ],
            [
             0.2222222222222222,
             "#7201a8"
            ],
            [
             0.3333333333333333,
             "#9c179e"
            ],
            [
             0.4444444444444444,
             "#bd3786"
            ],
            [
             0.5555555555555556,
             "#d8576b"
            ],
            [
             0.6666666666666666,
             "#ed7953"
            ],
            [
             0.7777777777777778,
             "#fb9f3a"
            ],
            [
             0.8888888888888888,
             "#fdca26"
            ],
            [
             1,
             "#f0f921"
            ]
           ],
           "sequentialminus": [
            [
             0,
             "#0d0887"
            ],
            [
             0.1111111111111111,
             "#46039f"
            ],
            [
             0.2222222222222222,
             "#7201a8"
            ],
            [
             0.3333333333333333,
             "#9c179e"
            ],
            [
             0.4444444444444444,
             "#bd3786"
            ],
            [
             0.5555555555555556,
             "#d8576b"
            ],
            [
             0.6666666666666666,
             "#ed7953"
            ],
            [
             0.7777777777777778,
             "#fb9f3a"
            ],
            [
             0.8888888888888888,
             "#fdca26"
            ],
            [
             1,
             "#f0f921"
            ]
           ]
          },
          "colorway": [
           "#636efa",
           "#EF553B",
           "#00cc96",
           "#ab63fa",
           "#FFA15A",
           "#19d3f3",
           "#FF6692",
           "#B6E880",
           "#FF97FF",
           "#FECB52"
          ],
          "font": {
           "color": "#2a3f5f"
          },
          "geo": {
           "bgcolor": "white",
           "lakecolor": "white",
           "landcolor": "#E5ECF6",
           "showlakes": true,
           "showland": true,
           "subunitcolor": "white"
          },
          "hoverlabel": {
           "align": "left"
          },
          "hovermode": "closest",
          "mapbox": {
           "style": "light"
          },
          "paper_bgcolor": "white",
          "plot_bgcolor": "#E5ECF6",
          "polar": {
           "angularaxis": {
            "gridcolor": "white",
            "linecolor": "white",
            "ticks": ""
           },
           "bgcolor": "#E5ECF6",
           "radialaxis": {
            "gridcolor": "white",
            "linecolor": "white",
            "ticks": ""
           }
          },
          "scene": {
           "xaxis": {
            "backgroundcolor": "#E5ECF6",
            "gridcolor": "white",
            "gridwidth": 2,
            "linecolor": "white",
            "showbackground": true,
            "ticks": "",
            "zerolinecolor": "white"
           },
           "yaxis": {
            "backgroundcolor": "#E5ECF6",
            "gridcolor": "white",
            "gridwidth": 2,
            "linecolor": "white",
            "showbackground": true,
            "ticks": "",
            "zerolinecolor": "white"
           },
           "zaxis": {
            "backgroundcolor": "#E5ECF6",
            "gridcolor": "white",
            "gridwidth": 2,
            "linecolor": "white",
            "showbackground": true,
            "ticks": "",
            "zerolinecolor": "white"
           }
          },
          "shapedefaults": {
           "line": {
            "color": "#2a3f5f"
           }
          },
          "ternary": {
           "aaxis": {
            "gridcolor": "white",
            "linecolor": "white",
            "ticks": ""
           },
           "baxis": {
            "gridcolor": "white",
            "linecolor": "white",
            "ticks": ""
           },
           "bgcolor": "#E5ECF6",
           "caxis": {
            "gridcolor": "white",
            "linecolor": "white",
            "ticks": ""
           }
          },
          "title": {
           "x": 0.05
          },
          "xaxis": {
           "automargin": true,
           "gridcolor": "white",
           "linecolor": "white",
           "ticks": "",
           "title": {
            "standoff": 15
           },
           "zerolinecolor": "white",
           "zerolinewidth": 2
          },
          "yaxis": {
           "automargin": true,
           "gridcolor": "white",
           "linecolor": "white",
           "ticks": "",
           "title": {
            "standoff": 15
           },
           "zerolinecolor": "white",
           "zerolinewidth": 2
          }
         }
        }
       }
      },
      "text/html": [
       "<div>                            <div id=\"b161ebb8-0546-40a6-90e1-3ac378c8fd88\" class=\"plotly-graph-div\" style=\"height:525px; width:100%;\"></div>            <script type=\"text/javascript\">                require([\"plotly\"], function(Plotly) {                    window.PLOTLYENV=window.PLOTLYENV || {};                                    if (document.getElementById(\"b161ebb8-0546-40a6-90e1-3ac378c8fd88\")) {                    Plotly.newPlot(                        \"b161ebb8-0546-40a6-90e1-3ac378c8fd88\",                        [{\"customdata\":[[4],[1],[1],[1],[1],[3],[1],[2],[2],[34],[2],[1],[1],[1],[23],[2],[1],[1],[1],[2],[3],[2],[3],[1],[10],[1],[3],[1],[4],[1],[3],[1],[1],[11],[1],[1],[2],[1],[1],[2],[2],[1],[3],[2],[1],[2],[2],[2],[1],[1],[1],[1],[1],[3],[1],[1],[1],[1],[9],[1],[1],[29],[3],[1],[5],[1],[447],[3],[3],[2],[56],[2],[13],[1],[9],[2],[2],[4],[1],[5],[1],[1],[4],[10],[1],[2],[6],[2],[2],[1],[1],[1],[1],[2],[1],[8],[1],[1],[3],[7],[1],[3],[4],[1],[1],[1],[1],[2],[1],[1],[9],[1],[2],[1],[1],[1],[2],[1],[1]],\"hovertemplate\":\"<b>%{hovertext}</b><br><br>size=%{marker.size}<br>lat=%{lat}<br>lng=%{lon}<br>number of vacancies=%{customdata[0]}<br>median salary=%{marker.color}<extra></extra>\",\"hovertext\":[\"Aberdeen\",\"Abingdon\",\"Alfreton\",\"Bamber Bridge\",\"Basildon\",\"Basingstoke\",\"Bath\",\"Bedford\",\"Belper\",\"Birmingham\",\"Blackburn\",\"Borehamwood\",\"Bracknell\",\"Brighton\",\"Bristol\",\"Bromley\",\"Bromsgrove\",\"Cannock\",\"Carlisle\",\"Cheadle\",\"Chester\",\"Cirencester\",\"Colchester\",\"Cottenham\",\"Coventry\",\"Cringleford\",\"Croydon\",\"Darlington\",\"Derby\",\"Dudley\",\"Durham\",\"East Horsley\",\"Edgware\",\"Edinburgh\",\"Elstree\",\"Enfield\",\"Epsom\",\"Evesham\",\"Exeter\",\"Fareham\",\"Farnborough\",\"Fulwood\",\"Glasgow\",\"Guildford\",\"Hailsham\",\"Harpenden\",\"Harrogate\",\"Harrow\",\"Hemel Hempstead\",\"Hereford\",\"High Wycombe\",\"Horley\",\"Horsham\",\"Hounslow\",\"Hove\",\"Ilford\",\"Iver\",\"Kettering\",\"Knutsford\",\"Lancaster\",\"Leatherhead\",\"Leeds\",\"Leicester\",\"Lichfield\",\"Liverpool\",\"Llantrisant\",\"London\",\"Luton\",\"Macclesfield\",\"Maidstone\",\"Manchester\",\"Middlesbrough\",\"Milton Keynes\",\"Newbury\",\"Newport\",\"North Shields\",\"Norwich\",\"Nottingham\",\"Nursling\",\"Oxford\",\"Plymouth\",\"Poole\",\"Preston\",\"Reading\",\"Redditch\",\"Redhill\",\"Richmond\",\"Romford\",\"Royston\",\"Rushden\",\"Salford\",\"Sandhurst\",\"Scarborough\",\"Scunthorpe\",\"Sedbergh\",\"Sheffield\",\"Shirebrook\",\"Shoreham-by-Sea\",\"Slough\",\"Southampton\",\"Stafford\",\"Stockport\",\"Stoke-on-Trent\",\"Stratford-upon-Avon\",\"Sunderland\",\"Tewkesbury\",\"Thame\",\"Wakefield\",\"Warrington\",\"Waterlooville\",\"Watford\",\"West Bromwich\",\"Weybridge\",\"Willerby\",\"Windermere\",\"Woking\",\"Wolverhampton\",\"Worcester\",\"York\"],\"lat\":[57.15,51.667,53.097,53.7281,51.5761,51.2667,51.38,52.135,53.029,52.48,54.81,51.6578,51.416,50.8429,51.45,51.407,52.3353,52.691,54.891,53.1891,53.19,51.719,51.8917,52.2865,52.4081,52.6056,51.3727,54.527,52.9167,52.508,54.7761,51.261,51.6185,55.953,51.64,51.6522,51.336,52.092,50.7167,50.85,51.32455,53.365,55.8609,51.2365,50.8647,51.8175,53.9919,51.5836,51.7526,52.0565,51.6287,51.174,51.062,51.4668,50.8352,51.5588,51.521,52.3931,53.3025,54.047,51.295,53.7997,52.6333,52.6835,53.4,51.5423,51.5072,51.8783,53.2581,51.272,53.4794,54.5767,52.04,51.401,51.5833,55.0097,52.63,52.95,50.9449,51.7519,50.3714,50.7167,53.7578,51.4542,52.3069,51.2393,52.929500000000004,51.5768,52.82855,52.288,53.483,51.349,54.2773,53.5809,54.322,53.3833,53.2048,50.834,51.51,50.9,52.8066,53.4083,53.0,52.1928,54.9061,51.99,51.75,53.68,53.3917,50.88,51.655,52.519,51.362,53.7633,54.376,51.3162,52.5833,52.192,53.9583],\"legendgroup\":\"\",\"lon\":[-2.11,-1.283,-1.38,-2.6606,0.4886,-1.0876,-2.36,-0.47,-1.475,-1.9025,-3.0515,-0.2723,-0.749,-0.1313,-2.5833,0.021,-2.0579,-2.027,-2.944,-2.0989,-2.89,-1.968,0.903,0.1244,-1.5106,1.2433,-0.1099,-1.5526,-1.4667,-2.089,-1.5733,-0.433,-0.2729,-3.189,-0.3,-0.0808,-0.267,-1.947,-3.5333,-1.18,-0.33795,-1.544,-4.2514,-0.5703,0.2577,-0.3524,-1.5378,-0.3464,-0.4692,-2.716,-0.7482,-0.172,-0.325,-0.375,-0.1758,0.0855,-0.507,-0.7229,-2.3708,-2.801,-0.329,-1.5492,-1.1333,-1.8265,-2.9833,-3.3785,-0.1275,-0.4147,-2.1274,0.529,-2.2453,-1.2355,-0.76,-1.323,-2.3787,-1.4448,1.297,-1.15,-1.4727,-1.2578,-4.1422,-1.9833,-1.4479499999999998,-0.9731,-1.9492,-0.1726,-1.0190000000000001,0.1801,-0.7351,-0.601,-2.2931,-0.8,-0.4017,-0.6502,-2.526,-1.4667,-1.2197,-0.273,-0.59,-1.4,-2.1171,-2.1494,-2.1833,-1.7064,-1.3811,-2.16,-0.97,-1.49,-2.5972,-1.03,-0.3957,-1.995,-0.453,-0.4504,-2.907,-0.561,-2.1333,-2.22,-1.0803],\"marker\":{\"color\":[47500.0,45000.0,27250.0,45500.0,35000.0,27500.0,31500.0,42000.0,29188.5,50000.0,40000.0,28000.0,34220.0,57500.0,47500.0,53250.0,27500.0,60000.0,60000.0,38000.0,38000.0,32500.0,35500.0,30500.0,38750.0,27500.0,60000.0,60000.0,47500.0,39896.0,50000.0,65000.0,60000.0,60000.0,37500.0,60000.0,46250.0,30000.0,36500.0,40000.0,72500.0,26750.0,32500.0,49107.0,32500.0,93750.0,49250.0,36500.0,40000.0,70000.0,60000.0,23000.0,55000.0,43000.0,23000.0,60000.0,55000.0,37500.0,45000.0,60000.0,46500.0,50000.0,42500.0,50000.0,42500.0,35000.0,65000.0,52500.0,40000.0,47500.0,56250.0,44750.0,47500.0,75000.0,27945.5,34750.0,26500.0,29000.0,59487.0,50000.0,50000.0,60000.0,53274.5,53750.0,42500.0,52500.0,60000.0,57500.0,65000.0,27500.0,28500.0,42500.0,60000.0,28250.0,32500.0,40000.0,35000.0,55000.0,52500.0,55000.0,17000.0,39000.0,32500.0,47500.0,60000.0,60000.0,27500.0,34000.0,63000.0,55000.0,40000.0,16500.0,51342.0,40000.0,32500.0,46500.0,22500.0,20000.0,39000.0],\"coloraxis\":\"coloraxis\",\"size\":[20.0,10.0,10.0,10.0,10.0,17.320508075688775,10.0,14.142135623730951,14.142135623730951,58.309518948453004,14.142135623730951,10.0,10.0,10.0,47.958315233127195,14.142135623730951,10.0,10.0,10.0,14.142135623730951,17.320508075688775,14.142135623730951,17.320508075688775,10.0,31.622776601683793,10.0,17.320508075688775,10.0,20.0,10.0,17.320508075688775,10.0,10.0,33.166247903554,10.0,10.0,14.142135623730951,10.0,10.0,14.142135623730951,14.142135623730951,10.0,17.320508075688775,14.142135623730951,10.0,14.142135623730951,14.142135623730951,14.142135623730951,10.0,10.0,10.0,10.0,10.0,17.320508075688775,10.0,10.0,10.0,10.0,30.0,10.0,10.0,53.85164807134504,17.320508075688775,10.0,22.360679774997898,10.0,211.42374511865975,17.320508075688775,17.320508075688775,14.142135623730951,74.83314773547883,14.142135623730951,36.05551275463989,10.0,30.0,14.142135623730951,14.142135623730951,20.0,10.0,22.360679774997898,10.0,10.0,20.0,31.622776601683793,10.0,14.142135623730951,24.49489742783178,14.142135623730951,14.142135623730951,10.0,10.0,10.0,10.0,14.142135623730951,10.0,28.284271247461902,10.0,10.0,17.320508075688775,26.457513110645905,10.0,17.320508075688775,20.0,10.0,10.0,10.0,10.0,14.142135623730951,10.0,10.0,30.0,10.0,14.142135623730951,10.0,10.0,10.0,14.142135623730951,10.0,10.0],\"sizemode\":\"area\",\"sizeref\":0.13213984069916235},\"mode\":\"markers\",\"name\":\"\",\"showlegend\":false,\"subplot\":\"mapbox\",\"type\":\"scattermapbox\"}],                        {\"template\":{\"data\":{\"histogram2dcontour\":[{\"type\":\"histogram2dcontour\",\"colorbar\":{\"outlinewidth\":0,\"ticks\":\"\"},\"colorscale\":[[0.0,\"#0d0887\"],[0.1111111111111111,\"#46039f\"],[0.2222222222222222,\"#7201a8\"],[0.3333333333333333,\"#9c179e\"],[0.4444444444444444,\"#bd3786\"],[0.5555555555555556,\"#d8576b\"],[0.6666666666666666,\"#ed7953\"],[0.7777777777777778,\"#fb9f3a\"],[0.8888888888888888,\"#fdca26\"],[1.0,\"#f0f921\"]]}],\"choropleth\":[{\"type\":\"choropleth\",\"colorbar\":{\"outlinewidth\":0,\"ticks\":\"\"}}],\"histogram2d\":[{\"type\":\"histogram2d\",\"colorbar\":{\"outlinewidth\":0,\"ticks\":\"\"},\"colorscale\":[[0.0,\"#0d0887\"],[0.1111111111111111,\"#46039f\"],[0.2222222222222222,\"#7201a8\"],[0.3333333333333333,\"#9c179e\"],[0.4444444444444444,\"#bd3786\"],[0.5555555555555556,\"#d8576b\"],[0.6666666666666666,\"#ed7953\"],[0.7777777777777778,\"#fb9f3a\"],[0.8888888888888888,\"#fdca26\"],[1.0,\"#f0f921\"]]}],\"heatmap\":[{\"type\":\"heatmap\",\"colorbar\":{\"outlinewidth\":0,\"ticks\":\"\"},\"colorscale\":[[0.0,\"#0d0887\"],[0.1111111111111111,\"#46039f\"],[0.2222222222222222,\"#7201a8\"],[0.3333333333333333,\"#9c179e\"],[0.4444444444444444,\"#bd3786\"],[0.5555555555555556,\"#d8576b\"],[0.6666666666666666,\"#ed7953\"],[0.7777777777777778,\"#fb9f3a\"],[0.8888888888888888,\"#fdca26\"],[1.0,\"#f0f921\"]]}],\"heatmapgl\":[{\"type\":\"heatmapgl\",\"colorbar\":{\"outlinewidth\":0,\"ticks\":\"\"},\"colorscale\":[[0.0,\"#0d0887\"],[0.1111111111111111,\"#46039f\"],[0.2222222222222222,\"#7201a8\"],[0.3333333333333333,\"#9c179e\"],[0.4444444444444444,\"#bd3786\"],[0.5555555555555556,\"#d8576b\"],[0.6666666666666666,\"#ed7953\"],[0.7777777777777778,\"#fb9f3a\"],[0.8888888888888888,\"#fdca26\"],[1.0,\"#f0f921\"]]}],\"contourcarpet\":[{\"type\":\"contourcarpet\",\"colorbar\":{\"outlinewidth\":0,\"ticks\":\"\"}}],\"contour\":[{\"type\":\"contour\",\"colorbar\":{\"outlinewidth\":0,\"ticks\":\"\"},\"colorscale\":[[0.0,\"#0d0887\"],[0.1111111111111111,\"#46039f\"],[0.2222222222222222,\"#7201a8\"],[0.3333333333333333,\"#9c179e\"],[0.4444444444444444,\"#bd3786\"],[0.5555555555555556,\"#d8576b\"],[0.6666666666666666,\"#ed7953\"],[0.7777777777777778,\"#fb9f3a\"],[0.8888888888888888,\"#fdca26\"],[1.0,\"#f0f921\"]]}],\"surface\":[{\"type\":\"surface\",\"colorbar\":{\"outlinewidth\":0,\"ticks\":\"\"},\"colorscale\":[[0.0,\"#0d0887\"],[0.1111111111111111,\"#46039f\"],[0.2222222222222222,\"#7201a8\"],[0.3333333333333333,\"#9c179e\"],[0.4444444444444444,\"#bd3786\"],[0.5555555555555556,\"#d8576b\"],[0.6666666666666666,\"#ed7953\"],[0.7777777777777778,\"#fb9f3a\"],[0.8888888888888888,\"#fdca26\"],[1.0,\"#f0f921\"]]}],\"mesh3d\":[{\"type\":\"mesh3d\",\"colorbar\":{\"outlinewidth\":0,\"ticks\":\"\"}}],\"scatter\":[{\"fillpattern\":{\"fillmode\":\"overlay\",\"size\":10,\"solidity\":0.2},\"type\":\"scatter\"}],\"parcoords\":[{\"type\":\"parcoords\",\"line\":{\"colorbar\":{\"outlinewidth\":0,\"ticks\":\"\"}}}],\"scatterpolargl\":[{\"type\":\"scatterpolargl\",\"marker\":{\"colorbar\":{\"outlinewidth\":0,\"ticks\":\"\"}}}],\"bar\":[{\"error_x\":{\"color\":\"#2a3f5f\"},\"error_y\":{\"color\":\"#2a3f5f\"},\"marker\":{\"line\":{\"color\":\"#E5ECF6\",\"width\":0.5},\"pattern\":{\"fillmode\":\"overlay\",\"size\":10,\"solidity\":0.2}},\"type\":\"bar\"}],\"scattergeo\":[{\"type\":\"scattergeo\",\"marker\":{\"colorbar\":{\"outlinewidth\":0,\"ticks\":\"\"}}}],\"scatterpolar\":[{\"type\":\"scatterpolar\",\"marker\":{\"colorbar\":{\"outlinewidth\":0,\"ticks\":\"\"}}}],\"histogram\":[{\"marker\":{\"pattern\":{\"fillmode\":\"overlay\",\"size\":10,\"solidity\":0.2}},\"type\":\"histogram\"}],\"scattergl\":[{\"type\":\"scattergl\",\"marker\":{\"colorbar\":{\"outlinewidth\":0,\"ticks\":\"\"}}}],\"scatter3d\":[{\"type\":\"scatter3d\",\"line\":{\"colorbar\":{\"outlinewidth\":0,\"ticks\":\"\"}},\"marker\":{\"colorbar\":{\"outlinewidth\":0,\"ticks\":\"\"}}}],\"scattermapbox\":[{\"type\":\"scattermapbox\",\"marker\":{\"colorbar\":{\"outlinewidth\":0,\"ticks\":\"\"}}}],\"scatterternary\":[{\"type\":\"scatterternary\",\"marker\":{\"colorbar\":{\"outlinewidth\":0,\"ticks\":\"\"}}}],\"scattercarpet\":[{\"type\":\"scattercarpet\",\"marker\":{\"colorbar\":{\"outlinewidth\":0,\"ticks\":\"\"}}}],\"carpet\":[{\"aaxis\":{\"endlinecolor\":\"#2a3f5f\",\"gridcolor\":\"white\",\"linecolor\":\"white\",\"minorgridcolor\":\"white\",\"startlinecolor\":\"#2a3f5f\"},\"baxis\":{\"endlinecolor\":\"#2a3f5f\",\"gridcolor\":\"white\",\"linecolor\":\"white\",\"minorgridcolor\":\"white\",\"startlinecolor\":\"#2a3f5f\"},\"type\":\"carpet\"}],\"table\":[{\"cells\":{\"fill\":{\"color\":\"#EBF0F8\"},\"line\":{\"color\":\"white\"}},\"header\":{\"fill\":{\"color\":\"#C8D4E3\"},\"line\":{\"color\":\"white\"}},\"type\":\"table\"}],\"barpolar\":[{\"marker\":{\"line\":{\"color\":\"#E5ECF6\",\"width\":0.5},\"pattern\":{\"fillmode\":\"overlay\",\"size\":10,\"solidity\":0.2}},\"type\":\"barpolar\"}],\"pie\":[{\"automargin\":true,\"type\":\"pie\"}]},\"layout\":{\"autotypenumbers\":\"strict\",\"colorway\":[\"#636efa\",\"#EF553B\",\"#00cc96\",\"#ab63fa\",\"#FFA15A\",\"#19d3f3\",\"#FF6692\",\"#B6E880\",\"#FF97FF\",\"#FECB52\"],\"font\":{\"color\":\"#2a3f5f\"},\"hovermode\":\"closest\",\"hoverlabel\":{\"align\":\"left\"},\"paper_bgcolor\":\"white\",\"plot_bgcolor\":\"#E5ECF6\",\"polar\":{\"bgcolor\":\"#E5ECF6\",\"angularaxis\":{\"gridcolor\":\"white\",\"linecolor\":\"white\",\"ticks\":\"\"},\"radialaxis\":{\"gridcolor\":\"white\",\"linecolor\":\"white\",\"ticks\":\"\"}},\"ternary\":{\"bgcolor\":\"#E5ECF6\",\"aaxis\":{\"gridcolor\":\"white\",\"linecolor\":\"white\",\"ticks\":\"\"},\"baxis\":{\"gridcolor\":\"white\",\"linecolor\":\"white\",\"ticks\":\"\"},\"caxis\":{\"gridcolor\":\"white\",\"linecolor\":\"white\",\"ticks\":\"\"}},\"coloraxis\":{\"colorbar\":{\"outlinewidth\":0,\"ticks\":\"\"}},\"colorscale\":{\"sequential\":[[0.0,\"#0d0887\"],[0.1111111111111111,\"#46039f\"],[0.2222222222222222,\"#7201a8\"],[0.3333333333333333,\"#9c179e\"],[0.4444444444444444,\"#bd3786\"],[0.5555555555555556,\"#d8576b\"],[0.6666666666666666,\"#ed7953\"],[0.7777777777777778,\"#fb9f3a\"],[0.8888888888888888,\"#fdca26\"],[1.0,\"#f0f921\"]],\"sequentialminus\":[[0.0,\"#0d0887\"],[0.1111111111111111,\"#46039f\"],[0.2222222222222222,\"#7201a8\"],[0.3333333333333333,\"#9c179e\"],[0.4444444444444444,\"#bd3786\"],[0.5555555555555556,\"#d8576b\"],[0.6666666666666666,\"#ed7953\"],[0.7777777777777778,\"#fb9f3a\"],[0.8888888888888888,\"#fdca26\"],[1.0,\"#f0f921\"]],\"diverging\":[[0,\"#8e0152\"],[0.1,\"#c51b7d\"],[0.2,\"#de77ae\"],[0.3,\"#f1b6da\"],[0.4,\"#fde0ef\"],[0.5,\"#f7f7f7\"],[0.6,\"#e6f5d0\"],[0.7,\"#b8e186\"],[0.8,\"#7fbc41\"],[0.9,\"#4d9221\"],[1,\"#276419\"]]},\"xaxis\":{\"gridcolor\":\"white\",\"linecolor\":\"white\",\"ticks\":\"\",\"title\":{\"standoff\":15},\"zerolinecolor\":\"white\",\"automargin\":true,\"zerolinewidth\":2},\"yaxis\":{\"gridcolor\":\"white\",\"linecolor\":\"white\",\"ticks\":\"\",\"title\":{\"standoff\":15},\"zerolinecolor\":\"white\",\"automargin\":true,\"zerolinewidth\":2},\"scene\":{\"xaxis\":{\"backgroundcolor\":\"#E5ECF6\",\"gridcolor\":\"white\",\"linecolor\":\"white\",\"showbackground\":true,\"ticks\":\"\",\"zerolinecolor\":\"white\",\"gridwidth\":2},\"yaxis\":{\"backgroundcolor\":\"#E5ECF6\",\"gridcolor\":\"white\",\"linecolor\":\"white\",\"showbackground\":true,\"ticks\":\"\",\"zerolinecolor\":\"white\",\"gridwidth\":2},\"zaxis\":{\"backgroundcolor\":\"#E5ECF6\",\"gridcolor\":\"white\",\"linecolor\":\"white\",\"showbackground\":true,\"ticks\":\"\",\"zerolinecolor\":\"white\",\"gridwidth\":2}},\"shapedefaults\":{\"line\":{\"color\":\"#2a3f5f\"}},\"annotationdefaults\":{\"arrowcolor\":\"#2a3f5f\",\"arrowhead\":0,\"arrowwidth\":1},\"geo\":{\"bgcolor\":\"white\",\"landcolor\":\"#E5ECF6\",\"subunitcolor\":\"white\",\"showland\":true,\"showlakes\":true,\"lakecolor\":\"white\"},\"title\":{\"x\":0.05},\"mapbox\":{\"style\":\"light\"}}},\"mapbox\":{\"domain\":{\"x\":[0.0,1.0],\"y\":[0.0,1.0]},\"center\":{\"lat\":52.437336134453794,\"lon\":-1.276989915966387},\"zoom\":6,\"style\":\"carto-positron\"},\"coloraxis\":{\"colorbar\":{\"title\":{\"text\":\"median salary\"}},\"colorscale\":[[0.0,\"#0d0887\"],[0.1111111111111111,\"#46039f\"],[0.2222222222222222,\"#7201a8\"],[0.3333333333333333,\"#9c179e\"],[0.4444444444444444,\"#bd3786\"],[0.5555555555555556,\"#d8576b\"],[0.6666666666666666,\"#ed7953\"],[0.7777777777777778,\"#fb9f3a\"],[0.8888888888888888,\"#fdca26\"],[1.0,\"#f0f921\"]]},\"legend\":{\"tracegroupgap\":0,\"itemsizing\":\"constant\"},\"margin\":{\"t\":0,\"b\":0,\"l\":0,\"r\":0}},                        {\"responsive\": true}                    ).then(function(){\n",
       "                            \n",
       "var gd = document.getElementById('b161ebb8-0546-40a6-90e1-3ac378c8fd88');\n",
       "var x = new MutationObserver(function (mutations, observer) {{\n",
       "        var display = window.getComputedStyle(gd).display;\n",
       "        if (!display || display === 'none') {{\n",
       "            console.log([gd, 'removed!']);\n",
       "            Plotly.purge(gd);\n",
       "            observer.disconnect();\n",
       "        }}\n",
       "}});\n",
       "\n",
       "// Listen for the removal of the full notebook cells\n",
       "var notebookContainer = gd.closest('#notebook-container');\n",
       "if (notebookContainer) {{\n",
       "    x.observe(notebookContainer, {childList: true});\n",
       "}}\n",
       "\n",
       "// Listen for the clearing of the current output cell\n",
       "var outputEl = gd.closest('.output');\n",
       "if (outputEl) {{\n",
       "    x.observe(outputEl, {childList: true});\n",
       "}}\n",
       "\n",
       "                        })                };                });            </script>        </div>"
      ]
     },
     "metadata": {},
     "output_type": "display_data"
    }
   ],
   "source": [
    "visualiser.plot_map()"
   ]
  },
  {
   "cell_type": "code",
   "execution_count": 124,
   "id": "c75d823a",
   "metadata": {},
   "outputs": [],
   "source": [
    "deep_learning_frameworks = ['pytorch','tensorflow','keras']\n",
    "big_data = ['spark','hadoop','hive','kafka','bigquery']\n",
    "cloud_provider = ['aws','azure', 'gcp', 'ibm cloud'] \n",
    "programming_languages = ['python', 'sql', ' r ', 'sas', 'c++', 'java ', 'matlab', 'stata', 'julia']\n",
    "visualisation_tools = ['qlik sense','power bi', 'tableau']\n",
    "search_list = deep_learning_frameworks+big_data+cloud_provider+programming_languages+visualisation_tools\n",
    "\n",
    "visualiser.create_columns_based_on_words(search_list)"
   ]
  },
  {
   "cell_type": "code",
   "execution_count": 87,
   "id": "8a241d2e",
   "metadata": {},
   "outputs": [
    {
     "data": {
      "image/png": "[encoded data removed]",
      "text/plain": [
       "<Figure size 1296x720 with 4 Axes>"
      ]
     },
     "metadata": {
      "needs_background": "light"
     },
     "output_type": "display_data"
    }
   ],
   "source": [
    "visualiser.plot_extacted_skills(deep_learning_frameworks,name = 'deep_learning_frameworks')"
   ]
  },
  {
   "cell_type": "code",
   "execution_count": 89,
   "id": "45485884",
   "metadata": {},
   "outputs": [
    {
     "data": {
      "image/png": "[encoded data removed]",
      "text/plain": [
       "<Figure size 1296x720 with 4 Axes>"
      ]
     },
     "metadata": {
      "needs_background": "light"
     },
     "output_type": "display_data"
    }
   ],
   "source": [
    "visualiser.plot_extacted_skills(big_data,name = 'big_data', normalisation = True)"
   ]
  },
  {
   "cell_type": "code",
   "execution_count": 90,
   "id": "14614459",
   "metadata": {},
   "outputs": [
    {
     "data": {
      "image/png": "[encoded data removed]",
      "text/plain": [
       "<Figure size 1296x720 with 4 Axes>"
      ]
     },
     "metadata": {
      "needs_background": "light"
     },
     "output_type": "display_data"
    }
   ],
   "source": [
    "visualiser.plot_extacted_skills(cloud_provider,name = 'cloud_provider', normalisation = True)"
   ]
  },
  {
   "cell_type": "code",
   "execution_count": 126,
   "id": "bb411449",
   "metadata": {},
   "outputs": [
    {
     "data": {
      "image/png": "[encoded data removed]",
      "text/plain": [
       "<Figure size 1296x720 with 4 Axes>"
      ]
     },
     "metadata": {
      "needs_background": "light"
     },
     "output_type": "display_data"
    }
   ],
   "source": [
    "visualiser.plot_extacted_skills(programming_languages, name = 'programming_languages', normalisation = True)"
   ]
  },
  {
   "cell_type": "code",
   "execution_count": 128,
   "id": "d6d8d7bd",
   "metadata": {},
   "outputs": [
    {
     "data": {
      "image/png": "[encoded data removed]",
      "text/plain": [
       "<Figure size 1296x720 with 4 Axes>"
      ]
     },
     "metadata": {
      "needs_background": "light"
     },
     "output_type": "display_data"
    }
   ],
   "source": [
    "visualiser.plot_extacted_skills(visualisation_tools, name = 'visualisation_tools', normalisation = True)"
   ]
  },
  {
   "cell_type": "code",
   "execution_count": 92,
   "id": "8e848b14",
   "metadata": {
    "scrolled": true
   },
   "outputs": [
    {
     "data": {
      "application/vnd.plotly.v1+json": {
       "config": {
        "plotlyServerURL": "https://plotly.com"
       },
       "data": [
        {
         "domain": {
          "x": [
           0,
           1
          ],
          "y": [
           0,
           1
          ]
         },
         "hole": 0.3,
         "hovertemplate": "label=%{label}<br>value=%{value}<extra></extra>",
         "labels": [
          "Harnham - Data & Analytics Recruitment",
          "Nigel Frank International",
          "eFinancialCareers",
          "Hays Specialist Recruitment Limited",
          "Jefferson Frank ",
          "Robert Walters",
          "Lorien",
          "Opus Recruitment Solutions Ltd",
          "ITECCO",
          "In Technology Group Limited",
          "Other"
         ],
         "legendgroup": "",
         "name": "",
         "showlegend": true,
         "type": "pie",
         "values": [
          207,
          78,
          77,
          53,
          33,
          28,
          22,
          21,
          17,
          15,
          860
         ]
        }
       ],
       "layout": {
        "legend": {
         "tracegroupgap": 0
        },
        "template": {
         "data": {
          "bar": [
           {
            "error_x": {
             "color": "#2a3f5f"
            },
            "error_y": {
             "color": "#2a3f5f"
            },
            "marker": {
             "line": {
              "color": "#E5ECF6",
              "width": 0.5
             },
             "pattern": {
              "fillmode": "overlay",
              "size": 10,
              "solidity": 0.2
             }
            },
            "type": "bar"
           }
          ],
          "barpolar": [
           {
            "marker": {
             "line": {
              "color": "#E5ECF6",
              "width": 0.5
             },
             "pattern": {
              "fillmode": "overlay",
              "size": 10,
              "solidity": 0.2
             }
            },
            "type": "barpolar"
           }
          ],
          "carpet": [
           {
            "aaxis": {
             "endlinecolor": "#2a3f5f",
             "gridcolor": "white",
             "linecolor": "white",
             "minorgridcolor": "white",
             "startlinecolor": "#2a3f5f"
            },
            "baxis": {
             "endlinecolor": "#2a3f5f",
             "gridcolor": "white",
             "linecolor": "white",
             "minorgridcolor": "white",
             "startlinecolor": "#2a3f5f"
            },
            "type": "carpet"
           }
          ],
          "choropleth": [
           {
            "colorbar": {
             "outlinewidth": 0,
             "ticks": ""
            },
            "type": "choropleth"
           }
          ],
          "contour": [
           {
            "colorbar": {
             "outlinewidth": 0,
             "ticks": ""
            },
            "colorscale": [
             [
              0,
              "#0d0887"
             ],
             [
              0.1111111111111111,
              "#46039f"
             ],
             [
              0.2222222222222222,
              "#7201a8"
             ],
             [
              0.3333333333333333,
              "#9c179e"
             ],
             [
              0.4444444444444444,
              "#bd3786"
             ],
             [
              0.5555555555555556,
              "#d8576b"
             ],
             [
              0.6666666666666666,
              "#ed7953"
             ],
             [
              0.7777777777777778,
              "#fb9f3a"
             ],
             [
              0.8888888888888888,
              "#fdca26"
             ],
             [
              1,
              "#f0f921"
             ]
            ],
            "type": "contour"
           }
          ],
          "contourcarpet": [
           {
            "colorbar": {
             "outlinewidth": 0,
             "ticks": ""
            },
            "type": "contourcarpet"
           }
          ],
          "heatmap": [
           {
            "colorbar": {
             "outlinewidth": 0,
             "ticks": ""
            },
            "colorscale": [
             [
              0,
              "#0d0887"
             ],
             [
              0.1111111111111111,
              "#46039f"
             ],
             [
              0.2222222222222222,
              "#7201a8"
             ],
             [
              0.3333333333333333,
              "#9c179e"
             ],
             [
              0.4444444444444444,
              "#bd3786"
             ],
             [
              0.5555555555555556,
              "#d8576b"
             ],
             [
              0.6666666666666666,
              "#ed7953"
             ],
             [
              0.7777777777777778,
              "#fb9f3a"
             ],
             [
              0.8888888888888888,
              "#fdca26"
             ],
             [
              1,
              "#f0f921"
             ]
            ],
            "type": "heatmap"
           }
          ],
          "heatmapgl": [
           {
            "colorbar": {
             "outlinewidth": 0,
             "ticks": ""
            },
            "colorscale": [
             [
              0,
              "#0d0887"
             ],
             [
              0.1111111111111111,
              "#46039f"
             ],
             [
              0.2222222222222222,
              "#7201a8"
             ],
             [
              0.3333333333333333,
              "#9c179e"
             ],
             [
              0.4444444444444444,
              "#bd3786"
             ],
             [
              0.5555555555555556,
              "#d8576b"
             ],
             [
              0.6666666666666666,
              "#ed7953"
             ],
             [
              0.7777777777777778,
              "#fb9f3a"
             ],
             [
              0.8888888888888888,
              "#fdca26"
             ],
             [
              1,
              "#f0f921"
             ]
            ],
            "type": "heatmapgl"
           }
          ],
          "histogram": [
           {
            "marker": {
             "pattern": {
              "fillmode": "overlay",
              "size": 10,
              "solidity": 0.2
             }
            },
            "type": "histogram"
           }
          ],
          "histogram2d": [
           {
            "colorbar": {
             "outlinewidth": 0,
             "ticks": ""
            },
            "colorscale": [
             [
              0,
              "#0d0887"
             ],
             [
              0.1111111111111111,
              "#46039f"
             ],
             [
              0.2222222222222222,
              "#7201a8"
             ],
             [
              0.3333333333333333,
              "#9c179e"
             ],
             [
              0.4444444444444444,
              "#bd3786"
             ],
             [
              0.5555555555555556,
              "#d8576b"
             ],
             [
              0.6666666666666666,
              "#ed7953"
             ],
             [
              0.7777777777777778,
              "#fb9f3a"
             ],
             [
              0.8888888888888888,
              "#fdca26"
             ],
             [
              1,
              "#f0f921"
             ]
            ],
            "type": "histogram2d"
           }
          ],
          "histogram2dcontour": [
           {
            "colorbar": {
             "outlinewidth": 0,
             "ticks": ""
            },
            "colorscale": [
             [
              0,
              "#0d0887"
             ],
             [
              0.1111111111111111,
              "#46039f"
             ],
             [
              0.2222222222222222,
              "#7201a8"
             ],
             [
              0.3333333333333333,
              "#9c179e"
             ],
             [
              0.4444444444444444,
              "#bd3786"
             ],
             [
              0.5555555555555556,
              "#d8576b"
             ],
             [
              0.6666666666666666,
              "#ed7953"
             ],
             [
              0.7777777777777778,
              "#fb9f3a"
             ],
             [
              0.8888888888888888,
              "#fdca26"
             ],
             [
              1,
              "#f0f921"
             ]
            ],
            "type": "histogram2dcontour"
           }
          ],
          "mesh3d": [
           {
            "colorbar": {
             "outlinewidth": 0,
             "ticks": ""
            },
            "type": "mesh3d"
           }
          ],
          "parcoords": [
           {
            "line": {
             "colorbar": {
              "outlinewidth": 0,
              "ticks": ""
             }
            },
            "type": "parcoords"
           }
          ],
          "pie": [
           {
            "automargin": true,
            "type": "pie"
           }
          ],
          "scatter": [
           {
            "fillpattern": {
             "fillmode": "overlay",
             "size": 10,
             "solidity": 0.2
            },
            "type": "scatter"
           }
          ],
          "scatter3d": [
           {
            "line": {
             "colorbar": {
              "outlinewidth": 0,
              "ticks": ""
             }
            },
            "marker": {
             "colorbar": {
              "outlinewidth": 0,
              "ticks": ""
             }
            },
            "type": "scatter3d"
           }
          ],
          "scattercarpet": [
           {
            "marker": {
             "colorbar": {
              "outlinewidth": 0,
              "ticks": ""
             }
            },
            "type": "scattercarpet"
           }
          ],
          "scattergeo": [
           {
            "marker": {
             "colorbar": {
              "outlinewidth": 0,
              "ticks": ""
             }
            },
            "type": "scattergeo"
           }
          ],
          "scattergl": [
           {
            "marker": {
             "colorbar": {
              "outlinewidth": 0,
              "ticks": ""
             }
            },
            "type": "scattergl"
           }
          ],
          "scattermapbox": [
           {
            "marker": {
             "colorbar": {
              "outlinewidth": 0,
              "ticks": ""
             }
            },
            "type": "scattermapbox"
           }
          ],
          "scatterpolar": [
           {
            "marker": {
             "colorbar": {
              "outlinewidth": 0,
              "ticks": ""
             }
            },
            "type": "scatterpolar"
           }
          ],
          "scatterpolargl": [
           {
            "marker": {
             "colorbar": {
              "outlinewidth": 0,
              "ticks": ""
             }
            },
            "type": "scatterpolargl"
           }
          ],
          "scatterternary": [
           {
            "marker": {
             "colorbar": {
              "outlinewidth": 0,
              "ticks": ""
             }
            },
            "type": "scatterternary"
           }
          ],
          "surface": [
           {
            "colorbar": {
             "outlinewidth": 0,
             "ticks": ""
            },
            "colorscale": [
             [
              0,
              "#0d0887"
             ],
             [
              0.1111111111111111,
              "#46039f"
             ],
             [
              0.2222222222222222,
              "#7201a8"
             ],
             [
              0.3333333333333333,
              "#9c179e"
             ],
             [
              0.4444444444444444,
              "#bd3786"
             ],
             [
              0.5555555555555556,
              "#d8576b"
             ],
             [
              0.6666666666666666,
              "#ed7953"
             ],
             [
              0.7777777777777778,
              "#fb9f3a"
             ],
             [
              0.8888888888888888,
              "#fdca26"
             ],
             [
              1,
              "#f0f921"
             ]
            ],
            "type": "surface"
           }
          ],
          "table": [
           {
            "cells": {
             "fill": {
              "color": "#EBF0F8"
             },
             "line": {
              "color": "white"
             }
            },
            "header": {
             "fill": {
              "color": "#C8D4E3"
             },
             "line": {
              "color": "white"
             }
            },
            "type": "table"
           }
          ]
         },
         "layout": {
          "annotationdefaults": {
           "arrowcolor": "#2a3f5f",
           "arrowhead": 0,
           "arrowwidth": 1
          },
          "autotypenumbers": "strict",
          "coloraxis": {
           "colorbar": {
            "outlinewidth": 0,
            "ticks": ""
           }
          },
          "colorscale": {
           "diverging": [
            [
             0,
             "#8e0152"
            ],
            [
             0.1,
             "#c51b7d"
            ],
            [
             0.2,
             "#de77ae"
            ],
            [
             0.3,
             "#f1b6da"
            ],
            [
             0.4,
             "#fde0ef"
            ],
            [
             0.5,
             "#f7f7f7"
            ],
            [
             0.6,
             "#e6f5d0"
            ],
            [
             0.7,
             "#b8e186"
            ],
            [
             0.8,
             "#7fbc41"
            ],
            [
             0.9,
             "#4d9221"
            ],
            [
             1,
             "#276419"
            ]
           ],
           "sequential": [
            [
             0,
             "#0d0887"
            ],
            [
             0.1111111111111111,
             "#46039f"
            ],
            [
             0.2222222222222222,
             "#7201a8"
            ],
            [
             0.3333333333333333,
             "#9c179e"
            ],
            [
             0.4444444444444444,
             "#bd3786"
            ],
            [
             0.5555555555555556,
             "#d8576b"
            ],
            [
             0.6666666666666666,
             "#ed7953"
            ],
            [
             0.7777777777777778,
             "#fb9f3a"
            ],
            [
             0.8888888888888888,
             "#fdca26"
            ],
            [
             1,
             "#f0f921"
            ]
           ],
           "sequentialminus": [
            [
             0,
             "#0d0887"
            ],
            [
             0.1111111111111111,
             "#46039f"
            ],
            [
             0.2222222222222222,
             "#7201a8"
            ],
            [
             0.3333333333333333,
             "#9c179e"
            ],
            [
             0.4444444444444444,
             "#bd3786"
            ],
            [
             0.5555555555555556,
             "#d8576b"
            ],
            [
             0.6666666666666666,
             "#ed7953"
            ],
            [
             0.7777777777777778,
             "#fb9f3a"
            ],
            [
             0.8888888888888888,
             "#fdca26"
            ],
            [
             1,
             "#f0f921"
            ]
           ]
          },
          "colorway": [
           "#636efa",
           "#EF553B",
           "#00cc96",
           "#ab63fa",
           "#FFA15A",
           "#19d3f3",
           "#FF6692",
           "#B6E880",
           "#FF97FF",
           "#FECB52"
          ],
          "font": {
           "color": "#2a3f5f"
          },
          "geo": {
           "bgcolor": "white",
           "lakecolor": "white",
           "landcolor": "#E5ECF6",
           "showlakes": true,
           "showland": true,
           "subunitcolor": "white"
          },
          "hoverlabel": {
           "align": "left"
          },
          "hovermode": "closest",
          "mapbox": {
           "style": "light"
          },
          "paper_bgcolor": "white",
          "plot_bgcolor": "#E5ECF6",
          "polar": {
           "angularaxis": {
            "gridcolor": "white",
            "linecolor": "white",
            "ticks": ""
           },
           "bgcolor": "#E5ECF6",
           "radialaxis": {
            "gridcolor": "white",
            "linecolor": "white",
            "ticks": ""
           }
          },
          "scene": {
           "xaxis": {
            "backgroundcolor": "#E5ECF6",
            "gridcolor": "white",
            "gridwidth": 2,
            "linecolor": "white",
            "showbackground": true,
            "ticks": "",
            "zerolinecolor": "white"
           },
           "yaxis": {
            "backgroundcolor": "#E5ECF6",
            "gridcolor": "white",
            "gridwidth": 2,
            "linecolor": "white",
            "showbackground": true,
            "ticks": "",
            "zerolinecolor": "white"
           },
           "zaxis": {
            "backgroundcolor": "#E5ECF6",
            "gridcolor": "white",
            "gridwidth": 2,
            "linecolor": "white",
            "showbackground": true,
            "ticks": "",
            "zerolinecolor": "white"
           }
          },
          "shapedefaults": {
           "line": {
            "color": "#2a3f5f"
           }
          },
          "ternary": {
           "aaxis": {
            "gridcolor": "white",
            "linecolor": "white",
            "ticks": ""
           },
           "baxis": {
            "gridcolor": "white",
            "linecolor": "white",
            "ticks": ""
           },
           "bgcolor": "#E5ECF6",
           "caxis": {
            "gridcolor": "white",
            "linecolor": "white",
            "ticks": ""
           }
          },
          "title": {
           "x": 0.05
          },
          "xaxis": {
           "automargin": true,
           "gridcolor": "white",
           "linecolor": "white",
           "ticks": "",
           "title": {
            "standoff": 15
           },
           "zerolinecolor": "white",
           "zerolinewidth": 2
          },
          "yaxis": {
           "automargin": true,
           "gridcolor": "white",
           "linecolor": "white",
           "ticks": "",
           "title": {
            "standoff": 15
           },
           "zerolinecolor": "white",
           "zerolinewidth": 2
          }
         }
        },
        "title": {
         "text": "Who is hiring?"
        }
       }
      },
      "text/html": [
       "<div>                            <div id=\"b88f56e6-ecc1-4a17-a760-a973e2de8f12\" class=\"plotly-graph-div\" style=\"height:525px; width:100%;\"></div>            <script type=\"text/javascript\">                require([\"plotly\"], function(Plotly) {                    window.PLOTLYENV=window.PLOTLYENV || {};                                    if (document.getElementById(\"b88f56e6-ecc1-4a17-a760-a973e2de8f12\")) {                    Plotly.newPlot(                        \"b88f56e6-ecc1-4a17-a760-a973e2de8f12\",                        [{\"domain\":{\"x\":[0.0,1.0],\"y\":[0.0,1.0]},\"hole\":0.3,\"hovertemplate\":\"label=%{label}<br>value=%{value}<extra></extra>\",\"labels\":[\"Harnham - Data & Analytics Recruitment\",\"Nigel Frank International\",\"eFinancialCareers\",\"Hays Specialist Recruitment Limited\",\"Jefferson Frank \",\"Robert Walters\",\"Lorien\",\"Opus Recruitment Solutions Ltd\",\"ITECCO\",\"In Technology Group Limited\",\"Other\"],\"legendgroup\":\"\",\"name\":\"\",\"showlegend\":true,\"values\":[207,78,77,53,33,28,22,21,17,15,860],\"type\":\"pie\"}],                        {\"template\":{\"data\":{\"histogram2dcontour\":[{\"type\":\"histogram2dcontour\",\"colorbar\":{\"outlinewidth\":0,\"ticks\":\"\"},\"colorscale\":[[0.0,\"#0d0887\"],[0.1111111111111111,\"#46039f\"],[0.2222222222222222,\"#7201a8\"],[0.3333333333333333,\"#9c179e\"],[0.4444444444444444,\"#bd3786\"],[0.5555555555555556,\"#d8576b\"],[0.6666666666666666,\"#ed7953\"],[0.7777777777777778,\"#fb9f3a\"],[0.8888888888888888,\"#fdca26\"],[1.0,\"#f0f921\"]]}],\"choropleth\":[{\"type\":\"choropleth\",\"colorbar\":{\"outlinewidth\":0,\"ticks\":\"\"}}],\"histogram2d\":[{\"type\":\"histogram2d\",\"colorbar\":{\"outlinewidth\":0,\"ticks\":\"\"},\"colorscale\":[[0.0,\"#0d0887\"],[0.1111111111111111,\"#46039f\"],[0.2222222222222222,\"#7201a8\"],[0.3333333333333333,\"#9c179e\"],[0.4444444444444444,\"#bd3786\"],[0.5555555555555556,\"#d8576b\"],[0.6666666666666666,\"#ed7953\"],[0.7777777777777778,\"#fb9f3a\"],[0.8888888888888888,\"#fdca26\"],[1.0,\"#f0f921\"]]}],\"heatmap\":[{\"type\":\"heatmap\",\"colorbar\":{\"outlinewidth\":0,\"ticks\":\"\"},\"colorscale\":[[0.0,\"#0d0887\"],[0.1111111111111111,\"#46039f\"],[0.2222222222222222,\"#7201a8\"],[0.3333333333333333,\"#9c179e\"],[0.4444444444444444,\"#bd3786\"],[0.5555555555555556,\"#d8576b\"],[0.6666666666666666,\"#ed7953\"],[0.7777777777777778,\"#fb9f3a\"],[0.8888888888888888,\"#fdca26\"],[1.0,\"#f0f921\"]]}],\"heatmapgl\":[{\"type\":\"heatmapgl\",\"colorbar\":{\"outlinewidth\":0,\"ticks\":\"\"},\"colorscale\":[[0.0,\"#0d0887\"],[0.1111111111111111,\"#46039f\"],[0.2222222222222222,\"#7201a8\"],[0.3333333333333333,\"#9c179e\"],[0.4444444444444444,\"#bd3786\"],[0.5555555555555556,\"#d8576b\"],[0.6666666666666666,\"#ed7953\"],[0.7777777777777778,\"#fb9f3a\"],[0.8888888888888888,\"#fdca26\"],[1.0,\"#f0f921\"]]}],\"contourcarpet\":[{\"type\":\"contourcarpet\",\"colorbar\":{\"outlinewidth\":0,\"ticks\":\"\"}}],\"contour\":[{\"type\":\"contour\",\"colorbar\":{\"outlinewidth\":0,\"ticks\":\"\"},\"colorscale\":[[0.0,\"#0d0887\"],[0.1111111111111111,\"#46039f\"],[0.2222222222222222,\"#7201a8\"],[0.3333333333333333,\"#9c179e\"],[0.4444444444444444,\"#bd3786\"],[0.5555555555555556,\"#d8576b\"],[0.6666666666666666,\"#ed7953\"],[0.7777777777777778,\"#fb9f3a\"],[0.8888888888888888,\"#fdca26\"],[1.0,\"#f0f921\"]]}],\"surface\":[{\"type\":\"surface\",\"colorbar\":{\"outlinewidth\":0,\"ticks\":\"\"},\"colorscale\":[[0.0,\"#0d0887\"],[0.1111111111111111,\"#46039f\"],[0.2222222222222222,\"#7201a8\"],[0.3333333333333333,\"#9c179e\"],[0.4444444444444444,\"#bd3786\"],[0.5555555555555556,\"#d8576b\"],[0.6666666666666666,\"#ed7953\"],[0.7777777777777778,\"#fb9f3a\"],[0.8888888888888888,\"#fdca26\"],[1.0,\"#f0f921\"]]}],\"mesh3d\":[{\"type\":\"mesh3d\",\"colorbar\":{\"outlinewidth\":0,\"ticks\":\"\"}}],\"scatter\":[{\"fillpattern\":{\"fillmode\":\"overlay\",\"size\":10,\"solidity\":0.2},\"type\":\"scatter\"}],\"parcoords\":[{\"type\":\"parcoords\",\"line\":{\"colorbar\":{\"outlinewidth\":0,\"ticks\":\"\"}}}],\"scatterpolargl\":[{\"type\":\"scatterpolargl\",\"marker\":{\"colorbar\":{\"outlinewidth\":0,\"ticks\":\"\"}}}],\"bar\":[{\"error_x\":{\"color\":\"#2a3f5f\"},\"error_y\":{\"color\":\"#2a3f5f\"},\"marker\":{\"line\":{\"color\":\"#E5ECF6\",\"width\":0.5},\"pattern\":{\"fillmode\":\"overlay\",\"size\":10,\"solidity\":0.2}},\"type\":\"bar\"}],\"scattergeo\":[{\"type\":\"scattergeo\",\"marker\":{\"colorbar\":{\"outlinewidth\":0,\"ticks\":\"\"}}}],\"scatterpolar\":[{\"type\":\"scatterpolar\",\"marker\":{\"colorbar\":{\"outlinewidth\":0,\"ticks\":\"\"}}}],\"histogram\":[{\"marker\":{\"pattern\":{\"fillmode\":\"overlay\",\"size\":10,\"solidity\":0.2}},\"type\":\"histogram\"}],\"scattergl\":[{\"type\":\"scattergl\",\"marker\":{\"colorbar\":{\"outlinewidth\":0,\"ticks\":\"\"}}}],\"scatter3d\":[{\"type\":\"scatter3d\",\"line\":{\"colorbar\":{\"outlinewidth\":0,\"ticks\":\"\"}},\"marker\":{\"colorbar\":{\"outlinewidth\":0,\"ticks\":\"\"}}}],\"scattermapbox\":[{\"type\":\"scattermapbox\",\"marker\":{\"colorbar\":{\"outlinewidth\":0,\"ticks\":\"\"}}}],\"scatterternary\":[{\"type\":\"scatterternary\",\"marker\":{\"colorbar\":{\"outlinewidth\":0,\"ticks\":\"\"}}}],\"scattercarpet\":[{\"type\":\"scattercarpet\",\"marker\":{\"colorbar\":{\"outlinewidth\":0,\"ticks\":\"\"}}}],\"carpet\":[{\"aaxis\":{\"endlinecolor\":\"#2a3f5f\",\"gridcolor\":\"white\",\"linecolor\":\"white\",\"minorgridcolor\":\"white\",\"startlinecolor\":\"#2a3f5f\"},\"baxis\":{\"endlinecolor\":\"#2a3f5f\",\"gridcolor\":\"white\",\"linecolor\":\"white\",\"minorgridcolor\":\"white\",\"startlinecolor\":\"#2a3f5f\"},\"type\":\"carpet\"}],\"table\":[{\"cells\":{\"fill\":{\"color\":\"#EBF0F8\"},\"line\":{\"color\":\"white\"}},\"header\":{\"fill\":{\"color\":\"#C8D4E3\"},\"line\":{\"color\":\"white\"}},\"type\":\"table\"}],\"barpolar\":[{\"marker\":{\"line\":{\"color\":\"#E5ECF6\",\"width\":0.5},\"pattern\":{\"fillmode\":\"overlay\",\"size\":10,\"solidity\":0.2}},\"type\":\"barpolar\"}],\"pie\":[{\"automargin\":true,\"type\":\"pie\"}]},\"layout\":{\"autotypenumbers\":\"strict\",\"colorway\":[\"#636efa\",\"#EF553B\",\"#00cc96\",\"#ab63fa\",\"#FFA15A\",\"#19d3f3\",\"#FF6692\",\"#B6E880\",\"#FF97FF\",\"#FECB52\"],\"font\":{\"color\":\"#2a3f5f\"},\"hovermode\":\"closest\",\"hoverlabel\":{\"align\":\"left\"},\"paper_bgcolor\":\"white\",\"plot_bgcolor\":\"#E5ECF6\",\"polar\":{\"bgcolor\":\"#E5ECF6\",\"angularaxis\":{\"gridcolor\":\"white\",\"linecolor\":\"white\",\"ticks\":\"\"},\"radialaxis\":{\"gridcolor\":\"white\",\"linecolor\":\"white\",\"ticks\":\"\"}},\"ternary\":{\"bgcolor\":\"#E5ECF6\",\"aaxis\":{\"gridcolor\":\"white\",\"linecolor\":\"white\",\"ticks\":\"\"},\"baxis\":{\"gridcolor\":\"white\",\"linecolor\":\"white\",\"ticks\":\"\"},\"caxis\":{\"gridcolor\":\"white\",\"linecolor\":\"white\",\"ticks\":\"\"}},\"coloraxis\":{\"colorbar\":{\"outlinewidth\":0,\"ticks\":\"\"}},\"colorscale\":{\"sequential\":[[0.0,\"#0d0887\"],[0.1111111111111111,\"#46039f\"],[0.2222222222222222,\"#7201a8\"],[0.3333333333333333,\"#9c179e\"],[0.4444444444444444,\"#bd3786\"],[0.5555555555555556,\"#d8576b\"],[0.6666666666666666,\"#ed7953\"],[0.7777777777777778,\"#fb9f3a\"],[0.8888888888888888,\"#fdca26\"],[1.0,\"#f0f921\"]],\"sequentialminus\":[[0.0,\"#0d0887\"],[0.1111111111111111,\"#46039f\"],[0.2222222222222222,\"#7201a8\"],[0.3333333333333333,\"#9c179e\"],[0.4444444444444444,\"#bd3786\"],[0.5555555555555556,\"#d8576b\"],[0.6666666666666666,\"#ed7953\"],[0.7777777777777778,\"#fb9f3a\"],[0.8888888888888888,\"#fdca26\"],[1.0,\"#f0f921\"]],\"diverging\":[[0,\"#8e0152\"],[0.1,\"#c51b7d\"],[0.2,\"#de77ae\"],[0.3,\"#f1b6da\"],[0.4,\"#fde0ef\"],[0.5,\"#f7f7f7\"],[0.6,\"#e6f5d0\"],[0.7,\"#b8e186\"],[0.8,\"#7fbc41\"],[0.9,\"#4d9221\"],[1,\"#276419\"]]},\"xaxis\":{\"gridcolor\":\"white\",\"linecolor\":\"white\",\"ticks\":\"\",\"title\":{\"standoff\":15},\"zerolinecolor\":\"white\",\"automargin\":true,\"zerolinewidth\":2},\"yaxis\":{\"gridcolor\":\"white\",\"linecolor\":\"white\",\"ticks\":\"\",\"title\":{\"standoff\":15},\"zerolinecolor\":\"white\",\"automargin\":true,\"zerolinewidth\":2},\"scene\":{\"xaxis\":{\"backgroundcolor\":\"#E5ECF6\",\"gridcolor\":\"white\",\"linecolor\":\"white\",\"showbackground\":true,\"ticks\":\"\",\"zerolinecolor\":\"white\",\"gridwidth\":2},\"yaxis\":{\"backgroundcolor\":\"#E5ECF6\",\"gridcolor\":\"white\",\"linecolor\":\"white\",\"showbackground\":true,\"ticks\":\"\",\"zerolinecolor\":\"white\",\"gridwidth\":2},\"zaxis\":{\"backgroundcolor\":\"#E5ECF6\",\"gridcolor\":\"white\",\"linecolor\":\"white\",\"showbackground\":true,\"ticks\":\"\",\"zerolinecolor\":\"white\",\"gridwidth\":2}},\"shapedefaults\":{\"line\":{\"color\":\"#2a3f5f\"}},\"annotationdefaults\":{\"arrowcolor\":\"#2a3f5f\",\"arrowhead\":0,\"arrowwidth\":1},\"geo\":{\"bgcolor\":\"white\",\"landcolor\":\"#E5ECF6\",\"subunitcolor\":\"white\",\"showland\":true,\"showlakes\":true,\"lakecolor\":\"white\"},\"title\":{\"x\":0.05},\"mapbox\":{\"style\":\"light\"}}},\"legend\":{\"tracegroupgap\":0},\"title\":{\"text\":\"Who is hiring?\"}},                        {\"responsive\": true}                    ).then(function(){\n",
       "                            \n",
       "var gd = document.getElementById('b88f56e6-ecc1-4a17-a760-a973e2de8f12');\n",
       "var x = new MutationObserver(function (mutations, observer) {{\n",
       "        var display = window.getComputedStyle(gd).display;\n",
       "        if (!display || display === 'none') {{\n",
       "            console.log([gd, 'removed!']);\n",
       "            Plotly.purge(gd);\n",
       "            observer.disconnect();\n",
       "        }}\n",
       "}});\n",
       "\n",
       "// Listen for the removal of the full notebook cells\n",
       "var notebookContainer = gd.closest('#notebook-container');\n",
       "if (notebookContainer) {{\n",
       "    x.observe(notebookContainer, {childList: true});\n",
       "}}\n",
       "\n",
       "// Listen for the clearing of the current output cell\n",
       "var outputEl = gd.closest('.output');\n",
       "if (outputEl) {{\n",
       "    x.observe(outputEl, {childList: true});\n",
       "}}\n",
       "\n",
       "                        })                };                });            </script>        </div>"
      ]
     },
     "metadata": {},
     "output_type": "display_data"
    }
   ],
   "source": [
    "visualiser.create_company_pie_chart(10)"
   ]
  },
  {
   "cell_type": "code",
   "execution_count": 129,
   "id": "1c5956dd",
   "metadata": {},
   "outputs": [],
   "source": [
    "dict_ = visualiser.extracted_skills_figs\n",
    "for name,pdf in dict_.items():\n",
    "    pdf.savefig(f'{name}_extracted_plot.pdf')"
   ]
  },
  {
   "cell_type": "code",
   "execution_count": 119,
   "id": "94a14dba",
   "metadata": {},
   "outputs": [],
   "source": [
    "df_temp = visualiser.initial_df.copy()"
   ]
  },
  {
   "cell_type": "code",
   "execution_count": 123,
   "id": "71d61993",
   "metadata": {},
   "outputs": [
    {
     "data": {
      "text/plain": [
       "Data Analyst      259\n",
       "Data Engineer     230\n",
       "Data Scientist     58\n",
       "Name: jobs_to_consider, dtype: int64"
      ]
     },
     "execution_count": 123,
     "metadata": {},
     "output_type": "execute_result"
    }
   ],
   "source": [
    "df_temp[df_temp.skills.notna()].jobs_to_consider.value_counts()"
   ]
  },
  {
   "cell_type": "code",
   "execution_count": 131,
   "id": "a18363a7",
   "metadata": {},
   "outputs": [],
   "source": [
    "df_temp = visualiser.extacted_skills_df.copy()"
   ]
  },
  {
   "cell_type": "code",
   "execution_count": 136,
   "id": "8cf85d5d",
   "metadata": {},
   "outputs": [],
   "source": [
    "df_temp_deep = df_temp[['pytorch','tensorflow']].copy()"
   ]
  },
  {
   "cell_type": "code",
   "execution_count": 137,
   "id": "0a55d70a",
   "metadata": {},
   "outputs": [],
   "source": [
    "df_temp_deep['sum'] = df_temp['pytorch']+df_temp['tensorflow']"
   ]
  },
  {
   "cell_type": "code",
   "execution_count": 139,
   "id": "bc0c4205",
   "metadata": {},
   "outputs": [
    {
     "data": {
      "text/plain": [
       "pytorch  tensorflow  sum\n",
       "0        0           0      1382\n",
       "         1           1        10\n",
       "1        1           2        10\n",
       "         0           1         9\n",
       "dtype: int64"
      ]
     },
     "execution_count": 139,
     "metadata": {},
     "output_type": "execute_result"
    }
   ],
   "source": [
    "df_temp_deep.value_counts()"
   ]
  },
  {
   "cell_type": "code",
   "execution_count": 144,
   "id": "a6dc9c5d",
   "metadata": {},
   "outputs": [],
   "source": [
    "df_temp_python = df_temp[[' r ','python']].copy()"
   ]
  },
  {
   "cell_type": "code",
   "execution_count": 145,
   "id": "b647a415",
   "metadata": {},
   "outputs": [
    {
     "data": {
      "text/plain": [
       " r   python  sum\n",
       "0    0       0      709\n",
       "     1       1      645\n",
       "1    1       2       55\n",
       "     0       1        2\n",
       "dtype: int64"
      ]
     },
     "execution_count": 145,
     "metadata": {},
     "output_type": "execute_result"
    }
   ],
   "source": [
    "df_temp_python['sum'] = df_temp[' r ']+df_temp['python']\n",
    "df_temp_python.value_counts()"
   ]
  },
  {
   "cell_type": "code",
   "execution_count": 147,
   "id": "08d69017",
   "metadata": {},
   "outputs": [
    {
     "data": {
      "text/plain": [
       "power bi  tableau  sum\n",
       "0         0        0      1012\n",
       "1         0        1       227\n",
       "0         1        1        87\n",
       "1         1        2        85\n",
       "dtype: int64"
      ]
     },
     "execution_count": 147,
     "metadata": {},
     "output_type": "execute_result"
    }
   ],
   "source": [
    "df_temp_bi = df_temp[['power bi','tableau']].copy()\n",
    "df_temp_bi['sum'] = df_temp['power bi']+df_temp['tableau']\n",
    "df_temp_bi.value_counts()"
   ]
  },
  {
   "cell_type": "code",
   "execution_count": null,
   "id": "6c1878f0",
   "metadata": {},
   "outputs": [],
   "source": []
  }
 ],
 "metadata": {
  "kernelspec": {
   "display_name": "Python 3 (ipykernel)",
   "language": "python",
   "name": "python3"
  },
  "language_info": {
   "codemirror_mode": {
    "name": "ipython",
    "version": 3
   },
   "file_extension": ".py",
   "mimetype": "text/x-python",
   "name": "python",
   "nbconvert_exporter": "python",
   "pygments_lexer": "ipython3",
   "version": "3.8.8"
  }
 },
 "nbformat": 4,
 "nbformat_minor": 5
}
